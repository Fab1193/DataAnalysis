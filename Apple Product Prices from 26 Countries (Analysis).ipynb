{
 "cells": [
  {
   "cell_type": "markdown",
   "id": "8e46050f",
   "metadata": {},
   "source": [
    "This data was cleaned before (https://github.com/Fab1193/DataAnalysis/blob/main/Apple%20Product%20Prices%20from%2026%20Countries%20(Data%20Cleaning).ipynb)"
   ]
  },
  {
   "cell_type": "code",
   "execution_count": null,
   "id": "0c421468",
   "metadata": {},
   "outputs": [],
   "source": [
    "import numpy as np\n",
    "import pandas as pd\n",
    "import geopandas as gp\n",
    "import osmnx as ox\n",
    "import re\n",
    "import folium\n",
    "import altair as alt\n",
    "import requests\n",
    "import warnings\n",
    "import matplotlib.pyplot as plt\n",
    "warnings.filterwarnings('ignore')"
   ]
  },
  {
   "cell_type": "markdown",
   "id": "c9b825a4",
   "metadata": {},
   "source": [
    "**Read csv file**"
   ]
  },
  {
   "cell_type": "code",
   "execution_count": null,
   "id": "94d21964",
   "metadata": {},
   "outputs": [],
   "source": [
    "datos = pd.read_csv('apple.csv')"
   ]
  },
  {
   "cell_type": "code",
   "execution_count": null,
   "id": "b6591f6a",
   "metadata": {},
   "outputs": [],
   "source": [
    "datos.head(5)"
   ]
  },
  {
   "cell_type": "markdown",
   "id": "5f0e0666",
   "metadata": {},
   "source": [
    "**Drop some columns that won't be used**"
   ]
  },
  {
   "cell_type": "code",
   "execution_count": null,
   "id": "1a681818",
   "metadata": {},
   "outputs": [],
   "source": [
    "df = datos.iloc[:,1:]\n",
    "df = datos.drop(['pid', 'price_local_currency','code'], axis = 1)\n",
    "df.head(5)"
   ]
  },
  {
   "cell_type": "code",
   "execution_count": null,
   "id": "1ff83b42",
   "metadata": {},
   "outputs": [],
   "source": [
    "df.describe()"
   ]
  },
  {
   "cell_type": "markdown",
   "id": "a65e53b0",
   "metadata": {},
   "source": [
    "There are only 26 countries in the table"
   ]
  },
  {
   "cell_type": "code",
   "execution_count": null,
   "id": "f1579532",
   "metadata": {},
   "outputs": [],
   "source": [
    "len(df.country.unique())"
   ]
  },
  {
   "cell_type": "code",
   "execution_count": null,
   "id": "092f0fe0",
   "metadata": {},
   "outputs": [],
   "source": [
    "df.model.value_counts()"
   ]
  },
  {
   "cell_type": "markdown",
   "id": "3047ab4f",
   "metadata": {},
   "source": [
    "Some products are not present in all countries. Sportband is misspelled, so it needs to be changed. Only products presented in all countries are going to be evaluated."
   ]
  },
  {
   "cell_type": "code",
   "execution_count": null,
   "id": "871d0f85",
   "metadata": {},
   "outputs": [],
   "source": [
    "for i in range (0, len(df.model)):\n",
    "    if \"Sportband\" in df.model[i]:\n",
    "        df['model'][i] = 'Sport Band'\n",
    "    else:\n",
    "        df['model'][i] = df.model[i]"
   ]
  },
  {
   "cell_type": "code",
   "execution_count": null,
   "id": "2fa37686",
   "metadata": {},
   "outputs": [],
   "source": [
    "df = df[-df[\"model\"].isin(['AirPods(3rd generation)', 'iPhone 13', 'iPhone 13 Pro', \n",
    "                           'Apple TV HD', 'Apple TV HD','AirPods Max'])]"
   ]
  },
  {
   "cell_type": "code",
   "execution_count": null,
   "id": "1b3fb2b8",
   "metadata": {},
   "outputs": [],
   "source": [
    "df.model.value_counts()"
   ]
  },
  {
   "cell_type": "code",
   "execution_count": null,
   "id": "b0ea024e",
   "metadata": {},
   "outputs": [],
   "source": [
    "df.dtypes"
   ]
  },
  {
   "cell_type": "markdown",
   "id": "a21fb131",
   "metadata": {},
   "source": [
    "**Importing shp file for geospatial chart**"
   ]
  },
  {
   "cell_type": "code",
   "execution_count": null,
   "id": "1ea054da",
   "metadata": {},
   "outputs": [],
   "source": [
    "countries = gp.read_file(\"geo_data/countries/World_Countries__Generalized_.shp\")   \n",
    "countries.head()"
   ]
  },
  {
   "cell_type": "code",
   "execution_count": null,
   "id": "51d1e1a2",
   "metadata": {
    "scrolled": true
   },
   "outputs": [],
   "source": [
    "countries = countries[countries[\"COUNTRY\"].isin(list(df.country.unique()))]\n",
    "countries.head()"
   ]
  },
  {
   "cell_type": "code",
   "execution_count": null,
   "id": "e9e0b868",
   "metadata": {},
   "outputs": [],
   "source": [
    "geo_df = countries.merge(df, left_on = 'COUNTRY', right_on = 'country')\n",
    "geo_df = geo_df[['model', 'country', 'region', 'income_group', 'price_usd', 'geometry']]\n",
    "geo_df.head(5)"
   ]
  },
  {
   "cell_type": "markdown",
   "id": "7cfabc94",
   "metadata": {},
   "source": [
    "**Plot function**"
   ]
  },
  {
   "cell_type": "code",
   "execution_count": null,
   "id": "24616db5",
   "metadata": {},
   "outputs": [],
   "source": [
    "class plot_data:\n",
    "    def __init__ (self, data):\n",
    "        self.__data = data\n",
    "        \n",
    "    @property\n",
    "    def data (self):\n",
    "        return self.__data\n",
    "    \n",
    "    @data.setter\n",
    "    def data (self, newdata):\n",
    "        self.__data = newdata    \n",
    "    \n",
    "    def density(self, x = 'variable', cat = 'model'):\n",
    "        plot = alt.Chart(df).mark_area().encode(\n",
    "            x = x + ':Q',\n",
    "            y = 'density:Q',\n",
    "            color = cat\n",
    "        ).transform_density(\n",
    "            density = x,\n",
    "            as_=[x, 'density'],\n",
    "            groupby=[cat],\n",
    "        ).properties(width=300).facet(\n",
    "            cat,\n",
    "            columns = 2\n",
    "        ).resolve_scale(\n",
    "            y = 'independent',\n",
    "            x = 'independent'\n",
    "        ).transform_filter(\n",
    "            'isValid(datum.' + cat + ')'\n",
    "        )\n",
    "        return plot \n",
    " \n",
    "\n",
    "    def map(self, column1 = 'variable1', column2 = 'variable2'):\n",
    "        m = folium.Map(zoom_start = 9, tiles = None)\n",
    "        folium.TileLayer('CartoDB positron',control=False).add_to(m)\n",
    "        \n",
    "        choropleth = folium.Choropleth(\n",
    "            geo_data = self.data,\n",
    "            data = self.data,\n",
    "            columns = [column1,column2],\n",
    "            key_on = \"feature.properties.\" + column1,\n",
    "            fill_color = 'YlGn',\n",
    "            highlight = True).add_to(m)\n",
    "\n",
    "        choropleth.geojson.add_child(\n",
    "            folium.features.GeoJsonTooltip([column1,column2], labels=True)\n",
    "        ).add_to(m)\n",
    "        return m\n",
    "\n",
    "    \n",
    "    def line(self, x = 'variable1', y = 'variable2', z = 'variable3', title = '', subtitle = '', xt = '', \n",
    "            yt= '', lt = ''):\n",
    "        input_dropdown = alt.binding_select(options = self.data[z].dropna().unique(), name = z +'   ')\n",
    "        selector = alt.selection_single(fields=[z], bind=input_dropdown)\n",
    "        plot_title = alt.TitleParams(title, subtitle=[subtitle])\n",
    "\n",
    "\n",
    "        plot = alt.Chart(self.data, \n",
    "                         title = plot_title\n",
    "                         ).mark_line().encode(\n",
    "            x = alt.X(x, title = xt),\n",
    "            y = alt.Y('mean('+ y + '):Q',\n",
    "                      title = yt),\n",
    "            color = alt.Color(z, legend = alt.Legend(title = lt)),\n",
    "            opacity = alt.condition(selector, alt.value(1.0), alt.value(0.1)),\n",
    "            tooltip = [x, z, y]\n",
    "        ).add_selection(\n",
    "            selector\n",
    "        ).transform_filter(\n",
    "            '(isValid(datum.' + z + '))'\n",
    "        ).properties(width=550, height=550)\n",
    "\n",
    "\n",
    "        plot = plot.configure(\n",
    "          title = alt.TitleConfig(\n",
    "            fontSize = 22,\n",
    "            align = \"center\",\n",
    "            color = \"#364547\"),\n",
    "          axis = alt.AxisConfig(\n",
    "            labelFontSize = 12,\n",
    "            titleFontSize = 12,\n",
    "            titleColor = \"#364547\"),\n",
    "          legend = alt.LegendConfig(\n",
    "            titleFontSize = 14,\n",
    "            labelFontSize = 10,\n",
    "            titleColor = \"#364547\"),\n",
    "          axisX = alt.AxisConfig(labelAngle = -90),\n",
    "          font = 'Roboto') \n",
    "        return plot\n",
    "    \n",
    "    def bar_product(self, x = 'variable1', y = 'variable2', z = 'variable3', \n",
    "                 article = 'article', xt = '', yt ='', zt = ''):\n",
    "\n",
    "        input_dropdown = alt.binding_select(options=self.data[z].dropna().unique(), name= z + '   ')\n",
    "        selector = alt.selection_single(fields=[z], bind=input_dropdown)\n",
    "\n",
    "\n",
    "        plot = alt.Chart(self.data, \n",
    "                         title = article + \" prices in 26 countries\"\n",
    "                         ).mark_bar().encode(\n",
    "            x = alt.X(x +':Q', title = xt),\n",
    "            y = alt.Y(y,\n",
    "                      title=yt),\n",
    "            color = alt.Color(z, legend = alt.Legend(title = zt)),\n",
    "            opacity = alt.condition(selector, alt.value(1.0), alt.value(0.1)),\n",
    "            tooltip = [z, y,\n",
    "                       x + ':Q']\n",
    "        ).add_selection(\n",
    "            selector\n",
    "        ).transform_filter(\n",
    "            '(isValid(datum.'+ z +'))'\n",
    "        ).properties(width=550, height=550)\n",
    "\n",
    "\n",
    "        plot = plot.configure(\n",
    "          title = alt.TitleConfig(\n",
    "            fontSize = 22,\n",
    "            align = \"center\",\n",
    "            color = \"#364547\"),\n",
    "          axis = alt.AxisConfig(\n",
    "            labelFontSize = 13,\n",
    "            titleFontSize = 13,\n",
    "            titleColor = \"#364547\"),\n",
    "          legend = alt.LegendConfig(\n",
    "            titleFontSize = 14,\n",
    "            labelFontSize = 13,\n",
    "            titleColor = \"#364547\"),\n",
    "          axisX = alt.AxisConfig(labelAngle = 0),\n",
    "          font = 'Roboto') \n",
    "\n",
    "        return display(plot)"
   ]
  },
  {
   "cell_type": "markdown",
   "id": "c42ef17e",
   "metadata": {},
   "source": [
    "**Pricing Density by product**"
   ]
  },
  {
   "cell_type": "code",
   "execution_count": null,
   "id": "e1b5a9ed",
   "metadata": {
    "scrolled": true
   },
   "outputs": [],
   "source": [
    "f = plot_data(df)\n",
    "f.density('price_usd', 'model')"
   ]
  },
  {
   "cell_type": "markdown",
   "id": "37eb1068",
   "metadata": {},
   "source": [
    "Countries share similar prices for all products, but the chart shows that there is al least one country where people pays more for the products"
   ]
  },
  {
   "cell_type": "markdown",
   "id": "ad79c64f",
   "metadata": {},
   "source": [
    "**Geospatial Chart**"
   ]
  },
  {
   "cell_type": "code",
   "execution_count": null,
   "id": "b1f89107",
   "metadata": {},
   "outputs": [],
   "source": [
    "f = plot_data(geo_df)\n",
    "f.map('country', 'price_usd')"
   ]
  },
  {
   "cell_type": "markdown",
   "id": "6998b965",
   "metadata": {},
   "source": [
    "This geospatial chart shows all the countries present in the data. According to this, Brazil is the most expensive country."
   ]
  },
  {
   "cell_type": "code",
   "execution_count": null,
   "id": "8acedf22",
   "metadata": {},
   "outputs": [],
   "source": [
    "f = plot_data(df)\n",
    "f.line('country', 'price_usd', 'model', title = 'Average Product Price', subtitle = 'By Product', xt = 'Country', \n",
    "       yt = 'Price', lt = 'Products')"
   ]
  },
  {
   "cell_type": "markdown",
   "id": "860a14ab",
   "metadata": {},
   "source": [
    "For all countries, the most expensive product is the 24-inch iMac², and the cheapest is the Sport Band. There is a peak in Brazil for all products, meaning that the price is higher. The United States is the cheapest country to buy."
   ]
  },
  {
   "cell_type": "code",
   "execution_count": null,
   "id": "22f8660b",
   "metadata": {},
   "outputs": [],
   "source": [
    "lis = df.model.unique()\n",
    "modelsdict = {elem : pd.DataFrame for elem in lis}\n",
    "for key in modelsdict.keys():\n",
    "    modelsdict[key] = df[:][df.model == key]"
   ]
  },
  {
   "cell_type": "markdown",
   "id": "0185f302",
   "metadata": {},
   "source": [
    "**Pricing comparison by product**"
   ]
  },
  {
   "cell_type": "code",
   "execution_count": null,
   "id": "38a8460f",
   "metadata": {},
   "outputs": [],
   "source": [
    "v = 0\n",
    "f = plot_data(data = list(modelsdict.values())[v])\n",
    "f.bar_product(x = 'price_usd', y = 'country', z = 'income_group', article = list(modelsdict.keys())[v], \n",
    "       xt = 'Price in USD', yt = 'Country', zt = 'Income Group')"
   ]
  },
  {
   "cell_type": "markdown",
   "id": "167f37f1",
   "metadata": {},
   "source": [
    "* In USA iPhone SE costs \\\\$399, in Brazil \\\\$661."
   ]
  },
  {
   "cell_type": "code",
   "execution_count": null,
   "id": "a0331613",
   "metadata": {},
   "outputs": [],
   "source": [
    "v = 1\n",
    "f = plot_data(data = list(modelsdict.values())[v])\n",
    "f.bar_product(x = 'price_usd', y = 'country', z = 'income_group', article = list(modelsdict.keys())[v], \n",
    "       xt = 'Price in USD', yt = 'Country', zt = 'Income Group')"
   ]
  },
  {
   "cell_type": "markdown",
   "id": "4012f22b",
   "metadata": {},
   "source": [
    "* iPhone 12 costs more in Brazil, and Turkey (\\\\$1020).\n",
    "* United States and Canada are the least expensive countries (\\\\$600)."
   ]
  },
  {
   "cell_type": "code",
   "execution_count": null,
   "id": "b481b5d1",
   "metadata": {},
   "outputs": [],
   "source": [
    "v = 2\n",
    "f = plot_data(data = list(modelsdict.values())[v])\n",
    "f.bar_product(x = 'price_usd', y = 'country', z = 'income_group', article = list(modelsdict.keys())[v], \n",
    "       xt = 'Price in USD', yt = 'Country', zt = 'Income Group')"
   ]
  },
  {
   "cell_type": "code",
   "execution_count": null,
   "id": "10c7f758",
   "metadata": {},
   "outputs": [],
   "source": [
    "v = 3\n",
    "f = plot_data(data = list(modelsdict.values())[v])\n",
    "f.bar_product(x = 'price_usd', y = 'country', z = 'income_group', article = list(modelsdict.keys())[v], \n",
    "       xt = 'Price in USD', yt = 'Country', zt = 'Income Group')"
   ]
  },
  {
   "cell_type": "markdown",
   "id": "f367662f",
   "metadata": {},
   "source": [
    "* The best price for the AirPods Pro and the AirPods(2nd generation) are in the US"
   ]
  },
  {
   "cell_type": "code",
   "execution_count": null,
   "id": "f09514a8",
   "metadata": {},
   "outputs": [],
   "source": [
    "v = 4\n",
    "f = plot_data(data = list(modelsdict.values())[v])\n",
    "f.bar_product(x = 'price_usd', y = 'country', z = 'income_group', article = list(modelsdict.keys())[v], \n",
    "       xt = 'Price in USD', yt = 'Country', zt = 'Income Group')"
   ]
  },
  {
   "cell_type": "markdown",
   "id": "bdc5f459",
   "metadata": {},
   "source": [
    "* The Apple TV is just $1 cheaper in US against Canada."
   ]
  },
  {
   "cell_type": "code",
   "execution_count": null,
   "id": "524f5086",
   "metadata": {},
   "outputs": [],
   "source": [
    "v = 5\n",
    "f = plot_data(data = list(modelsdict.values())[v])\n",
    "f.bar_product(x = 'price_usd', y = 'country', z = 'income_group', article = list(modelsdict.keys())[v], \n",
    "       xt = 'Price in USD', yt = 'Country', zt = 'Income Group')"
   ]
  },
  {
   "cell_type": "code",
   "execution_count": null,
   "id": "df36aaaf",
   "metadata": {},
   "outputs": [],
   "source": [
    "v = 6\n",
    "f = plot_data(data = list(modelsdict.values())[v])\n",
    "f.bar_product(x = 'price_usd', y = 'country', z = 'income_group', article = list(modelsdict.keys())[v], \n",
    "       xt = 'Price in USD', yt = 'Country', zt = 'Income Group')"
   ]
  },
  {
   "cell_type": "markdown",
   "id": "fa631950",
   "metadata": {},
   "source": [
    "* Apple Watch Series 3 and SE are cheaper in USA"
   ]
  },
  {
   "cell_type": "code",
   "execution_count": null,
   "id": "76381506",
   "metadata": {},
   "outputs": [],
   "source": [
    "v = 7\n",
    "f = plot_data(data = list(modelsdict.values())[v])\n",
    "f.bar_product(x = 'price_usd', y = 'country', z = 'income_group', article = list(modelsdict.keys())[v], \n",
    "       xt = 'Price in USD', yt = 'Country', zt = 'Income Group')"
   ]
  },
  {
   "cell_type": "markdown",
   "id": "7d6f2d30",
   "metadata": {},
   "source": [
    "* In Turkey, the Sport Band costs $10 less than in the US."
   ]
  },
  {
   "cell_type": "code",
   "execution_count": null,
   "id": "2641276f",
   "metadata": {},
   "outputs": [],
   "source": [
    "v = 8\n",
    "f = plot_data(data = list(modelsdict.values())[v])\n",
    "f.bar_product(x = 'price_usd', y = 'country', z = 'income_group', article = list(modelsdict.keys())[v], \n",
    "       xt = 'Price in USD', yt = 'Country', zt = 'Income Group')"
   ]
  },
  {
   "cell_type": "code",
   "execution_count": null,
   "id": "e95d4a63",
   "metadata": {},
   "outputs": [],
   "source": [
    "v = 9\n",
    "f = plot_data(data = list(modelsdict.values())[v])\n",
    "f.bar_product(x = 'price_usd', y = 'country', z = 'income_group', article = list(modelsdict.keys())[v], \n",
    "       xt = 'Price in USD', yt = 'Country', zt = 'Income Group')"
   ]
  },
  {
   "cell_type": "markdown",
   "id": "6518b135",
   "metadata": {},
   "source": [
    "- For the iPad and the rest of the products, prices in Europe are close to each other. Prices in Mexico are similar to the European ones."
   ]
  },
  {
   "cell_type": "code",
   "execution_count": null,
   "id": "db6e0466",
   "metadata": {},
   "outputs": [],
   "source": [
    "v = 10\n",
    "f = plot_data(data = list(modelsdict.values())[v])\n",
    "f.bar_product(x = 'price_usd', y = 'country', z = 'income_group', article = list(modelsdict.keys())[v], \n",
    "       xt = 'Price in USD', yt = 'Country', zt = 'Income Group')"
   ]
  },
  {
   "cell_type": "markdown",
   "id": "d4703dc1",
   "metadata": {},
   "source": [
    "- The best price for Apple Pencil is located in Turkey."
   ]
  },
  {
   "cell_type": "code",
   "execution_count": null,
   "id": "f6912735",
   "metadata": {},
   "outputs": [],
   "source": [
    "v = 11\n",
    "f = plot_data(data = list(modelsdict.values())[v])\n",
    "f.bar_product(x = 'price_usd', y = 'country', z = 'income_group', article = list(modelsdict.keys())[v], \n",
    "       xt = 'Price in USD', yt = 'Country', zt = 'Income Group')"
   ]
  },
  {
   "cell_type": "markdown",
   "id": "2dc3d46e",
   "metadata": {},
   "source": [
    "* Thailand is the cheapest country to buy the 24-inch iMac (\\\\$1293.32). The cost in Brazil is 2.42 times the price in the United States. (\\\\$3145.1)"
   ]
  },
  {
   "cell_type": "code",
   "execution_count": null,
   "id": "45249536",
   "metadata": {},
   "outputs": [],
   "source": [
    "v = 12\n",
    "f = plot_data(data = list(modelsdict.values())[v])\n",
    "f.bar_product(x = 'price_usd', y = 'country', z = 'income_group', article = list(modelsdict.keys())[v], \n",
    "       xt = 'Price in USD', yt = 'Country', zt = 'Income Group')"
   ]
  },
  {
   "cell_type": "markdown",
   "id": "2a864002",
   "metadata": {},
   "source": [
    "* MacBook Air is cheapest in Thailand."
   ]
  },
  {
   "cell_type": "code",
   "execution_count": null,
   "id": "9cfd3bfc",
   "metadata": {},
   "outputs": [],
   "source": [
    "v = 13\n",
    "f = plot_data(data = list(modelsdict.values())[v])\n",
    "f.bar_product(x = 'price_usd', y = 'country', z = 'income_group', article = list(modelsdict.keys())[v], \n",
    "       xt = 'Price in USD', yt = 'Country', zt = 'Income Group')"
   ]
  },
  {
   "cell_type": "markdown",
   "id": "a246ab68",
   "metadata": {},
   "source": [
    "* Canada offers the best price for the Magic Mouse"
   ]
  },
  {
   "cell_type": "markdown",
   "id": "b90368bf",
   "metadata": {},
   "source": [
    "# Conclusions"
   ]
  },
  {
   "cell_type": "markdown",
   "id": "ceb5d9f4",
   "metadata": {},
   "source": [
    "* Brazil is the most expensive country to buy an Apple product.\n",
    "* Turkey is the cheapest country to buy the Apple Pencil, Sport Band.\n",
    "* iMac and MacBook Air are cheaper in Thailand.\n",
    "* United States is the best country to buy iPhone, Airpods, and iWatch.\n",
    "* Most of the European countries offer similar prices.\n",
    "* The prices in Mexico are similar to Europe.\n",
    "* Canada is closes to the US in most of the articles, and offers the best price for the Magic Mouse."
   ]
  }
 ],
 "metadata": {
  "kernelspec": {
   "display_name": "Python 3 (ipykernel)",
   "language": "python",
   "name": "python3"
  },
  "language_info": {
   "codemirror_mode": {
    "name": "ipython",
    "version": 3
   },
   "file_extension": ".py",
   "mimetype": "text/x-python",
   "name": "python",
   "nbconvert_exporter": "python",
   "pygments_lexer": "ipython3",
   "version": "3.9.7"
  }
 },
 "nbformat": 4,
 "nbformat_minor": 5
}
