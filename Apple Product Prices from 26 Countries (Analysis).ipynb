{
 "cells": [
  {
   "cell_type": "markdown",
   "id": "8e46050f",
   "metadata": {},
   "source": [
    "This data was cleaned before (https://github.com/Fab1193/DataAnalysis/blob/main/Apple%20Product%20Prices%20from%2026%20Countries%20(Data%20Cleaning).ipynb)"
   ]
  },
  {
   "cell_type": "code",
   "execution_count": 1,
   "id": "0c421468",
   "metadata": {},
   "outputs": [],
   "source": [
    "import numpy as np\n",
    "import pandas as pd\n",
    "import re\n",
    "import altair as alt\n",
    "import requests\n",
    "import warnings\n",
    "warnings.filterwarnings('ignore')"
   ]
  },
  {
   "cell_type": "markdown",
   "id": "c9b825a4",
   "metadata": {},
   "source": [
    "**Read csv file**"
   ]
  },
  {
   "cell_type": "code",
   "execution_count": 2,
   "id": "94d21964",
   "metadata": {},
   "outputs": [],
   "source": [
    "datos = pd.read_csv('apple.csv')"
   ]
  },
  {
   "cell_type": "code",
   "execution_count": 3,
   "id": "b6591f6a",
   "metadata": {},
   "outputs": [
    {
     "data": {
      "text/html": [
       "<div>\n",
       "<style scoped>\n",
       "    .dataframe tbody tr th:only-of-type {\n",
       "        vertical-align: middle;\n",
       "    }\n",
       "\n",
       "    .dataframe tbody tr th {\n",
       "        vertical-align: top;\n",
       "    }\n",
       "\n",
       "    .dataframe thead th {\n",
       "        text-align: right;\n",
       "    }\n",
       "</style>\n",
       "<table border=\"1\" class=\"dataframe\">\n",
       "  <thead>\n",
       "    <tr style=\"text-align: right;\">\n",
       "      <th></th>\n",
       "      <th>Unnamed: 0</th>\n",
       "      <th>pid</th>\n",
       "      <th>model</th>\n",
       "      <th>country</th>\n",
       "      <th>region</th>\n",
       "      <th>income_group</th>\n",
       "      <th>price_local_currency</th>\n",
       "      <th>code</th>\n",
       "      <th>price_usd</th>\n",
       "    </tr>\n",
       "  </thead>\n",
       "  <tbody>\n",
       "    <tr>\n",
       "      <th>0</th>\n",
       "      <td>0</td>\n",
       "      <td>0</td>\n",
       "      <td>iPhone 13</td>\n",
       "      <td>Australia</td>\n",
       "      <td>East Asia &amp; Pacific</td>\n",
       "      <td>High income</td>\n",
       "      <td>1199.0</td>\n",
       "      <td>AUD</td>\n",
       "      <td>867.67</td>\n",
       "    </tr>\n",
       "    <tr>\n",
       "      <th>1</th>\n",
       "      <td>1</td>\n",
       "      <td>1</td>\n",
       "      <td>iPhone SE</td>\n",
       "      <td>Australia</td>\n",
       "      <td>East Asia &amp; Pacific</td>\n",
       "      <td>High income</td>\n",
       "      <td>679.0</td>\n",
       "      <td>AUD</td>\n",
       "      <td>491.37</td>\n",
       "    </tr>\n",
       "    <tr>\n",
       "      <th>2</th>\n",
       "      <td>2</td>\n",
       "      <td>2</td>\n",
       "      <td>iPhone 12</td>\n",
       "      <td>Australia</td>\n",
       "      <td>East Asia &amp; Pacific</td>\n",
       "      <td>High income</td>\n",
       "      <td>999.0</td>\n",
       "      <td>AUD</td>\n",
       "      <td>722.94</td>\n",
       "    </tr>\n",
       "    <tr>\n",
       "      <th>3</th>\n",
       "      <td>3</td>\n",
       "      <td>3</td>\n",
       "      <td>AirPods(3rd generation)</td>\n",
       "      <td>Australia</td>\n",
       "      <td>East Asia &amp; Pacific</td>\n",
       "      <td>High income</td>\n",
       "      <td>279.0</td>\n",
       "      <td>AUD</td>\n",
       "      <td>201.90</td>\n",
       "    </tr>\n",
       "    <tr>\n",
       "      <th>4</th>\n",
       "      <td>4</td>\n",
       "      <td>4</td>\n",
       "      <td>AirPods Pro</td>\n",
       "      <td>Australia</td>\n",
       "      <td>East Asia &amp; Pacific</td>\n",
       "      <td>High income</td>\n",
       "      <td>399.0</td>\n",
       "      <td>AUD</td>\n",
       "      <td>288.74</td>\n",
       "    </tr>\n",
       "  </tbody>\n",
       "</table>\n",
       "</div>"
      ],
      "text/plain": [
       "   Unnamed: 0  pid                    model    country               region  \\\n",
       "0           0    0                iPhone 13  Australia  East Asia & Pacific   \n",
       "1           1    1                iPhone SE  Australia  East Asia & Pacific   \n",
       "2           2    2                iPhone 12  Australia  East Asia & Pacific   \n",
       "3           3    3  AirPods(3rd generation)  Australia  East Asia & Pacific   \n",
       "4           4    4              AirPods Pro  Australia  East Asia & Pacific   \n",
       "\n",
       "  income_group  price_local_currency code  price_usd  \n",
       "0  High income                1199.0  AUD     867.67  \n",
       "1  High income                 679.0  AUD     491.37  \n",
       "2  High income                 999.0  AUD     722.94  \n",
       "3  High income                 279.0  AUD     201.90  \n",
       "4  High income                 399.0  AUD     288.74  "
      ]
     },
     "execution_count": 3,
     "metadata": {},
     "output_type": "execute_result"
    }
   ],
   "source": [
    "datos.head(5)"
   ]
  },
  {
   "cell_type": "markdown",
   "id": "5f0e0666",
   "metadata": {},
   "source": [
    "**Drop some columns that won't be used**"
   ]
  },
  {
   "cell_type": "code",
   "execution_count": 4,
   "id": "1a681818",
   "metadata": {},
   "outputs": [
    {
     "data": {
      "text/html": [
       "<div>\n",
       "<style scoped>\n",
       "    .dataframe tbody tr th:only-of-type {\n",
       "        vertical-align: middle;\n",
       "    }\n",
       "\n",
       "    .dataframe tbody tr th {\n",
       "        vertical-align: top;\n",
       "    }\n",
       "\n",
       "    .dataframe thead th {\n",
       "        text-align: right;\n",
       "    }\n",
       "</style>\n",
       "<table border=\"1\" class=\"dataframe\">\n",
       "  <thead>\n",
       "    <tr style=\"text-align: right;\">\n",
       "      <th></th>\n",
       "      <th>Unnamed: 0</th>\n",
       "      <th>model</th>\n",
       "      <th>country</th>\n",
       "      <th>region</th>\n",
       "      <th>income_group</th>\n",
       "      <th>price_usd</th>\n",
       "    </tr>\n",
       "  </thead>\n",
       "  <tbody>\n",
       "    <tr>\n",
       "      <th>0</th>\n",
       "      <td>0</td>\n",
       "      <td>iPhone 13</td>\n",
       "      <td>Australia</td>\n",
       "      <td>East Asia &amp; Pacific</td>\n",
       "      <td>High income</td>\n",
       "      <td>867.67</td>\n",
       "    </tr>\n",
       "    <tr>\n",
       "      <th>1</th>\n",
       "      <td>1</td>\n",
       "      <td>iPhone SE</td>\n",
       "      <td>Australia</td>\n",
       "      <td>East Asia &amp; Pacific</td>\n",
       "      <td>High income</td>\n",
       "      <td>491.37</td>\n",
       "    </tr>\n",
       "    <tr>\n",
       "      <th>2</th>\n",
       "      <td>2</td>\n",
       "      <td>iPhone 12</td>\n",
       "      <td>Australia</td>\n",
       "      <td>East Asia &amp; Pacific</td>\n",
       "      <td>High income</td>\n",
       "      <td>722.94</td>\n",
       "    </tr>\n",
       "    <tr>\n",
       "      <th>3</th>\n",
       "      <td>3</td>\n",
       "      <td>AirPods(3rd generation)</td>\n",
       "      <td>Australia</td>\n",
       "      <td>East Asia &amp; Pacific</td>\n",
       "      <td>High income</td>\n",
       "      <td>201.90</td>\n",
       "    </tr>\n",
       "    <tr>\n",
       "      <th>4</th>\n",
       "      <td>4</td>\n",
       "      <td>AirPods Pro</td>\n",
       "      <td>Australia</td>\n",
       "      <td>East Asia &amp; Pacific</td>\n",
       "      <td>High income</td>\n",
       "      <td>288.74</td>\n",
       "    </tr>\n",
       "  </tbody>\n",
       "</table>\n",
       "</div>"
      ],
      "text/plain": [
       "   Unnamed: 0                    model    country               region  \\\n",
       "0           0                iPhone 13  Australia  East Asia & Pacific   \n",
       "1           1                iPhone SE  Australia  East Asia & Pacific   \n",
       "2           2                iPhone 12  Australia  East Asia & Pacific   \n",
       "3           3  AirPods(3rd generation)  Australia  East Asia & Pacific   \n",
       "4           4              AirPods Pro  Australia  East Asia & Pacific   \n",
       "\n",
       "  income_group  price_usd  \n",
       "0  High income     867.67  \n",
       "1  High income     491.37  \n",
       "2  High income     722.94  \n",
       "3  High income     201.90  \n",
       "4  High income     288.74  "
      ]
     },
     "execution_count": 4,
     "metadata": {},
     "output_type": "execute_result"
    }
   ],
   "source": [
    "df = datos.iloc[:,1:]\n",
    "df = datos.drop(['pid', 'price_local_currency','code'], axis = 1)\n",
    "df.head(5)"
   ]
  },
  {
   "cell_type": "code",
   "execution_count": 5,
   "id": "1ff83b42",
   "metadata": {},
   "outputs": [
    {
     "data": {
      "text/html": [
       "<div>\n",
       "<style scoped>\n",
       "    .dataframe tbody tr th:only-of-type {\n",
       "        vertical-align: middle;\n",
       "    }\n",
       "\n",
       "    .dataframe tbody tr th {\n",
       "        vertical-align: top;\n",
       "    }\n",
       "\n",
       "    .dataframe thead th {\n",
       "        text-align: right;\n",
       "    }\n",
       "</style>\n",
       "<table border=\"1\" class=\"dataframe\">\n",
       "  <thead>\n",
       "    <tr style=\"text-align: right;\">\n",
       "      <th></th>\n",
       "      <th>Unnamed: 0</th>\n",
       "      <th>price_usd</th>\n",
       "    </tr>\n",
       "  </thead>\n",
       "  <tbody>\n",
       "    <tr>\n",
       "      <th>count</th>\n",
       "      <td>443.000000</td>\n",
       "      <td>443.000000</td>\n",
       "    </tr>\n",
       "    <tr>\n",
       "      <th>mean</th>\n",
       "      <td>221.000000</td>\n",
       "      <td>526.057856</td>\n",
       "    </tr>\n",
       "    <tr>\n",
       "      <th>std</th>\n",
       "      <td>128.027341</td>\n",
       "      <td>470.676677</td>\n",
       "    </tr>\n",
       "    <tr>\n",
       "      <th>min</th>\n",
       "      <td>0.000000</td>\n",
       "      <td>37.580000</td>\n",
       "    </tr>\n",
       "    <tr>\n",
       "      <th>25%</th>\n",
       "      <td>110.500000</td>\n",
       "      <td>180.540000</td>\n",
       "    </tr>\n",
       "    <tr>\n",
       "      <th>50%</th>\n",
       "      <td>221.000000</td>\n",
       "      <td>329.000000</td>\n",
       "    </tr>\n",
       "    <tr>\n",
       "      <th>75%</th>\n",
       "      <td>331.500000</td>\n",
       "      <td>790.135000</td>\n",
       "    </tr>\n",
       "    <tr>\n",
       "      <th>max</th>\n",
       "      <td>442.000000</td>\n",
       "      <td>3145.100000</td>\n",
       "    </tr>\n",
       "  </tbody>\n",
       "</table>\n",
       "</div>"
      ],
      "text/plain": [
       "       Unnamed: 0    price_usd\n",
       "count  443.000000   443.000000\n",
       "mean   221.000000   526.057856\n",
       "std    128.027341   470.676677\n",
       "min      0.000000    37.580000\n",
       "25%    110.500000   180.540000\n",
       "50%    221.000000   329.000000\n",
       "75%    331.500000   790.135000\n",
       "max    442.000000  3145.100000"
      ]
     },
     "execution_count": 5,
     "metadata": {},
     "output_type": "execute_result"
    }
   ],
   "source": [
    "df.describe()"
   ]
  },
  {
   "cell_type": "markdown",
   "id": "a65e53b0",
   "metadata": {},
   "source": [
    "There are only 26 countries in the table"
   ]
  },
  {
   "cell_type": "code",
   "execution_count": 6,
   "id": "f1579532",
   "metadata": {},
   "outputs": [
    {
     "data": {
      "text/plain": [
       "26"
      ]
     },
     "execution_count": 6,
     "metadata": {},
     "output_type": "execute_result"
    }
   ],
   "source": [
    "len(df.country.unique())"
   ]
  },
  {
   "cell_type": "code",
   "execution_count": 7,
   "id": "092f0fe0",
   "metadata": {},
   "outputs": [
    {
     "data": {
      "text/plain": [
       "MacBook Air                      26\n",
       "iPhone 12                        26\n",
       "AirPods Pro                      26\n",
       "AirPods(2nd generation)          26\n",
       "Magic Mouse                      26\n",
       "Apple TV 4K                      26\n",
       "Apple Watch SE                   26\n",
       "Apple Watch Series 3             26\n",
       "iPhone SE                        26\n",
       "iPad                             26\n",
       "iPad Pro                         26\n",
       "Apple Pencil (2nd generation)    26\n",
       "24-inch iMac²                    26\n",
       "Sport Band                       25\n",
       "AirPods(3rd generation)          25\n",
       "iPhone 13                        21\n",
       "Apple TV HD                      17\n",
       "AirPods Max                      11\n",
       "iPhone 13 Pro                     5\n",
       "Sportband                         1\n",
       "Name: model, dtype: int64"
      ]
     },
     "execution_count": 7,
     "metadata": {},
     "output_type": "execute_result"
    }
   ],
   "source": [
    "df.model.value_counts()"
   ]
  },
  {
   "cell_type": "markdown",
   "id": "3047ab4f",
   "metadata": {},
   "source": [
    "Some products are not present in all countries. Sportband is misspelled, so it needs to be changed. Only products presented in all countries are going to be evaluated."
   ]
  },
  {
   "cell_type": "code",
   "execution_count": 8,
   "id": "871d0f85",
   "metadata": {},
   "outputs": [],
   "source": [
    "for i in range (0, len(df.model)):\n",
    "    if \"Sportband\" in df.model[i]:\n",
    "        df['model'][i] = 'Sport Band'\n",
    "    else:\n",
    "        df['model'][i] = df.model[i]"
   ]
  },
  {
   "cell_type": "code",
   "execution_count": 9,
   "id": "2fa37686",
   "metadata": {},
   "outputs": [],
   "source": [
    "df = df[-df[\"model\"].isin(['AirPods(3rd generation)', 'iPhone 13', 'iPhone 13 Pro', \n",
    "                           'Apple TV HD', 'Apple TV HD','AirPods Max'])]"
   ]
  },
  {
   "cell_type": "code",
   "execution_count": 10,
   "id": "1b3fb2b8",
   "metadata": {},
   "outputs": [
    {
     "data": {
      "text/plain": [
       "iPhone SE                        26\n",
       "iPhone 12                        26\n",
       "AirPods Pro                      26\n",
       "AirPods(2nd generation)          26\n",
       "Apple TV 4K                      26\n",
       "Apple Watch SE                   26\n",
       "Apple Watch Series 3             26\n",
       "Sport Band                       26\n",
       "iPad                             26\n",
       "iPad Pro                         26\n",
       "Apple Pencil (2nd generation)    26\n",
       "24-inch iMac²                    26\n",
       "MacBook Air                      26\n",
       "Magic Mouse                      26\n",
       "Name: model, dtype: int64"
      ]
     },
     "execution_count": 10,
     "metadata": {},
     "output_type": "execute_result"
    }
   ],
   "source": [
    "df.model.value_counts()"
   ]
  },
  {
   "cell_type": "code",
   "execution_count": 11,
   "id": "b0ea024e",
   "metadata": {},
   "outputs": [
    {
     "data": {
      "text/plain": [
       "Unnamed: 0        int64\n",
       "model            object\n",
       "country          object\n",
       "region           object\n",
       "income_group     object\n",
       "price_usd       float64\n",
       "dtype: object"
      ]
     },
     "execution_count": 11,
     "metadata": {},
     "output_type": "execute_result"
    }
   ],
   "source": [
    "df.dtypes"
   ]
  },
  {
   "cell_type": "markdown",
   "id": "7cfabc94",
   "metadata": {},
   "source": [
    "**Plot function**"
   ]
  },
  {
   "cell_type": "code",
   "execution_count": 12,
   "id": "24616db5",
   "metadata": {},
   "outputs": [],
   "source": [
    "class plot_data:\n",
    "    def __init__ (self, data):\n",
    "        self.__data = data\n",
    "        \n",
    "    @property\n",
    "    def data (self):\n",
    "        return self.__data\n",
    "    \n",
    "    @data.setter\n",
    "    def data (self, newdata):\n",
    "        self.__data = newdata    \n",
    "    \n",
    "    def density(self, x = 'variable', cat = 'model'):\n",
    "        plot = alt.Chart(df).mark_area().encode(\n",
    "            x = x + ':Q',\n",
    "            y = 'density:Q',\n",
    "            color = cat\n",
    "        ).transform_density(\n",
    "            density = x,\n",
    "            as_=[x, 'density'],\n",
    "            groupby=[cat],\n",
    "        ).properties(width=300).facet(\n",
    "            cat,\n",
    "            columns = 2\n",
    "        ).resolve_scale(\n",
    "            y = 'independent',\n",
    "            x = 'independent'\n",
    "        ).transform_filter(\n",
    "            'isValid(datum.' + cat + ')'\n",
    "        )\n",
    "        return plot \n",
    " \n",
    "\n",
    "    \n",
    "    def line(self, x = 'variable1', y = 'variable2', z = 'variable3', title = '', subtitle = '', xt = '', \n",
    "            yt= '', lt = ''):\n",
    "        input_dropdown = alt.binding_select(options = self.data[z].dropna().unique(), name = z +'   ')\n",
    "        selector = alt.selection_single(fields=[z], bind=input_dropdown)\n",
    "        plot_title = alt.TitleParams(title, subtitle=[subtitle])\n",
    "\n",
    "\n",
    "        plot = alt.Chart(self.data, \n",
    "                         title = plot_title\n",
    "                         ).mark_line().encode(\n",
    "            x = alt.X(x, title = xt),\n",
    "            y = alt.Y('mean('+ y + '):Q',\n",
    "                      title = yt),\n",
    "            color = alt.Color(z, legend = alt.Legend(title = lt)),\n",
    "            opacity = alt.condition(selector, alt.value(1.0), alt.value(0.1)),\n",
    "            tooltip = [x, z, y]\n",
    "        ).add_selection(\n",
    "            selector\n",
    "        ).transform_filter(\n",
    "            '(isValid(datum.' + z + '))'\n",
    "        ).properties(width=550, height=550)\n",
    "\n",
    "\n",
    "        plot = plot.configure(\n",
    "          title = alt.TitleConfig(\n",
    "            fontSize = 22,\n",
    "            align = \"center\",\n",
    "            color = \"#364547\"),\n",
    "          axis = alt.AxisConfig(\n",
    "            labelFontSize = 12,\n",
    "            titleFontSize = 12,\n",
    "            titleColor = \"#364547\"),\n",
    "          legend = alt.LegendConfig(\n",
    "            titleFontSize = 14,\n",
    "            labelFontSize = 10,\n",
    "            titleColor = \"#364547\"),\n",
    "          axisX = alt.AxisConfig(labelAngle = -90),\n",
    "          font = 'Roboto') \n",
    "        return plot\n",
    "    \n",
    "    def bar_product(self, x = 'variable1', y = 'variable2', z = 'variable3', \n",
    "                 article = 'article', xt = '', yt ='', zt = ''):\n",
    "\n",
    "        input_dropdown = alt.binding_select(options=self.data[z].dropna().unique(), name= z + '   ')\n",
    "        selector = alt.selection_single(fields=[z], bind=input_dropdown)\n",
    "\n",
    "\n",
    "        plot = alt.Chart(self.data, \n",
    "                         title = article + \" prices in 26 countries\"\n",
    "                         ).mark_bar().encode(\n",
    "            x = alt.X(x +':Q', title = xt),\n",
    "            y = alt.Y(y,\n",
    "                      title=yt),\n",
    "            color = alt.Color(z, legend = alt.Legend(title = zt)),\n",
    "            opacity = alt.condition(selector, alt.value(1.0), alt.value(0.1)),\n",
    "            tooltip = [z, y,\n",
    "                       x + ':Q']\n",
    "        ).add_selection(\n",
    "            selector\n",
    "        ).transform_filter(\n",
    "            '(isValid(datum.'+ z +'))'\n",
    "        ).properties(width=550, height=550)\n",
    "\n",
    "\n",
    "        plot = plot.configure(\n",
    "          title = alt.TitleConfig(\n",
    "            fontSize = 22,\n",
    "            align = \"center\",\n",
    "            color = \"#364547\"),\n",
    "          axis = alt.AxisConfig(\n",
    "            labelFontSize = 13,\n",
    "            titleFontSize = 13,\n",
    "            titleColor = \"#364547\"),\n",
    "          legend = alt.LegendConfig(\n",
    "            titleFontSize = 14,\n",
    "            labelFontSize = 13,\n",
    "            titleColor = \"#364547\"),\n",
    "          axisX = alt.AxisConfig(labelAngle = 0),\n",
    "          font = 'Roboto') \n",
    "\n",
    "        return display(plot)"
   ]
  },
  {
   "cell_type": "markdown",
   "id": "c42ef17e",
   "metadata": {},
   "source": [
    "**Pricing Density by product**"
   ]
  },
  {
   "cell_type": "code",
   "execution_count": 13,
   "id": "e1b5a9ed",
   "metadata": {
    "scrolled": true
   },
   "outputs": [
    {
     "data": {
      "text/html": [
       "\n",
       "<div id=\"altair-viz-dcfc4f3755bd45b38baef5d0a06dd9c9\"></div>\n",
       "<script type=\"text/javascript\">\n",
       "  (function(spec, embedOpt){\n",
       "    let outputDiv = document.currentScript.previousElementSibling;\n",
       "    if (outputDiv.id !== \"altair-viz-dcfc4f3755bd45b38baef5d0a06dd9c9\") {\n",
       "      outputDiv = document.getElementById(\"altair-viz-dcfc4f3755bd45b38baef5d0a06dd9c9\");\n",
       "    }\n",
       "    const paths = {\n",
       "      \"vega\": \"https://cdn.jsdelivr.net/npm//vega@5?noext\",\n",
       "      \"vega-lib\": \"https://cdn.jsdelivr.net/npm//vega-lib?noext\",\n",
       "      \"vega-lite\": \"https://cdn.jsdelivr.net/npm//vega-lite@4.8.1?noext\",\n",
       "      \"vega-embed\": \"https://cdn.jsdelivr.net/npm//vega-embed@6?noext\",\n",
       "    };\n",
       "\n",
       "    function loadScript(lib) {\n",
       "      return new Promise(function(resolve, reject) {\n",
       "        var s = document.createElement('script');\n",
       "        s.src = paths[lib];\n",
       "        s.async = true;\n",
       "        s.onload = () => resolve(paths[lib]);\n",
       "        s.onerror = () => reject(`Error loading script: ${paths[lib]}`);\n",
       "        document.getElementsByTagName(\"head\")[0].appendChild(s);\n",
       "      });\n",
       "    }\n",
       "\n",
       "    function showError(err) {\n",
       "      outputDiv.innerHTML = `<div class=\"error\" style=\"color:red;\">${err}</div>`;\n",
       "      throw err;\n",
       "    }\n",
       "\n",
       "    function displayChart(vegaEmbed) {\n",
       "      vegaEmbed(outputDiv, spec, embedOpt)\n",
       "        .catch(err => showError(`Javascript Error: ${err.message}<br>This usually means there's a typo in your chart specification. See the javascript console for the full traceback.`));\n",
       "    }\n",
       "\n",
       "    if(typeof define === \"function\" && define.amd) {\n",
       "      requirejs.config({paths});\n",
       "      require([\"vega-embed\"], displayChart, err => showError(`Error loading script: ${err.message}`));\n",
       "    } else if (typeof vegaEmbed === \"function\") {\n",
       "      displayChart(vegaEmbed);\n",
       "    } else {\n",
       "      loadScript(\"vega\")\n",
       "        .then(() => loadScript(\"vega-lite\"))\n",
       "        .then(() => loadScript(\"vega-embed\"))\n",
       "        .catch(showError)\n",
       "        .then(() => displayChart(vegaEmbed));\n",
       "    }\n",
       "  })({\"config\": {\"view\": {\"continuousWidth\": 400, \"continuousHeight\": 300}}, \"data\": {\"name\": \"data-c5e64c832f8e00bcfbab45c4f639c2d8\"}, \"facet\": {\"type\": \"nominal\", \"field\": \"model\"}, \"spec\": {\"mark\": \"area\", \"encoding\": {\"color\": {\"type\": \"nominal\", \"field\": \"model\"}, \"x\": {\"type\": \"quantitative\", \"field\": \"price_usd\"}, \"y\": {\"type\": \"quantitative\", \"field\": \"density\"}}, \"transform\": [{\"density\": \"price_usd\", \"groupby\": [\"model\"], \"as\": [\"price_usd\", \"density\"]}], \"width\": 300}, \"columns\": 2, \"resolve\": {\"scale\": {\"x\": \"independent\", \"y\": \"independent\"}}, \"transform\": [{\"filter\": \"isValid(datum.model)\"}], \"$schema\": \"https://vega.github.io/schema/vega-lite/v4.8.1.json\", \"datasets\": {\"data-c5e64c832f8e00bcfbab45c4f639c2d8\": [{\"Unnamed: 0\": 1, \"model\": \"iPhone SE\", \"country\": \"Australia\", \"region\": \"East Asia & Pacific\", \"income_group\": \"High income\", \"price_usd\": 491.37}, {\"Unnamed: 0\": 2, \"model\": \"iPhone 12\", \"country\": \"Australia\", \"region\": \"East Asia & Pacific\", \"income_group\": \"High income\", \"price_usd\": 722.94}, {\"Unnamed: 0\": 4, \"model\": \"AirPods Pro\", \"country\": \"Australia\", \"region\": \"East Asia & Pacific\", \"income_group\": \"High income\", \"price_usd\": 288.74}, {\"Unnamed: 0\": 5, \"model\": \"AirPods(2nd generation)\", \"country\": \"Australia\", \"region\": \"East Asia & Pacific\", \"income_group\": \"High income\", \"price_usd\": 158.48}, {\"Unnamed: 0\": 7, \"model\": \"Apple TV 4K\", \"country\": \"Australia\", \"region\": \"East Asia & Pacific\", \"income_group\": \"High income\", \"price_usd\": 180.19}, {\"Unnamed: 0\": 8, \"model\": \"Apple Watch SE\", \"country\": \"Australia\", \"region\": \"East Asia & Pacific\", \"income_group\": \"High income\", \"price_usd\": 310.45}, {\"Unnamed: 0\": 9, \"model\": \"Apple Watch Series 3\", \"country\": \"Australia\", \"region\": \"East Asia & Pacific\", \"income_group\": \"High income\", \"price_usd\": 216.38}, {\"Unnamed: 0\": 10, \"model\": \"Sport Band\", \"country\": \"Australia\", \"region\": \"East Asia & Pacific\", \"income_group\": \"High income\", \"price_usd\": 49.93}, {\"Unnamed: 0\": 11, \"model\": \"iPad\", \"country\": \"Australia\", \"region\": \"East Asia & Pacific\", \"income_group\": \"High income\", \"price_usd\": 361.11}, {\"Unnamed: 0\": 12, \"model\": \"iPad Pro\", \"country\": \"Australia\", \"region\": \"East Asia & Pacific\", \"income_group\": \"High income\", \"price_usd\": 867.67}, {\"Unnamed: 0\": 13, \"model\": \"Apple Pencil (2nd generation)\", \"country\": \"Australia\", \"region\": \"East Asia & Pacific\", \"income_group\": \"High income\", \"price_usd\": 144.01}, {\"Unnamed: 0\": 14, \"model\": \"24-inch iMac\\u00b2\", \"country\": \"Australia\", \"region\": \"East Asia & Pacific\", \"income_group\": \"High income\", \"price_usd\": 1374.24}, {\"Unnamed: 0\": 15, \"model\": \"MacBook Air\", \"country\": \"Australia\", \"region\": \"East Asia & Pacific\", \"income_group\": \"High income\", \"price_usd\": 1084.77}, {\"Unnamed: 0\": 16, \"model\": \"Magic Mouse\", \"country\": \"Australia\", \"region\": \"East Asia & Pacific\", \"income_group\": \"High income\", \"price_usd\": 78.88}, {\"Unnamed: 0\": 18, \"model\": \"iPhone SE\", \"country\": \"Austria\", \"region\": \"Europe & Central Asia\", \"income_group\": \"High income\", \"price_usd\": 543.9}, {\"Unnamed: 0\": 19, \"model\": \"iPhone 12\", \"country\": \"Austria\", \"region\": \"Europe & Central Asia\", \"income_group\": \"High income\", \"price_usd\": 771.0}, {\"Unnamed: 0\": 21, \"model\": \"AirPods Pro\", \"country\": \"Austria\", \"region\": \"Europe & Central Asia\", \"income_group\": \"High income\", \"price_usd\": 316.8}, {\"Unnamed: 0\": 22, \"model\": \"AirPods(2nd generation)\", \"country\": \"Austria\", \"region\": \"Europe & Central Asia\", \"income_group\": \"High income\", \"price_usd\": 169.19}, {\"Unnamed: 0\": 25, \"model\": \"Apple TV 4K\", \"country\": \"Austria\", \"region\": \"Europe & Central Asia\", \"income_group\": \"High income\", \"price_usd\": 225.96}, {\"Unnamed: 0\": 26, \"model\": \"Apple Watch SE\", \"country\": \"Austria\", \"region\": \"Europe & Central Asia\", \"income_group\": \"High income\", \"price_usd\": 339.51}, {\"Unnamed: 0\": 27, \"model\": \"Apple Watch Series 3\", \"country\": \"Austria\", \"region\": \"Europe & Central Asia\", \"income_group\": \"High income\", \"price_usd\": 248.67}, {\"Unnamed: 0\": 28, \"model\": \"Sport Band\", \"country\": \"Austria\", \"region\": \"Europe & Central Asia\", \"income_group\": \"High income\", \"price_usd\": 55.64}, {\"Unnamed: 0\": 29, \"model\": \"iPad\", \"country\": \"Austria\", \"region\": \"Europe & Central Asia\", \"income_group\": \"High income\", \"price_usd\": 430.35}, {\"Unnamed: 0\": 30, \"model\": \"iPad Pro\", \"country\": \"Austria\", \"region\": \"Europe & Central Asia\", \"income_group\": \"High income\", \"price_usd\": 998.1}, {\"Unnamed: 0\": 31, \"model\": \"Apple Pencil (2nd generation)\", \"country\": \"Austria\", \"region\": \"Europe & Central Asia\", \"income_group\": \"High income\", \"price_usd\": 153.29}, {\"Unnamed: 0\": 32, \"model\": \"24-inch iMac\\u00b2\", \"country\": \"Austria\", \"region\": \"Europe & Central Asia\", \"income_group\": \"High income\", \"price_usd\": 1645.34}, {\"Unnamed: 0\": 33, \"model\": \"MacBook Air\", \"country\": \"Austria\", \"region\": \"Europe & Central Asia\", \"income_group\": \"High income\", \"price_usd\": 1281.98}, {\"Unnamed: 0\": 34, \"model\": \"Magic Mouse\", \"country\": \"Austria\", \"region\": \"Europe & Central Asia\", \"income_group\": \"High income\", \"price_usd\": 96.52}, {\"Unnamed: 0\": 36, \"model\": \"iPhone SE\", \"country\": \"Germany\", \"region\": \"Europe & Central Asia\", \"income_group\": \"High income\", \"price_usd\": 543.9}, {\"Unnamed: 0\": 37, \"model\": \"iPhone 12\", \"country\": \"Germany\", \"region\": \"Europe & Central Asia\", \"income_group\": \"High income\", \"price_usd\": 771.0}, {\"Unnamed: 0\": 39, \"model\": \"AirPods Pro\", \"country\": \"Germany\", \"region\": \"Europe & Central Asia\", \"income_group\": \"High income\", \"price_usd\": 316.8}, {\"Unnamed: 0\": 40, \"model\": \"AirPods(2nd generation)\", \"country\": \"Germany\", \"region\": \"Europe & Central Asia\", \"income_group\": \"High income\", \"price_usd\": 169.19}, {\"Unnamed: 0\": 42, \"model\": \"Apple TV 4K\", \"country\": \"Germany\", \"region\": \"Europe & Central Asia\", \"income_group\": \"High income\", \"price_usd\": 225.96}, {\"Unnamed: 0\": 43, \"model\": \"Apple Watch SE\", \"country\": \"Germany\", \"region\": \"Europe & Central Asia\", \"income_group\": \"High income\", \"price_usd\": 339.51}, {\"Unnamed: 0\": 44, \"model\": \"Apple Watch Series 3\", \"country\": \"Germany\", \"region\": \"Europe & Central Asia\", \"income_group\": \"High income\", \"price_usd\": 248.67}, {\"Unnamed: 0\": 45, \"model\": \"Sport Band\", \"country\": \"Germany\", \"region\": \"Europe & Central Asia\", \"income_group\": \"High income\", \"price_usd\": 55.64}, {\"Unnamed: 0\": 46, \"model\": \"iPad\", \"country\": \"Germany\", \"region\": \"Europe & Central Asia\", \"income_group\": \"High income\", \"price_usd\": 430.35}, {\"Unnamed: 0\": 47, \"model\": \"iPad Pro\", \"country\": \"Germany\", \"region\": \"Europe & Central Asia\", \"income_group\": \"High income\", \"price_usd\": 998.1}, {\"Unnamed: 0\": 48, \"model\": \"Apple Pencil (2nd generation)\", \"country\": \"Germany\", \"region\": \"Europe & Central Asia\", \"income_group\": \"High income\", \"price_usd\": 153.29}, {\"Unnamed: 0\": 49, \"model\": \"24-inch iMac\\u00b2\", \"country\": \"Germany\", \"region\": \"Europe & Central Asia\", \"income_group\": \"High income\", \"price_usd\": 1645.34}, {\"Unnamed: 0\": 50, \"model\": \"MacBook Air\", \"country\": \"Germany\", \"region\": \"Europe & Central Asia\", \"income_group\": \"High income\", \"price_usd\": 1281.98}, {\"Unnamed: 0\": 51, \"model\": \"Magic Mouse\", \"country\": \"Germany\", \"region\": \"Europe & Central Asia\", \"income_group\": \"High income\", \"price_usd\": 96.52}, {\"Unnamed: 0\": 53, \"model\": \"iPhone SE\", \"country\": \"Spain\", \"region\": \"Europe & Central Asia\", \"income_group\": \"High income\", \"price_usd\": 555.26}, {\"Unnamed: 0\": 54, \"model\": \"iPhone 12\", \"country\": \"Spain\", \"region\": \"Europe & Central Asia\", \"income_group\": \"High income\", \"price_usd\": 782.36}, {\"Unnamed: 0\": 56, \"model\": \"AirPods Pro\", \"country\": \"Spain\", \"region\": \"Europe & Central Asia\", \"income_group\": \"High income\", \"price_usd\": 316.8}, {\"Unnamed: 0\": 57, \"model\": \"AirPods(2nd generation)\", \"country\": \"Spain\", \"region\": \"Europe & Central Asia\", \"income_group\": \"High income\", \"price_usd\": 169.19}, {\"Unnamed: 0\": 59, \"model\": \"Apple TV 4K\", \"country\": \"Spain\", \"region\": \"Europe & Central Asia\", \"income_group\": \"High income\", \"price_usd\": 225.96}, {\"Unnamed: 0\": 60, \"model\": \"Apple Watch SE\", \"country\": \"Spain\", \"region\": \"Europe & Central Asia\", \"income_group\": \"High income\", \"price_usd\": 339.51}, {\"Unnamed: 0\": 61, \"model\": \"Apple Watch Series 3\", \"country\": \"Spain\", \"region\": \"Europe & Central Asia\", \"income_group\": \"High income\", \"price_usd\": 248.67}, {\"Unnamed: 0\": 62, \"model\": \"Sport Band\", \"country\": \"Spain\", \"region\": \"Europe & Central Asia\", \"income_group\": \"High income\", \"price_usd\": 55.64}, {\"Unnamed: 0\": 63, \"model\": \"iPad\", \"country\": \"Spain\", \"region\": \"Europe & Central Asia\", \"income_group\": \"High income\", \"price_usd\": 430.35}, {\"Unnamed: 0\": 64, \"model\": \"iPad Pro\", \"country\": \"Spain\", \"region\": \"Europe & Central Asia\", \"income_group\": \"High income\", \"price_usd\": 998.1}, {\"Unnamed: 0\": 65, \"model\": \"Apple Pencil (2nd generation)\", \"country\": \"Spain\", \"region\": \"Europe & Central Asia\", \"income_group\": \"High income\", \"price_usd\": 153.29}, {\"Unnamed: 0\": 66, \"model\": \"24-inch iMac\\u00b2\", \"country\": \"Spain\", \"region\": \"Europe & Central Asia\", \"income_group\": \"High income\", \"price_usd\": 1645.34}, {\"Unnamed: 0\": 67, \"model\": \"MacBook Air\", \"country\": \"Spain\", \"region\": \"Europe & Central Asia\", \"income_group\": \"High income\", \"price_usd\": 1281.98}, {\"Unnamed: 0\": 68, \"model\": \"Magic Mouse\", \"country\": \"Spain\", \"region\": \"Europe & Central Asia\", \"income_group\": \"High income\", \"price_usd\": 96.52}, {\"Unnamed: 0\": 70, \"model\": \"iPhone SE\", \"country\": \"Finland\", \"region\": \"Europe & Central Asia\", \"income_group\": \"High income\", \"price_usd\": 566.61}, {\"Unnamed: 0\": 71, \"model\": \"iPhone 12\", \"country\": \"Finland\", \"region\": \"Europe & Central Asia\", \"income_group\": \"High income\", \"price_usd\": 805.07}, {\"Unnamed: 0\": 73, \"model\": \"AirPods Pro\", \"country\": \"Finland\", \"region\": \"Europe & Central Asia\", \"income_group\": \"High income\", \"price_usd\": 316.8}, {\"Unnamed: 0\": 74, \"model\": \"AirPods(2nd generation)\", \"country\": \"Finland\", \"region\": \"Europe & Central Asia\", \"income_group\": \"High income\", \"price_usd\": 169.19}, {\"Unnamed: 0\": 76, \"model\": \"Apple TV 4K\", \"country\": \"Finland\", \"region\": \"Europe & Central Asia\", \"income_group\": \"High income\", \"price_usd\": 225.96}, {\"Unnamed: 0\": 77, \"model\": \"Apple Watch SE\", \"country\": \"Finland\", \"region\": \"Europe & Central Asia\", \"income_group\": \"High income\", \"price_usd\": 350.87}, {\"Unnamed: 0\": 78, \"model\": \"Apple Watch Series 3\", \"country\": \"Finland\", \"region\": \"Europe & Central Asia\", \"income_group\": \"High income\", \"price_usd\": 260.03}, {\"Unnamed: 0\": 79, \"model\": \"Sport Band\", \"country\": \"Finland\", \"region\": \"Europe & Central Asia\", \"income_group\": \"High income\", \"price_usd\": 55.64}, {\"Unnamed: 0\": 80, \"model\": \"iPad\", \"country\": \"Finland\", \"region\": \"Europe & Central Asia\", \"income_group\": \"High income\", \"price_usd\": 453.06}, {\"Unnamed: 0\": 81, \"model\": \"iPad Pro\", \"country\": \"Finland\", \"region\": \"Europe & Central Asia\", \"income_group\": \"High income\", \"price_usd\": 1032.17}, {\"Unnamed: 0\": 82, \"model\": \"Apple Pencil (2nd generation)\", \"country\": \"Finland\", \"region\": \"Europe & Central Asia\", \"income_group\": \"High income\", \"price_usd\": 153.29}, {\"Unnamed: 0\": 83, \"model\": \"24-inch iMac\\u00b2\", \"country\": \"Finland\", \"region\": \"Europe & Central Asia\", \"income_group\": \"High income\", \"price_usd\": 1702.11}, {\"Unnamed: 0\": 84, \"model\": \"MacBook Air\", \"country\": \"Finland\", \"region\": \"Europe & Central Asia\", \"income_group\": \"High income\", \"price_usd\": 1316.04}, {\"Unnamed: 0\": 85, \"model\": \"Magic Mouse\", \"country\": \"Finland\", \"region\": \"Europe & Central Asia\", \"income_group\": \"High income\", \"price_usd\": 96.52}, {\"Unnamed: 0\": 87, \"model\": \"iPhone SE\", \"country\": \"France\", \"region\": \"Europe & Central Asia\", \"income_group\": \"High income\", \"price_usd\": 555.26}, {\"Unnamed: 0\": 88, \"model\": \"iPhone 12\", \"country\": \"France\", \"region\": \"Europe & Central Asia\", \"income_group\": \"High income\", \"price_usd\": 782.36}, {\"Unnamed: 0\": 90, \"model\": \"AirPods Pro\", \"country\": \"France\", \"region\": \"Europe & Central Asia\", \"income_group\": \"High income\", \"price_usd\": 316.8}, {\"Unnamed: 0\": 91, \"model\": \"AirPods(2nd generation)\", \"country\": \"France\", \"region\": \"Europe & Central Asia\", \"income_group\": \"High income\", \"price_usd\": 169.19}, {\"Unnamed: 0\": 93, \"model\": \"Apple TV 4K\", \"country\": \"France\", \"region\": \"Europe & Central Asia\", \"income_group\": \"High income\", \"price_usd\": 225.96}, {\"Unnamed: 0\": 94, \"model\": \"Apple Watch SE\", \"country\": \"France\", \"region\": \"Europe & Central Asia\", \"income_group\": \"High income\", \"price_usd\": 339.51}, {\"Unnamed: 0\": 95, \"model\": \"Apple Watch Series 3\", \"country\": \"France\", \"region\": \"Europe & Central Asia\", \"income_group\": \"High income\", \"price_usd\": 248.67}, {\"Unnamed: 0\": 96, \"model\": \"Sport Band\", \"country\": \"France\", \"region\": \"Europe & Central Asia\", \"income_group\": \"High income\", \"price_usd\": 55.64}, {\"Unnamed: 0\": 97, \"model\": \"iPad\", \"country\": \"France\", \"region\": \"Europe & Central Asia\", \"income_group\": \"High income\", \"price_usd\": 441.71}, {\"Unnamed: 0\": 98, \"model\": \"iPad Pro\", \"country\": \"France\", \"region\": \"Europe & Central Asia\", \"income_group\": \"High income\", \"price_usd\": 1020.81}, {\"Unnamed: 0\": 99, \"model\": \"Apple Pencil (2nd generation)\", \"country\": \"France\", \"region\": \"Europe & Central Asia\", \"income_group\": \"High income\", \"price_usd\": 153.29}, {\"Unnamed: 0\": 100, \"model\": \"24-inch iMac\\u00b2\", \"country\": \"France\", \"region\": \"Europe & Central Asia\", \"income_group\": \"High income\", \"price_usd\": 1645.34}, {\"Unnamed: 0\": 101, \"model\": \"MacBook Air\", \"country\": \"France\", \"region\": \"Europe & Central Asia\", \"income_group\": \"High income\", \"price_usd\": 1281.98}, {\"Unnamed: 0\": 102, \"model\": \"Magic Mouse\", \"country\": \"France\", \"region\": \"Europe & Central Asia\", \"income_group\": \"High income\", \"price_usd\": 96.52}, {\"Unnamed: 0\": 104, \"model\": \"iPhone SE\", \"country\": \"Ireland\", \"region\": \"Europe & Central Asia\", \"income_group\": \"High income\", \"price_usd\": 566.61}, {\"Unnamed: 0\": 105, \"model\": \"iPhone 12\", \"country\": \"Ireland\", \"region\": \"Europe & Central Asia\", \"income_group\": \"High income\", \"price_usd\": 805.07}, {\"Unnamed: 0\": 107, \"model\": \"AirPods Pro\", \"country\": \"Ireland\", \"region\": \"Europe & Central Asia\", \"income_group\": \"High income\", \"price_usd\": 316.8}, {\"Unnamed: 0\": 108, \"model\": \"AirPods(2nd generation)\", \"country\": \"Ireland\", \"region\": \"Europe & Central Asia\", \"income_group\": \"High income\", \"price_usd\": 169.19}, {\"Unnamed: 0\": 110, \"model\": \"Apple TV 4K\", \"country\": \"Ireland\", \"region\": \"Europe & Central Asia\", \"income_group\": \"High income\", \"price_usd\": 225.96}, {\"Unnamed: 0\": 111, \"model\": \"Apple Watch SE\", \"country\": \"Ireland\", \"region\": \"Europe & Central Asia\", \"income_group\": \"High income\", \"price_usd\": 339.51}, {\"Unnamed: 0\": 112, \"model\": \"Apple Watch Series 3\", \"country\": \"Ireland\", \"region\": \"Europe & Central Asia\", \"income_group\": \"High income\", \"price_usd\": 248.67}, {\"Unnamed: 0\": 113, \"model\": \"Sport Band\", \"country\": \"Ireland\", \"region\": \"Europe & Central Asia\", \"income_group\": \"High income\", \"price_usd\": 55.64}, {\"Unnamed: 0\": 114, \"model\": \"iPad\", \"country\": \"Ireland\", \"region\": \"Europe & Central Asia\", \"income_group\": \"High income\", \"price_usd\": 453.06}, {\"Unnamed: 0\": 115, \"model\": \"iPad Pro\", \"country\": \"Ireland\", \"region\": \"Europe & Central Asia\", \"income_group\": \"High income\", \"price_usd\": 1032.17}, {\"Unnamed: 0\": 116, \"model\": \"Apple Pencil (2nd generation)\", \"country\": \"Ireland\", \"region\": \"Europe & Central Asia\", \"income_group\": \"High income\", \"price_usd\": 153.29}, {\"Unnamed: 0\": 117, \"model\": \"24-inch iMac\\u00b2\", \"country\": \"Ireland\", \"region\": \"Europe & Central Asia\", \"income_group\": \"High income\", \"price_usd\": 1702.11}, {\"Unnamed: 0\": 118, \"model\": \"MacBook Air\", \"country\": \"Ireland\", \"region\": \"Europe & Central Asia\", \"income_group\": \"High income\", \"price_usd\": 1281.98}, {\"Unnamed: 0\": 119, \"model\": \"Magic Mouse\", \"country\": \"Ireland\", \"region\": \"Europe & Central Asia\", \"income_group\": \"High income\", \"price_usd\": 96.52}, {\"Unnamed: 0\": 121, \"model\": \"iPhone SE\", \"country\": \"Italy\", \"region\": \"Europe & Central Asia\", \"income_group\": \"High income\", \"price_usd\": 566.61}, {\"Unnamed: 0\": 122, \"model\": \"iPhone 12\", \"country\": \"Italy\", \"region\": \"Europe & Central Asia\", \"income_group\": \"High income\", \"price_usd\": 816.42}, {\"Unnamed: 0\": 124, \"model\": \"AirPods Pro\", \"country\": \"Italy\", \"region\": \"Europe & Central Asia\", \"income_group\": \"High income\", \"price_usd\": 316.8}, {\"Unnamed: 0\": 125, \"model\": \"AirPods(2nd generation)\", \"country\": \"Italy\", \"region\": \"Europe & Central Asia\", \"income_group\": \"High income\", \"price_usd\": 169.19}, {\"Unnamed: 0\": 127, \"model\": \"Apple TV 4K\", \"country\": \"Italy\", \"region\": \"Europe & Central Asia\", \"income_group\": \"High income\", \"price_usd\": 225.96}, {\"Unnamed: 0\": 128, \"model\": \"Apple Watch SE\", \"country\": \"Italy\", \"region\": \"Europe & Central Asia\", \"income_group\": \"High income\", \"price_usd\": 350.87}, {\"Unnamed: 0\": 129, \"model\": \"Apple Watch Series 3\", \"country\": \"Italy\", \"region\": \"Europe & Central Asia\", \"income_group\": \"High income\", \"price_usd\": 260.03}, {\"Unnamed: 0\": 130, \"model\": \"Sport Band\", \"country\": \"Italy\", \"region\": \"Europe & Central Asia\", \"income_group\": \"High income\", \"price_usd\": 55.64}, {\"Unnamed: 0\": 131, \"model\": \"iPad\", \"country\": \"Italy\", \"region\": \"Europe & Central Asia\", \"income_group\": \"High income\", \"price_usd\": 441.71}, {\"Unnamed: 0\": 132, \"model\": \"iPad Pro\", \"country\": \"Italy\", \"region\": \"Europe & Central Asia\", \"income_group\": \"High income\", \"price_usd\": 1020.81}, {\"Unnamed: 0\": 133, \"model\": \"Apple Pencil (2nd generation)\", \"country\": \"Italy\", \"region\": \"Europe & Central Asia\", \"income_group\": \"High income\", \"price_usd\": 153.29}, {\"Unnamed: 0\": 134, \"model\": \"24-inch iMac\\u00b2\", \"country\": \"Italy\", \"region\": \"Europe & Central Asia\", \"income_group\": \"High income\", \"price_usd\": 1702.11}, {\"Unnamed: 0\": 135, \"model\": \"MacBook Air\", \"country\": \"Italy\", \"region\": \"Europe & Central Asia\", \"income_group\": \"High income\", \"price_usd\": 1316.04}, {\"Unnamed: 0\": 136, \"model\": \"Magic Mouse\", \"country\": \"Italy\", \"region\": \"Europe & Central Asia\", \"income_group\": \"High income\", \"price_usd\": 96.52}, {\"Unnamed: 0\": 138, \"model\": \"iPhone SE\", \"country\": \"Luxembourg\", \"region\": \"Europe & Central Asia\", \"income_group\": \"High income\", \"price_usd\": 536.9}, {\"Unnamed: 0\": 139, \"model\": \"iPhone 12\", \"country\": \"Luxembourg\", \"region\": \"Europe & Central Asia\", \"income_group\": \"High income\", \"price_usd\": 756.49}, {\"Unnamed: 0\": 141, \"model\": \"AirPods Pro\", \"country\": \"Luxembourg\", \"region\": \"Europe & Central Asia\", \"income_group\": \"High income\", \"price_usd\": 306.34}, {\"Unnamed: 0\": 142, \"model\": \"AirPods(2nd generation)\", \"country\": \"Luxembourg\", \"region\": \"Europe & Central Asia\", \"income_group\": \"High income\", \"price_usd\": 163.59}, {\"Unnamed: 0\": 144, \"model\": \"Apple TV 4K\", \"country\": \"Luxembourg\", \"region\": \"Europe & Central Asia\", \"income_group\": \"High income\", \"price_usd\": 218.49}, {\"Unnamed: 0\": 145, \"model\": \"Apple Watch SE\", \"country\": \"Luxembourg\", \"region\": \"Europe & Central Asia\", \"income_group\": \"High income\", \"price_usd\": 328.3}, {\"Unnamed: 0\": 146, \"model\": \"Apple Watch Series 3\", \"country\": \"Luxembourg\", \"region\": \"Europe & Central Asia\", \"income_group\": \"High income\", \"price_usd\": 240.45}, {\"Unnamed: 0\": 147, \"model\": \"Sport Band\", \"country\": \"Luxembourg\", \"region\": \"Europe & Central Asia\", \"income_group\": \"High income\", \"price_usd\": 53.81}, {\"Unnamed: 0\": 148, \"model\": \"iPad\", \"country\": \"Luxembourg\", \"region\": \"Europe & Central Asia\", \"income_group\": \"High income\", \"price_usd\": 427.11}, {\"Unnamed: 0\": 149, \"model\": \"iPad Pro\", \"country\": \"Luxembourg\", \"region\": \"Europe & Central Asia\", \"income_group\": \"High income\", \"price_usd\": 987.08}, {\"Unnamed: 0\": 150, \"model\": \"Apple Pencil (2nd generation)\", \"country\": \"Luxembourg\", \"region\": \"Europe & Central Asia\", \"income_group\": \"High income\", \"price_usd\": 148.23}, {\"Unnamed: 0\": 151, \"model\": \"24-inch iMac\\u00b2\", \"country\": \"Luxembourg\", \"region\": \"Europe & Central Asia\", \"income_group\": \"High income\", \"price_usd\": 1590.95}, {\"Unnamed: 0\": 152, \"model\": \"MacBook Air\", \"country\": \"Luxembourg\", \"region\": \"Europe & Central Asia\", \"income_group\": \"High income\", \"price_usd\": 1239.6}, {\"Unnamed: 0\": 153, \"model\": \"Magic Mouse\", \"country\": \"Luxembourg\", \"region\": \"Europe & Central Asia\", \"income_group\": \"High income\", \"price_usd\": 93.33}, {\"Unnamed: 0\": 155, \"model\": \"iPhone SE\", \"country\": \"Netherlands\", \"region\": \"Europe & Central Asia\", \"income_group\": \"High income\", \"price_usd\": 558.78}, {\"Unnamed: 0\": 156, \"model\": \"iPhone 12\", \"country\": \"Netherlands\", \"region\": \"Europe & Central Asia\", \"income_group\": \"High income\", \"price_usd\": 782.36}, {\"Unnamed: 0\": 158, \"model\": \"AirPods Pro\", \"country\": \"Netherlands\", \"region\": \"Europe & Central Asia\", \"income_group\": \"High income\", \"price_usd\": 316.8}, {\"Unnamed: 0\": 159, \"model\": \"AirPods(2nd generation)\", \"country\": \"Netherlands\", \"region\": \"Europe & Central Asia\", \"income_group\": \"High income\", \"price_usd\": 169.19}, {\"Unnamed: 0\": 161, \"model\": \"Apple TV 4K\", \"country\": \"Netherlands\", \"region\": \"Europe & Central Asia\", \"income_group\": \"High income\", \"price_usd\": 225.96}, {\"Unnamed: 0\": 162, \"model\": \"Apple Watch SE\", \"country\": \"Netherlands\", \"region\": \"Europe & Central Asia\", \"income_group\": \"High income\", \"price_usd\": 339.51}, {\"Unnamed: 0\": 163, \"model\": \"Apple Watch Series 3\", \"country\": \"Netherlands\", \"region\": \"Europe & Central Asia\", \"income_group\": \"High income\", \"price_usd\": 248.67}, {\"Unnamed: 0\": 164, \"model\": \"Sport Band\", \"country\": \"Netherlands\", \"region\": \"Europe & Central Asia\", \"income_group\": \"High income\", \"price_usd\": 55.64}, {\"Unnamed: 0\": 165, \"model\": \"iPad\", \"country\": \"Netherlands\", \"region\": \"Europe & Central Asia\", \"income_group\": \"High income\", \"price_usd\": 441.71}, {\"Unnamed: 0\": 166, \"model\": \"iPad Pro\", \"country\": \"Netherlands\", \"region\": \"Europe & Central Asia\", \"income_group\": \"High income\", \"price_usd\": 1020.81}, {\"Unnamed: 0\": 167, \"model\": \"Apple Pencil (2nd generation)\", \"country\": \"Netherlands\", \"region\": \"Europe & Central Asia\", \"income_group\": \"High income\", \"price_usd\": 153.29}, {\"Unnamed: 0\": 168, \"model\": \"24-inch iMac\\u00b2\", \"country\": \"Netherlands\", \"region\": \"Europe & Central Asia\", \"income_group\": \"High income\", \"price_usd\": 1645.34}, {\"Unnamed: 0\": 169, \"model\": \"MacBook Air\", \"country\": \"Netherlands\", \"region\": \"Europe & Central Asia\", \"income_group\": \"High income\", \"price_usd\": 1282.09}, {\"Unnamed: 0\": 170, \"model\": \"Magic Mouse\", \"country\": \"Netherlands\", \"region\": \"Europe & Central Asia\", \"income_group\": \"High income\", \"price_usd\": 96.52}, {\"Unnamed: 0\": 172, \"model\": \"iPhone SE\", \"country\": \"Portugal\", \"region\": \"Europe & Central Asia\", \"income_group\": \"High income\", \"price_usd\": 566.61}, {\"Unnamed: 0\": 173, \"model\": \"iPhone 12\", \"country\": \"Portugal\", \"region\": \"Europe & Central Asia\", \"income_group\": \"High income\", \"price_usd\": 805.07}, {\"Unnamed: 0\": 175, \"model\": \"AirPods Pro\", \"country\": \"Portugal\", \"region\": \"Europe & Central Asia\", \"income_group\": \"High income\", \"price_usd\": 316.8}, {\"Unnamed: 0\": 176, \"model\": \"AirPods(2nd generation)\", \"country\": \"Portugal\", \"region\": \"Europe & Central Asia\", \"income_group\": \"High income\", \"price_usd\": 169.19}, {\"Unnamed: 0\": 178, \"model\": \"Apple TV 4K\", \"country\": \"Portugal\", \"region\": \"Europe & Central Asia\", \"income_group\": \"High income\", \"price_usd\": 225.96}, {\"Unnamed: 0\": 179, \"model\": \"Apple Watch SE\", \"country\": \"Portugal\", \"region\": \"Europe & Central Asia\", \"income_group\": \"High income\", \"price_usd\": 350.87}, {\"Unnamed: 0\": 180, \"model\": \"Apple Watch Series 3\", \"country\": \"Portugal\", \"region\": \"Europe & Central Asia\", \"income_group\": \"High income\", \"price_usd\": 260.03}, {\"Unnamed: 0\": 181, \"model\": \"Sport Band\", \"country\": \"Portugal\", \"region\": \"Europe & Central Asia\", \"income_group\": \"High income\", \"price_usd\": 55.64}, {\"Unnamed: 0\": 182, \"model\": \"iPad\", \"country\": \"Portugal\", \"region\": \"Europe & Central Asia\", \"income_group\": \"High income\", \"price_usd\": 453.06}, {\"Unnamed: 0\": 183, \"model\": \"iPad Pro\", \"country\": \"Portugal\", \"region\": \"Europe & Central Asia\", \"income_group\": \"High income\", \"price_usd\": 1032.17}, {\"Unnamed: 0\": 184, \"model\": \"Apple Pencil (2nd generation)\", \"country\": \"Portugal\", \"region\": \"Europe & Central Asia\", \"income_group\": \"High income\", \"price_usd\": 153.29}, {\"Unnamed: 0\": 185, \"model\": \"24-inch iMac\\u00b2\", \"country\": \"Portugal\", \"region\": \"Europe & Central Asia\", \"income_group\": \"High income\", \"price_usd\": 1702.11}, {\"Unnamed: 0\": 186, \"model\": \"MacBook Air\", \"country\": \"Portugal\", \"region\": \"Europe & Central Asia\", \"income_group\": \"High income\", \"price_usd\": 1316.04}, {\"Unnamed: 0\": 187, \"model\": \"Magic Mouse\", \"country\": \"Portugal\", \"region\": \"Europe & Central Asia\", \"income_group\": \"High income\", \"price_usd\": 96.52}, {\"Unnamed: 0\": 189, \"model\": \"iPhone SE\", \"country\": \"Brazil\", \"region\": \"Latin America & Caribbean\", \"income_group\": \"Upper middle income\", \"price_usd\": 661.05}, {\"Unnamed: 0\": 190, \"model\": \"iPhone 12\", \"country\": \"Brazil\", \"region\": \"Latin America & Caribbean\", \"income_group\": \"Upper middle income\", \"price_usd\": 1018.46}, {\"Unnamed: 0\": 191, \"model\": \"AirPods Pro\", \"country\": \"Brazil\", \"region\": \"Latin America & Caribbean\", \"income_group\": \"Upper middle income\", \"price_usd\": 535.95}, {\"Unnamed: 0\": 192, \"model\": \"AirPods(2nd generation)\", \"country\": \"Brazil\", \"region\": \"Latin America & Caribbean\", \"income_group\": \"Upper middle income\", \"price_usd\": 294.69}, {\"Unnamed: 0\": 194, \"model\": \"Apple TV 4K\", \"country\": \"Brazil\", \"region\": \"Latin America & Caribbean\", \"income_group\": \"Upper middle income\", \"price_usd\": 428.72}, {\"Unnamed: 0\": 195, \"model\": \"Apple Watch SE\", \"country\": \"Brazil\", \"region\": \"Latin America & Caribbean\", \"income_group\": \"Upper middle income\", \"price_usd\": 678.92}, {\"Unnamed: 0\": 196, \"model\": \"Apple Watch Series 3\", \"country\": \"Brazil\", \"region\": \"Latin America & Caribbean\", \"income_group\": \"Upper middle income\", \"price_usd\": 464.47}, {\"Unnamed: 0\": 197, \"model\": \"Sport Band\", \"country\": \"Brazil\", \"region\": \"Latin America & Caribbean\", \"income_group\": \"Upper middle income\", \"price_usd\": 98.11}, {\"Unnamed: 0\": 198, \"model\": \"iPad\", \"country\": \"Brazil\", \"region\": \"Latin America & Caribbean\", \"income_group\": \"Upper middle income\", \"price_usd\": 714.66}, {\"Unnamed: 0\": 199, \"model\": \"iPad Pro\", \"country\": \"Brazil\", \"region\": \"Latin America & Caribbean\", \"income_group\": \"Upper middle income\", \"price_usd\": 1929.88}, {\"Unnamed: 0\": 200, \"model\": \"Apple Pencil (2nd generation)\", \"country\": \"Brazil\", \"region\": \"Latin America & Caribbean\", \"income_group\": \"Upper middle income\", \"price_usd\": 285.76}, {\"Unnamed: 0\": 201, \"model\": \"24-inch iMac\\u00b2\", \"country\": \"Brazil\", \"region\": \"Latin America & Caribbean\", \"income_group\": \"Upper middle income\", \"price_usd\": 3145.1}, {\"Unnamed: 0\": 202, \"model\": \"MacBook Air\", \"country\": \"Brazil\", \"region\": \"Latin America & Caribbean\", \"income_group\": \"Upper middle income\", \"price_usd\": 2323.04}, {\"Unnamed: 0\": 203, \"model\": \"Magic Mouse\", \"country\": \"Brazil\", \"region\": \"Latin America & Caribbean\", \"income_group\": \"Upper middle income\", \"price_usd\": 160.66}, {\"Unnamed: 0\": 205, \"model\": \"iPhone SE\", \"country\": \"Canada\", \"region\": \"North America\", \"income_group\": \"High income\", \"price_usd\": 448.06}, {\"Unnamed: 0\": 206, \"model\": \"iPhone 12\", \"country\": \"Canada\", \"region\": \"North America\", \"income_group\": \"High income\", \"price_usd\": 629.17}, {\"Unnamed: 0\": 208, \"model\": \"AirPods Pro\", \"country\": \"Canada\", \"region\": \"North America\", \"income_group\": \"High income\", \"price_usd\": 259.07}, {\"Unnamed: 0\": 209, \"model\": \"AirPods(2nd generation)\", \"country\": \"Canada\", \"region\": \"North America\", \"income_group\": \"High income\", \"price_usd\": 140.95}, {\"Unnamed: 0\": 211, \"model\": \"Apple TV 4K\", \"country\": \"Canada\", \"region\": \"North America\", \"income_group\": \"High income\", \"price_usd\": 180.33}, {\"Unnamed: 0\": 212, \"model\": \"Apple Watch SE\", \"country\": \"Canada\", \"region\": \"North America\", \"income_group\": \"High income\", \"price_usd\": 290.57}, {\"Unnamed: 0\": 213, \"model\": \"Apple Watch Series 3\", \"country\": \"Canada\", \"region\": \"North America\", \"income_group\": \"High income\", \"price_usd\": 196.07}, {\"Unnamed: 0\": 214, \"model\": \"Sport Band\", \"country\": \"Canada\", \"region\": \"North America\", \"income_group\": \"High income\", \"price_usd\": 46.46}, {\"Unnamed: 0\": 215, \"model\": \"iPad\", \"country\": \"Canada\", \"region\": \"North America\", \"income_group\": \"High income\", \"price_usd\": 337.82}, {\"Unnamed: 0\": 216, \"model\": \"iPad Pro\", \"country\": \"Canada\", \"region\": \"North America\", \"income_group\": \"High income\", \"price_usd\": 786.66}, {\"Unnamed: 0\": 217, \"model\": \"Apple Pencil (2nd generation)\", \"country\": \"Canada\", \"region\": \"North America\", \"income_group\": \"High income\", \"price_usd\": 133.08}, {\"Unnamed: 0\": 218, \"model\": \"24-inch iMac\\u00b2\", \"country\": \"Canada\", \"region\": \"North America\", \"income_group\": \"High income\", \"price_usd\": 1259.13}, {\"Unnamed: 0\": 219, \"model\": \"MacBook Air\", \"country\": \"Canada\", \"region\": \"North America\", \"income_group\": \"High income\", \"price_usd\": 1022.89}, {\"Unnamed: 0\": 220, \"model\": \"Magic Mouse\", \"country\": \"Canada\", \"region\": \"North America\", \"income_group\": \"High income\", \"price_usd\": 70.08}, {\"Unnamed: 0\": 222, \"model\": \"iPhone SE\", \"country\": \"Czech Republic\", \"region\": \"Europe & Central Asia\", \"income_group\": \"High income\", \"price_usd\": 534.85}, {\"Unnamed: 0\": 223, \"model\": \"iPhone 12\", \"country\": \"Czech Republic\", \"region\": \"Europe & Central Asia\", \"income_group\": \"High income\", \"price_usd\": 777.34}, {\"Unnamed: 0\": 225, \"model\": \"AirPods Pro\", \"country\": \"Czech Republic\", \"region\": \"Europe & Central Asia\", \"income_group\": \"High income\", \"price_usd\": 333.54}, {\"Unnamed: 0\": 226, \"model\": \"AirPods(2nd generation)\", \"country\": \"Czech Republic\", \"region\": \"Europe & Central Asia\", \"income_group\": \"High income\", \"price_usd\": 173.4}, {\"Unnamed: 0\": 228, \"model\": \"Apple TV 4K\", \"country\": \"Czech Republic\", \"region\": \"Europe & Central Asia\", \"income_group\": \"High income\", \"price_usd\": 228.31}, {\"Unnamed: 0\": 229, \"model\": \"Apple Watch SE\", \"country\": \"Czech Republic\", \"region\": \"Europe & Central Asia\", \"income_group\": \"High income\", \"price_usd\": 365.57}, {\"Unnamed: 0\": 230, \"model\": \"Apple Watch Series 3\", \"country\": \"Czech Republic\", \"region\": \"Europe & Central Asia\", \"income_group\": \"High income\", \"price_usd\": 251.18}, {\"Unnamed: 0\": 231, \"model\": \"Sport Band\", \"country\": \"Czech Republic\", \"region\": \"Europe & Central Asia\", \"income_group\": \"High income\", \"price_usd\": 59.02}, {\"Unnamed: 0\": 232, \"model\": \"iPad\", \"country\": \"Czech Republic\", \"region\": \"Europe & Central Asia\", \"income_group\": \"High income\", \"price_usd\": 457.07}, {\"Unnamed: 0\": 233, \"model\": \"iPad Pro\", \"country\": \"Czech Republic\", \"region\": \"Europe & Central Asia\", \"income_group\": \"High income\", \"price_usd\": 1051.86}, {\"Unnamed: 0\": 234, \"model\": \"Apple Pencil (2nd generation)\", \"country\": \"Czech Republic\", \"region\": \"Europe & Central Asia\", \"income_group\": \"High income\", \"price_usd\": 159.68}, {\"Unnamed: 0\": 235, \"model\": \"24-inch iMac\\u00b2\", \"country\": \"Czech Republic\", \"region\": \"Europe & Central Asia\", \"income_group\": \"High income\", \"price_usd\": 1738.16}, {\"Unnamed: 0\": 236, \"model\": \"MacBook Air\", \"country\": \"Czech Republic\", \"region\": \"Europe & Central Asia\", \"income_group\": \"High income\", \"price_usd\": 1372.13}, {\"Unnamed: 0\": 237, \"model\": \"Magic Mouse\", \"country\": \"Czech Republic\", \"region\": \"Europe & Central Asia\", \"income_group\": \"High income\", \"price_usd\": 104.77}, {\"Unnamed: 0\": 239, \"model\": \"iPhone SE\", \"country\": \"Denmark\", \"region\": \"Europe & Central Asia\", \"income_group\": \"High income\", \"price_usd\": 557.96}, {\"Unnamed: 0\": 240, \"model\": \"iPhone 12\", \"country\": \"Denmark\", \"region\": \"Europe & Central Asia\", \"income_group\": \"High income\", \"price_usd\": 817.48}, {\"Unnamed: 0\": 242, \"model\": \"AirPods Pro\", \"country\": \"Denmark\", \"region\": \"Europe & Central Asia\", \"income_group\": \"High income\", \"price_usd\": 335.69}, {\"Unnamed: 0\": 243, \"model\": \"AirPods(2nd generation)\", \"country\": \"Denmark\", \"region\": \"Europe & Central Asia\", \"income_group\": \"High income\", \"price_usd\": 172.35}, {\"Unnamed: 0\": 245, \"model\": \"Apple TV 4K\", \"country\": \"Denmark\", \"region\": \"Europe & Central Asia\", \"income_group\": \"High income\", \"price_usd\": 228.83}, {\"Unnamed: 0\": 246, \"model\": \"Apple Watch SE\", \"country\": \"Denmark\", \"region\": \"Europe & Central Asia\", \"income_group\": \"High income\", \"price_usd\": 350.96}, {\"Unnamed: 0\": 247, \"model\": \"Apple Watch Series 3\", \"country\": \"Denmark\", \"region\": \"Europe & Central Asia\", \"income_group\": \"High income\", \"price_usd\": 259.37}, {\"Unnamed: 0\": 248, \"model\": \"Sport Band\", \"country\": \"Denmark\", \"region\": \"Europe & Central Asia\", \"income_group\": \"High income\", \"price_usd\": 56.33}, {\"Unnamed: 0\": 249, \"model\": \"iPad\", \"country\": \"Denmark\", \"region\": \"Europe & Central Asia\", \"income_group\": \"High income\", \"price_usd\": 435.84}, {\"Unnamed: 0\": 250, \"model\": \"iPad Pro\", \"country\": \"Denmark\", \"region\": \"Europe & Central Asia\", \"income_group\": \"High income\", \"price_usd\": 1031.2}, {\"Unnamed: 0\": 251, \"model\": \"Apple Pencil (2nd generation)\", \"country\": \"Denmark\", \"region\": \"Europe & Central Asia\", \"income_group\": \"High income\", \"price_usd\": 167.77}, {\"Unnamed: 0\": 252, \"model\": \"24-inch iMac\\u00b2\", \"country\": \"Denmark\", \"region\": \"Europe & Central Asia\", \"income_group\": \"High income\", \"price_usd\": 1763.96}, {\"Unnamed: 0\": 253, \"model\": \"MacBook Air\", \"country\": \"Denmark\", \"region\": \"Europe & Central Asia\", \"income_group\": \"High income\", \"price_usd\": 1336.52}, {\"Unnamed: 0\": 254, \"model\": \"Magic Mouse\", \"country\": \"Denmark\", \"region\": \"Europe & Central Asia\", \"income_group\": \"High income\", \"price_usd\": 103.65}, {\"Unnamed: 0\": 256, \"model\": \"iPhone SE\", \"country\": \"Hungary\", \"region\": \"Europe & Central Asia\", \"income_group\": \"High income\", \"price_usd\": 540.37}, {\"Unnamed: 0\": 257, \"model\": \"iPhone 12\", \"country\": \"Hungary\", \"region\": \"Europe & Central Asia\", \"income_group\": \"High income\", \"price_usd\": 771.98}, {\"Unnamed: 0\": 259, \"model\": \"AirPods Pro\", \"country\": \"Hungary\", \"region\": \"Europe & Central Asia\", \"income_group\": \"High income\", \"price_usd\": 308.77}, {\"Unnamed: 0\": 260, \"model\": \"AirPods(2nd generation)\", \"country\": \"Hungary\", \"region\": \"Europe & Central Asia\", \"income_group\": \"High income\", \"price_usd\": 163.63}, {\"Unnamed: 0\": 262, \"model\": \"Apple TV 4K\", \"country\": \"Hungary\", \"region\": \"Europe & Central Asia\", \"income_group\": \"High income\", \"price_usd\": 222.31}, {\"Unnamed: 0\": 263, \"model\": \"Apple Watch SE\", \"country\": \"Hungary\", \"region\": \"Europe & Central Asia\", \"income_group\": \"High income\", \"price_usd\": 339.65}, {\"Unnamed: 0\": 264, \"model\": \"Apple Watch Series 3\", \"country\": \"Hungary\", \"region\": \"Europe & Central Asia\", \"income_group\": \"High income\", \"price_usd\": 240.84}, {\"Unnamed: 0\": 265, \"model\": \"Sport Band\", \"country\": \"Hungary\", \"region\": \"Europe & Central Asia\", \"income_group\": \"High income\", \"price_usd\": 55.55}, {\"Unnamed: 0\": 266, \"model\": \"iPad\", \"country\": \"Hungary\", \"region\": \"Europe & Central Asia\", \"income_group\": \"High income\", \"price_usd\": 416.85}, {\"Unnamed: 0\": 267, \"model\": \"iPad Pro\", \"country\": \"Hungary\", \"region\": \"Europe & Central Asia\", \"income_group\": \"High income\", \"price_usd\": 1003.58}, {\"Unnamed: 0\": 268, \"model\": \"Apple Pencil (2nd generation)\", \"country\": \"Hungary\", \"region\": \"Europe & Central Asia\", \"income_group\": \"High income\", \"price_usd\": 154.37}, {\"Unnamed: 0\": 269, \"model\": \"24-inch iMac\\u00b2\", \"country\": \"Hungary\", \"region\": \"Europe & Central Asia\", \"income_group\": \"High income\", \"price_usd\": 1667.51}, {\"Unnamed: 0\": 270, \"model\": \"MacBook Air\", \"country\": \"Hungary\", \"region\": \"Europe & Central Asia\", \"income_group\": \"High income\", \"price_usd\": 1327.82}, {\"Unnamed: 0\": 271, \"model\": \"Magic Mouse\", \"country\": \"Hungary\", \"region\": \"Europe & Central Asia\", \"income_group\": \"High income\", \"price_usd\": 108.05}, {\"Unnamed: 0\": 273, \"model\": \"iPhone SE\", \"country\": \"India\", \"region\": \"South Asia\", \"income_group\": \"Lower middle income\", \"price_usd\": 536.84}, {\"Unnamed: 0\": 274, \"model\": \"iPhone 12\", \"country\": \"India\", \"region\": \"South Asia\", \"income_group\": \"Lower middle income\", \"price_usd\": 805.93}, {\"Unnamed: 0\": 276, \"model\": \"AirPods Pro\", \"country\": \"India\", \"region\": \"South Asia\", \"income_group\": \"Lower middle income\", \"price_usd\": 335.02}, {\"Unnamed: 0\": 277, \"model\": \"AirPods(2nd generation)\", \"country\": \"India\", \"region\": \"South Asia\", \"income_group\": \"Lower middle income\", \"price_usd\": 173.56}, {\"Unnamed: 0\": 279, \"model\": \"Apple TV 4K\", \"country\": \"India\", \"region\": \"South Asia\", \"income_group\": \"Lower middle income\", \"price_usd\": 254.29}, {\"Unnamed: 0\": 281, \"model\": \"Apple Watch SE\", \"country\": \"India\", \"region\": \"South Asia\", \"income_group\": \"Lower middle income\", \"price_usd\": 402.29}, {\"Unnamed: 0\": 282, \"model\": \"Apple Watch Series 3\", \"country\": \"India\", \"region\": \"South Asia\", \"income_group\": \"Lower middle income\", \"price_usd\": 281.2}, {\"Unnamed: 0\": 283, \"model\": \"Sport Band\", \"country\": \"India\", \"region\": \"South Asia\", \"income_group\": \"Lower middle income\", \"price_usd\": 52.47}, {\"Unnamed: 0\": 284, \"model\": \"iPad\", \"country\": \"India\", \"region\": \"South Asia\", \"income_group\": \"Lower middle income\", \"price_usd\": 415.75}, {\"Unnamed: 0\": 285, \"model\": \"iPad Pro\", \"country\": \"India\", \"region\": \"South Asia\", \"income_group\": \"Lower middle income\", \"price_usd\": 967.39}, {\"Unnamed: 0\": 286, \"model\": \"Apple Pencil (2nd generation)\", \"country\": \"India\", \"region\": \"South Asia\", \"income_group\": \"Lower middle income\", \"price_usd\": 146.66}, {\"Unnamed: 0\": 287, \"model\": \"24-inch iMac\\u00b2\", \"country\": \"India\", \"region\": \"South Asia\", \"income_group\": \"Lower middle income\", \"price_usd\": 1613.21}, {\"Unnamed: 0\": 288, \"model\": \"MacBook Air\", \"country\": \"India\", \"region\": \"South Asia\", \"income_group\": \"Lower middle income\", \"price_usd\": 1249.93}, {\"Unnamed: 0\": 289, \"model\": \"Magic Mouse\", \"country\": \"India\", \"region\": \"South Asia\", \"income_group\": \"Lower middle income\", \"price_usd\": 100.91}, {\"Unnamed: 0\": 291, \"model\": \"iPhone SE\", \"country\": \"Mexico\", \"region\": \"Latin America & Caribbean\", \"income_group\": \"Upper middle income\", \"price_usd\": 537.73}, {\"Unnamed: 0\": 292, \"model\": \"iPhone 12\", \"country\": \"Mexico\", \"region\": \"Latin America & Caribbean\", \"income_group\": \"Upper middle income\", \"price_usd\": 733.29}, {\"Unnamed: 0\": 294, \"model\": \"AirPods Pro\", \"country\": \"Mexico\", \"region\": \"Latin America & Caribbean\", \"income_group\": \"Upper middle income\", \"price_usd\": 293.29}, {\"Unnamed: 0\": 295, \"model\": \"AirPods(2nd generation)\", \"country\": \"Mexico\", \"region\": \"Latin America & Caribbean\", \"income_group\": \"Upper middle income\", \"price_usd\": 161.29}, {\"Unnamed: 0\": 297, \"model\": \"Apple TV 4K\", \"country\": \"Mexico\", \"region\": \"Latin America & Caribbean\", \"income_group\": \"Upper middle income\", \"price_usd\": 219.95}, {\"Unnamed: 0\": 298, \"model\": \"Apple Watch SE\", \"country\": \"Mexico\", \"region\": \"Latin America & Caribbean\", \"income_group\": \"Upper middle income\", \"price_usd\": 366.62}, {\"Unnamed: 0\": 299, \"model\": \"Apple Watch Series 3\", \"country\": \"Mexico\", \"region\": \"Latin America & Caribbean\", \"income_group\": \"Upper middle income\", \"price_usd\": 244.4}, {\"Unnamed: 0\": 300, \"model\": \"Sport Band\", \"country\": \"Mexico\", \"region\": \"Latin America & Caribbean\", \"income_group\": \"Upper middle income\", \"price_usd\": 58.62}, {\"Unnamed: 0\": 301, \"model\": \"iPad\", \"country\": \"Mexico\", \"region\": \"Latin America & Caribbean\", \"income_group\": \"Upper middle income\", \"price_usd\": 439.96}, {\"Unnamed: 0\": 302, \"model\": \"iPad Pro\", \"country\": \"Mexico\", \"region\": \"Latin America & Caribbean\", \"income_group\": \"Upper middle income\", \"price_usd\": 1026.63}, {\"Unnamed: 0\": 303, \"model\": \"Apple Pencil (2nd generation)\", \"country\": \"Mexico\", \"region\": \"Latin America & Caribbean\", \"income_group\": \"Upper middle income\", \"price_usd\": 161.29}, {\"Unnamed: 0\": 304, \"model\": \"24-inch iMac\\u00b2\", \"country\": \"Mexico\", \"region\": \"Latin America & Caribbean\", \"income_group\": \"Upper middle income\", \"price_usd\": 1637.75}, {\"Unnamed: 0\": 305, \"model\": \"MacBook Air\", \"country\": \"Mexico\", \"region\": \"Latin America & Caribbean\", \"income_group\": \"Upper middle income\", \"price_usd\": 1271.08}, {\"Unnamed: 0\": 306, \"model\": \"Magic Mouse\", \"country\": \"Mexico\", \"region\": \"Latin America & Caribbean\", \"income_group\": \"Upper middle income\", \"price_usd\": 97.73}, {\"Unnamed: 0\": 308, \"model\": \"iPhone SE\", \"country\": \"Norway\", \"region\": \"Europe & Central Asia\", \"income_group\": \"High income\", \"price_usd\": 566.54}, {\"Unnamed: 0\": 309, \"model\": \"iPhone 12\", \"country\": \"Norway\", \"region\": \"Europe & Central Asia\", \"income_group\": \"High income\", \"price_usd\": 793.61}, {\"Unnamed: 0\": 311, \"model\": \"AirPods Pro\", \"country\": \"Norway\", \"region\": \"Europe & Central Asia\", \"income_group\": \"High income\", \"price_usd\": 339.47}, {\"Unnamed: 0\": 312, \"model\": \"AirPods(2nd generation)\", \"country\": \"Norway\", \"region\": \"Europe & Central Asia\", \"income_group\": \"High income\", \"price_usd\": 164.63}, {\"Unnamed: 0\": 314, \"model\": \"Apple TV 4K\", \"country\": \"Norway\", \"region\": \"Europe & Central Asia\", \"income_group\": \"High income\", \"price_usd\": 225.94}, {\"Unnamed: 0\": 315, \"model\": \"Apple Watch SE\", \"country\": \"Norway\", \"region\": \"Europe & Central Asia\", \"income_group\": \"High income\", \"price_usd\": 373.53}, {\"Unnamed: 0\": 316, \"model\": \"Apple Watch Series 3\", \"country\": \"Norway\", \"region\": \"Europe & Central Asia\", \"income_group\": \"High income\", \"price_usd\": 260.0}, {\"Unnamed: 0\": 317, \"model\": \"Sport Band\", \"country\": \"Norway\", \"region\": \"Europe & Central Asia\", \"income_group\": \"High income\", \"price_usd\": 56.65}, {\"Unnamed: 0\": 318, \"model\": \"iPad\", \"country\": \"Norway\", \"region\": \"Europe & Central Asia\", \"income_group\": \"High income\", \"price_usd\": 453.01}, {\"Unnamed: 0\": 319, \"model\": \"iPad Pro\", \"country\": \"Norway\", \"region\": \"Europe & Central Asia\", \"income_group\": \"High income\", \"price_usd\": 1020.68}, {\"Unnamed: 0\": 320, \"model\": \"Apple Pencil (2nd generation)\", \"country\": \"Norway\", \"region\": \"Europe & Central Asia\", \"income_group\": \"High income\", \"price_usd\": 170.19}, {\"Unnamed: 0\": 321, \"model\": \"24-inch iMac\\u00b2\", \"country\": \"Norway\", \"region\": \"Europe & Central Asia\", \"income_group\": \"High income\", \"price_usd\": 1735.95}, {\"Unnamed: 0\": 322, \"model\": \"MacBook Air\", \"country\": \"Norway\", \"region\": \"Europe & Central Asia\", \"income_group\": \"High income\", \"price_usd\": 1361.29}, {\"Unnamed: 0\": 323, \"model\": \"Magic Mouse\", \"country\": \"Norway\", \"region\": \"Europe & Central Asia\", \"income_group\": \"High income\", \"price_usd\": 107.74}, {\"Unnamed: 0\": 325, \"model\": \"iPhone SE\", \"country\": \"Philippines\", \"region\": \"East Asia & Pacific\", \"income_group\": \"Lower middle income\", \"price_usd\": 518.15}, {\"Unnamed: 0\": 326, \"model\": \"iPhone 12\", \"country\": \"Philippines\", \"region\": \"East Asia & Pacific\", \"income_group\": \"Lower middle income\", \"price_usd\": 762.66}, {\"Unnamed: 0\": 328, \"model\": \"AirPods Pro\", \"country\": \"Philippines\", \"region\": \"East Asia & Pacific\", \"income_group\": \"Lower middle income\", \"price_usd\": 293.21}, {\"Unnamed: 0\": 329, \"model\": \"AirPods(2nd generation)\", \"country\": \"Philippines\", \"region\": \"East Asia & Pacific\", \"income_group\": \"Lower middle income\", \"price_usd\": 150.42}, {\"Unnamed: 0\": 331, \"model\": \"Apple TV 4K\", \"country\": \"Philippines\", \"region\": \"East Asia & Pacific\", \"income_group\": \"Lower middle income\", \"price_usd\": 214.97}, {\"Unnamed: 0\": 332, \"model\": \"Apple Watch SE\", \"country\": \"Philippines\", \"region\": \"East Asia & Pacific\", \"income_group\": \"Lower middle income\", \"price_usd\": 312.77}, {\"Unnamed: 0\": 333, \"model\": \"Apple Watch Series 3\", \"country\": \"Philippines\", \"region\": \"East Asia & Pacific\", \"income_group\": \"Lower middle income\", \"price_usd\": 224.75}, {\"Unnamed: 0\": 334, \"model\": \"Sport Band\", \"country\": \"Philippines\", \"region\": \"East Asia & Pacific\", \"income_group\": \"Lower middle income\", \"price_usd\": 54.57}, {\"Unnamed: 0\": 335, \"model\": \"iPad\", \"country\": \"Philippines\", \"region\": \"East Asia & Pacific\", \"income_group\": \"Lower middle income\", \"price_usd\": 391.01}, {\"Unnamed: 0\": 336, \"model\": \"iPad Pro\", \"country\": \"Philippines\", \"region\": \"East Asia & Pacific\", \"income_group\": \"Lower middle income\", \"price_usd\": 899.58}, {\"Unnamed: 0\": 337, \"model\": \"Apple Pencil (2nd generation)\", \"country\": \"Philippines\", \"region\": \"East Asia & Pacific\", \"income_group\": \"Lower middle income\", \"price_usd\": 156.29}, {\"Unnamed: 0\": 338, \"model\": \"24-inch iMac\\u00b2\", \"country\": \"Philippines\", \"region\": \"East Asia & Pacific\", \"income_group\": \"Lower middle income\", \"price_usd\": 1447.27}, {\"Unnamed: 0\": 339, \"model\": \"MacBook Air\", \"country\": \"Philippines\", \"region\": \"East Asia & Pacific\", \"income_group\": \"Lower middle income\", \"price_usd\": 1075.63}, {\"Unnamed: 0\": 340, \"model\": \"Magic Mouse\", \"country\": \"Philippines\", \"region\": \"East Asia & Pacific\", \"income_group\": \"Lower middle income\", \"price_usd\": 78.05}, {\"Unnamed: 0\": 342, \"model\": \"iPhone SE\", \"country\": \"Poland\", \"region\": \"Europe & Central Asia\", \"income_group\": \"High income\", \"price_usd\": 544.06}, {\"Unnamed: 0\": 343, \"model\": \"iPhone 12\", \"country\": \"Poland\", \"region\": \"Europe & Central Asia\", \"income_group\": \"High income\", \"price_usd\": 779.1}, {\"Unnamed: 0\": 345, \"model\": \"AirPods Pro\", \"country\": \"Poland\", \"region\": \"Europe & Central Asia\", \"income_group\": \"High income\", \"price_usd\": 309.02}, {\"Unnamed: 0\": 346, \"model\": \"AirPods(2nd generation)\", \"country\": \"Poland\", \"region\": \"Europe & Central Asia\", \"income_group\": \"High income\", \"price_usd\": 160.57}, {\"Unnamed: 0\": 348, \"model\": \"Apple TV 4K\", \"country\": \"Poland\", \"region\": \"Europe & Central Asia\", \"income_group\": \"High income\", \"price_usd\": 222.42}, {\"Unnamed: 0\": 349, \"model\": \"Apple Watch SE\", \"country\": \"Poland\", \"region\": \"Europe & Central Asia\", \"income_group\": \"High income\", \"price_usd\": 333.76}, {\"Unnamed: 0\": 350, \"model\": \"Apple Watch Series 3\", \"country\": \"Poland\", \"region\": \"Europe & Central Asia\", \"income_group\": \"High income\", \"price_usd\": 247.17}, {\"Unnamed: 0\": 351, \"model\": \"Sport Band\", \"country\": \"Poland\", \"region\": \"Europe & Central Asia\", \"income_group\": \"High income\", \"price_usd\": 49.24}, {\"Unnamed: 0\": 352, \"model\": \"iPad\", \"country\": \"Poland\", \"region\": \"Europe & Central Asia\", \"income_group\": \"High income\", \"price_usd\": 420.35}, {\"Unnamed: 0\": 353, \"model\": \"iPad Pro\", \"country\": \"Poland\", \"region\": \"Europe & Central Asia\", \"income_group\": \"High income\", \"price_usd\": 964.66}, {\"Unnamed: 0\": 354, \"model\": \"Apple Pencil (2nd generation)\", \"country\": \"Poland\", \"region\": \"Europe & Central Asia\", \"income_group\": \"High income\", \"price_usd\": 153.15}, {\"Unnamed: 0\": 355, \"model\": \"24-inch iMac\\u00b2\", \"country\": \"Poland\", \"region\": \"Europe & Central Asia\", \"income_group\": \"High income\", \"price_usd\": 1682.16}, {\"Unnamed: 0\": 356, \"model\": \"MacBook Air\", \"country\": \"Poland\", \"region\": \"Europe & Central Asia\", \"income_group\": \"High income\", \"price_usd\": 1286.3}, {\"Unnamed: 0\": 357, \"model\": \"Magic Mouse\", \"country\": \"Poland\", \"region\": \"Europe & Central Asia\", \"income_group\": \"High income\", \"price_usd\": 98.72}, {\"Unnamed: 0\": 359, \"model\": \"iPhone SE\", \"country\": \"Russia\", \"region\": \"Europe & Central Asia\", \"income_group\": \"Upper middle income\", \"price_usd\": 537.18}, {\"Unnamed: 0\": 360, \"model\": \"iPhone 12\", \"country\": \"Russia\", \"region\": \"Europe & Central Asia\", \"income_group\": \"Upper middle income\", \"price_usd\": 738.67}, {\"Unnamed: 0\": 362, \"model\": \"AirPods Pro\", \"country\": \"Russia\", \"region\": \"Europe & Central Asia\", \"income_group\": \"Upper middle income\", \"price_usd\": 335.69}, {\"Unnamed: 0\": 363, \"model\": \"AirPods(2nd generation)\", \"country\": \"Russia\", \"region\": \"Europe & Central Asia\", \"income_group\": \"Upper middle income\", \"price_usd\": 167.78}, {\"Unnamed: 0\": 365, \"model\": \"Apple TV 4K\", \"country\": \"Russia\", \"region\": \"Europe & Central Asia\", \"income_group\": \"Upper middle income\", \"price_usd\": 228.22}, {\"Unnamed: 0\": 366, \"model\": \"Apple Watch SE\", \"country\": \"Russia\", \"region\": \"Europe & Central Asia\", \"income_group\": \"Upper middle income\", \"price_usd\": 335.69}, {\"Unnamed: 0\": 367, \"model\": \"Apple Watch Series 3\", \"country\": \"Russia\", \"region\": \"Europe & Central Asia\", \"income_group\": \"Upper middle income\", \"price_usd\": 241.66}, {\"Unnamed: 0\": 368, \"model\": \"Sport Band\", \"country\": \"Russia\", \"region\": \"Europe & Central Asia\", \"income_group\": \"Upper middle income\", \"price_usd\": 52.39}, {\"Unnamed: 0\": 369, \"model\": \"iPad\", \"country\": \"Russia\", \"region\": \"Europe & Central Asia\", \"income_group\": \"Upper middle income\", \"price_usd\": 416.29}, {\"Unnamed: 0\": 370, \"model\": \"iPad Pro\", \"country\": \"Russia\", \"region\": \"Europe & Central Asia\", \"income_group\": \"Upper middle income\", \"price_usd\": 1047.63}, {\"Unnamed: 0\": 371, \"model\": \"Apple Pencil (2nd generation)\", \"country\": \"Russia\", \"region\": \"Europe & Central Asia\", \"income_group\": \"Upper middle income\", \"price_usd\": 154.34}, {\"Unnamed: 0\": 372, \"model\": \"24-inch iMac\\u00b2\", \"country\": \"Russia\", \"region\": \"Europe & Central Asia\", \"income_group\": \"Upper middle income\", \"price_usd\": 1746.14}, {\"Unnamed: 0\": 373, \"model\": \"MacBook Air\", \"country\": \"Russia\", \"region\": \"Europe & Central Asia\", \"income_group\": \"Upper middle income\", \"price_usd\": 1343.16}, {\"Unnamed: 0\": 374, \"model\": \"Magic Mouse\", \"country\": \"Russia\", \"region\": \"Europe & Central Asia\", \"income_group\": \"Upper middle income\", \"price_usd\": 106.12}, {\"Unnamed: 0\": 376, \"model\": \"iPhone SE\", \"country\": \"Sweden\", \"region\": \"Europe & Central Asia\", \"income_group\": \"High income\", \"price_usd\": 559.71}, {\"Unnamed: 0\": 377, \"model\": \"iPhone 12\", \"country\": \"Sweden\", \"region\": \"Europe & Central Asia\", \"income_group\": \"High income\", \"price_usd\": 815.58}, {\"Unnamed: 0\": 379, \"model\": \"AirPods Pro\", \"country\": \"Sweden\", \"region\": \"Europe & Central Asia\", \"income_group\": \"High income\", \"price_usd\": 352.37}, {\"Unnamed: 0\": 380, \"model\": \"AirPods(2nd generation)\", \"country\": \"Sweden\", \"region\": \"Europe & Central Asia\", \"income_group\": \"High income\", \"price_usd\": 175.91}, {\"Unnamed: 0\": 382, \"model\": \"Apple TV 4K\", \"country\": \"Sweden\", \"region\": \"Europe & Central Asia\", \"income_group\": \"High income\", \"price_usd\": 220.02}, {\"Unnamed: 0\": 383, \"model\": \"Apple Watch SE\", \"country\": \"Sweden\", \"region\": \"Europe & Central Asia\", \"income_group\": \"High income\", \"price_usd\": 352.37}, {\"Unnamed: 0\": 384, \"model\": \"Apple Watch Series 3\", \"country\": \"Sweden\", \"region\": \"Europe & Central Asia\", \"income_group\": \"High income\", \"price_usd\": 253.11}, {\"Unnamed: 0\": 385, \"model\": \"Sport Band\", \"country\": \"Sweden\", \"region\": \"Europe & Central Asia\", \"income_group\": \"High income\", \"price_usd\": 54.59}, {\"Unnamed: 0\": 386, \"model\": \"iPad\", \"country\": \"Sweden\", \"region\": \"Europe & Central Asia\", \"income_group\": \"High income\", \"price_usd\": 440.6}, {\"Unnamed: 0\": 387, \"model\": \"iPad Pro\", \"country\": \"Sweden\", \"region\": \"Europe & Central Asia\", \"income_group\": \"High income\", \"price_usd\": 1047.18}, {\"Unnamed: 0\": 388, \"model\": \"Apple Pencil (2nd generation)\", \"country\": \"Sweden\", \"region\": \"Europe & Central Asia\", \"income_group\": \"High income\", \"price_usd\": 164.88}, {\"Unnamed: 0\": 389, \"model\": \"24-inch iMac\\u00b2\", \"country\": \"Sweden\", \"region\": \"Europe & Central Asia\", \"income_group\": \"High income\", \"price_usd\": 1764.05}, {\"Unnamed: 0\": 390, \"model\": \"MacBook Air\", \"country\": \"Sweden\", \"region\": \"Europe & Central Asia\", \"income_group\": \"High income\", \"price_usd\": 1378.04}, {\"Unnamed: 0\": 391, \"model\": \"Magic Mouse\", \"country\": \"Sweden\", \"region\": \"Europe & Central Asia\", \"income_group\": \"High income\", \"price_usd\": 98.71}, {\"Unnamed: 0\": 393, \"model\": \"iPhone SE\", \"country\": \"Thailand\", \"region\": \"East Asia & Pacific\", \"income_group\": \"Upper middle income\", \"price_usd\": 449.2}, {\"Unnamed: 0\": 394, \"model\": \"iPhone 12\", \"country\": \"Thailand\", \"region\": \"East Asia & Pacific\", \"income_group\": \"Upper middle income\", \"price_usd\": 660.23}, {\"Unnamed: 0\": 396, \"model\": \"AirPods Pro\", \"country\": \"Thailand\", \"region\": \"East Asia & Pacific\", \"income_group\": \"Upper middle income\", \"price_usd\": 271.08}, {\"Unnamed: 0\": 397, \"model\": \"AirPods(2nd generation)\", \"country\": \"Thailand\", \"region\": \"East Asia & Pacific\", \"income_group\": \"Upper middle income\", \"price_usd\": 150.44}, {\"Unnamed: 0\": 399, \"model\": \"Apple TV 4K\", \"country\": \"Thailand\", \"region\": \"East Asia & Pacific\", \"income_group\": \"Upper middle income\", \"price_usd\": 201.99}, {\"Unnamed: 0\": 400, \"model\": \"Apple Watch SE\", \"country\": \"Thailand\", \"region\": \"East Asia & Pacific\", \"income_group\": \"Upper middle income\", \"price_usd\": 298.46}, {\"Unnamed: 0\": 401, \"model\": \"Apple Watch Series 3\", \"country\": \"Thailand\", \"region\": \"East Asia & Pacific\", \"income_group\": \"Upper middle income\", \"price_usd\": 208.02}, {\"Unnamed: 0\": 402, \"model\": \"Sport Band\", \"country\": \"Thailand\", \"region\": \"East Asia & Pacific\", \"income_group\": \"Upper middle income\", \"price_usd\": 48.24}, {\"Unnamed: 0\": 403, \"model\": \"iPad\", \"country\": \"Thailand\", \"region\": \"East Asia & Pacific\", \"income_group\": \"Upper middle income\", \"price_usd\": 343.68}, {\"Unnamed: 0\": 404, \"model\": \"iPad Pro\", \"country\": \"Thailand\", \"region\": \"East Asia & Pacific\", \"income_group\": \"Upper middle income\", \"price_usd\": 841.11}, {\"Unnamed: 0\": 405, \"model\": \"Apple Pencil (2nd generation)\", \"country\": \"Thailand\", \"region\": \"East Asia & Pacific\", \"income_group\": \"Upper middle income\", \"price_usd\": 135.36}, {\"Unnamed: 0\": 406, \"model\": \"24-inch iMac\\u00b2\", \"country\": \"Thailand\", \"region\": \"East Asia & Pacific\", \"income_group\": \"Upper middle income\", \"price_usd\": 1293.32}, {\"Unnamed: 0\": 407, \"model\": \"MacBook Air\", \"country\": \"Thailand\", \"region\": \"East Asia & Pacific\", \"income_group\": \"Upper middle income\", \"price_usd\": 991.85}, {\"Unnamed: 0\": 408, \"model\": \"Magic Mouse\", \"country\": \"Thailand\", \"region\": \"East Asia & Pacific\", \"income_group\": \"Upper middle income\", \"price_usd\": 75.07}, {\"Unnamed: 0\": 410, \"model\": \"iPhone SE\", \"country\": \"Turkey\", \"region\": \"Europe & Central Asia\", \"income_group\": \"Upper middle income\", \"price_usd\": 587.34}, {\"Unnamed: 0\": 411, \"model\": \"iPhone 12\", \"country\": \"Turkey\", \"region\": \"Europe & Central Asia\", \"income_group\": \"Upper middle income\", \"price_usd\": 1016.61}, {\"Unnamed: 0\": 413, \"model\": \"AirPods Pro\", \"country\": \"Turkey\", \"region\": \"Europe & Central Asia\", \"income_group\": \"Upper middle income\", \"price_usd\": 286.1}, {\"Unnamed: 0\": 414, \"model\": \"AirPods(2nd generation)\", \"country\": \"Turkey\", \"region\": \"Europe & Central Asia\", \"income_group\": \"Upper middle income\", \"price_usd\": 143.01}, {\"Unnamed: 0\": 416, \"model\": \"Apple TV 4K\", \"country\": \"Turkey\", \"region\": \"Europe & Central Asia\", \"income_group\": \"Upper middle income\", \"price_usd\": 218.32}, {\"Unnamed: 0\": 417, \"model\": \"Apple Watch SE\", \"country\": \"Turkey\", \"region\": \"Europe & Central Asia\", \"income_group\": \"Upper middle income\", \"price_usd\": 316.23}, {\"Unnamed: 0\": 418, \"model\": \"Apple Watch Series 3\", \"country\": \"Turkey\", \"region\": \"Europe & Central Asia\", \"income_group\": \"Upper middle income\", \"price_usd\": 222.09}, {\"Unnamed: 0\": 419, \"model\": \"Sport Band\", \"country\": \"Turkey\", \"region\": \"Europe & Central Asia\", \"income_group\": \"Upper middle income\", \"price_usd\": 37.58}, {\"Unnamed: 0\": 420, \"model\": \"iPad\", \"country\": \"Turkey\", \"region\": \"Europe & Central Asia\", \"income_group\": \"Upper middle income\", \"price_usd\": 391.54}, {\"Unnamed: 0\": 421, \"model\": \"iPad Pro\", \"country\": \"Turkey\", \"region\": \"Europe & Central Asia\", \"income_group\": \"Upper middle income\", \"price_usd\": 903.64}, {\"Unnamed: 0\": 422, \"model\": \"Apple Pencil (2nd generation)\", \"country\": \"Turkey\", \"region\": \"Europe & Central Asia\", \"income_group\": \"Upper middle income\", \"price_usd\": 114.4}, {\"Unnamed: 0\": 423, \"model\": \"24-inch iMac\\u00b2\", \"country\": \"Turkey\", \"region\": \"Europe & Central Asia\", \"income_group\": \"Upper middle income\", \"price_usd\": 1430.81}, {\"Unnamed: 0\": 424, \"model\": \"MacBook Air\", \"country\": \"Turkey\", \"region\": \"Europe & Central Asia\", \"income_group\": \"Upper middle income\", \"price_usd\": 1129.57}, {\"Unnamed: 0\": 425, \"model\": \"Magic Mouse\", \"country\": \"Turkey\", \"region\": \"Europe & Central Asia\", \"income_group\": \"Upper middle income\", \"price_usd\": 82.01}, {\"Unnamed: 0\": 427, \"model\": \"iPhone SE\", \"country\": \"United States\", \"region\": \"North America\", \"income_group\": \"High income\", \"price_usd\": 399.0}, {\"Unnamed: 0\": 428, \"model\": \"iPhone 12\", \"country\": \"United States\", \"region\": \"North America\", \"income_group\": \"High income\", \"price_usd\": 599.0}, {\"Unnamed: 0\": 430, \"model\": \"AirPods Pro\", \"country\": \"United States\", \"region\": \"North America\", \"income_group\": \"High income\", \"price_usd\": 249.0}, {\"Unnamed: 0\": 431, \"model\": \"AirPods(2nd generation)\", \"country\": \"United States\", \"region\": \"North America\", \"income_group\": \"High income\", \"price_usd\": 129.0}, {\"Unnamed: 0\": 433, \"model\": \"Apple TV 4K\", \"country\": \"United States\", \"region\": \"North America\", \"income_group\": \"High income\", \"price_usd\": 179.0}, {\"Unnamed: 0\": 434, \"model\": \"Apple Watch SE\", \"country\": \"United States\", \"region\": \"North America\", \"income_group\": \"High income\", \"price_usd\": 279.0}, {\"Unnamed: 0\": 435, \"model\": \"Apple Watch Series 3\", \"country\": \"United States\", \"region\": \"North America\", \"income_group\": \"High income\", \"price_usd\": 199.0}, {\"Unnamed: 0\": 436, \"model\": \"Sport Band\", \"country\": \"United States\", \"region\": \"North America\", \"income_group\": \"High income\", \"price_usd\": 49.0}, {\"Unnamed: 0\": 437, \"model\": \"iPad\", \"country\": \"United States\", \"region\": \"North America\", \"income_group\": \"High income\", \"price_usd\": 329.0}, {\"Unnamed: 0\": 438, \"model\": \"iPad Pro\", \"country\": \"United States\", \"region\": \"North America\", \"income_group\": \"High income\", \"price_usd\": 799.0}, {\"Unnamed: 0\": 439, \"model\": \"Apple Pencil (2nd generation)\", \"country\": \"United States\", \"region\": \"North America\", \"income_group\": \"High income\", \"price_usd\": 129.0}, {\"Unnamed: 0\": 440, \"model\": \"24-inch iMac\\u00b2\", \"country\": \"United States\", \"region\": \"North America\", \"income_group\": \"High income\", \"price_usd\": 1299.0}, {\"Unnamed: 0\": 441, \"model\": \"MacBook Air\", \"country\": \"United States\", \"region\": \"North America\", \"income_group\": \"High income\", \"price_usd\": 999.0}, {\"Unnamed: 0\": 442, \"model\": \"Magic Mouse\", \"country\": \"United States\", \"region\": \"North America\", \"income_group\": \"High income\", \"price_usd\": 79.0}]}}, {\"mode\": \"vega-lite\"});\n",
       "</script>"
      ],
      "text/plain": [
       "alt.FacetChart(...)"
      ]
     },
     "execution_count": 13,
     "metadata": {},
     "output_type": "execute_result"
    }
   ],
   "source": [
    "f = plot_data(df)\n",
    "f.density('price_usd', 'model')"
   ]
  },
  {
   "cell_type": "markdown",
   "id": "37eb1068",
   "metadata": {},
   "source": [
    "Countries share similar prices for all products, but the chart shows that there is al least one country where people pays more for the products"
   ]
  },
  {
   "cell_type": "markdown",
   "id": "b3887f69",
   "metadata": {},
   "source": [
    "**Average price in each country**"
   ]
  },
  {
   "cell_type": "code",
   "execution_count": 14,
   "id": "8acedf22",
   "metadata": {
    "scrolled": false
   },
   "outputs": [
    {
     "data": {
      "text/html": [
       "\n",
       "<div id=\"altair-viz-cdab934e740c4cb99b3c4eaea22c441b\"></div>\n",
       "<script type=\"text/javascript\">\n",
       "  (function(spec, embedOpt){\n",
       "    let outputDiv = document.currentScript.previousElementSibling;\n",
       "    if (outputDiv.id !== \"altair-viz-cdab934e740c4cb99b3c4eaea22c441b\") {\n",
       "      outputDiv = document.getElementById(\"altair-viz-cdab934e740c4cb99b3c4eaea22c441b\");\n",
       "    }\n",
       "    const paths = {\n",
       "      \"vega\": \"https://cdn.jsdelivr.net/npm//vega@5?noext\",\n",
       "      \"vega-lib\": \"https://cdn.jsdelivr.net/npm//vega-lib?noext\",\n",
       "      \"vega-lite\": \"https://cdn.jsdelivr.net/npm//vega-lite@4.8.1?noext\",\n",
       "      \"vega-embed\": \"https://cdn.jsdelivr.net/npm//vega-embed@6?noext\",\n",
       "    };\n",
       "\n",
       "    function loadScript(lib) {\n",
       "      return new Promise(function(resolve, reject) {\n",
       "        var s = document.createElement('script');\n",
       "        s.src = paths[lib];\n",
       "        s.async = true;\n",
       "        s.onload = () => resolve(paths[lib]);\n",
       "        s.onerror = () => reject(`Error loading script: ${paths[lib]}`);\n",
       "        document.getElementsByTagName(\"head\")[0].appendChild(s);\n",
       "      });\n",
       "    }\n",
       "\n",
       "    function showError(err) {\n",
       "      outputDiv.innerHTML = `<div class=\"error\" style=\"color:red;\">${err}</div>`;\n",
       "      throw err;\n",
       "    }\n",
       "\n",
       "    function displayChart(vegaEmbed) {\n",
       "      vegaEmbed(outputDiv, spec, embedOpt)\n",
       "        .catch(err => showError(`Javascript Error: ${err.message}<br>This usually means there's a typo in your chart specification. See the javascript console for the full traceback.`));\n",
       "    }\n",
       "\n",
       "    if(typeof define === \"function\" && define.amd) {\n",
       "      requirejs.config({paths});\n",
       "      require([\"vega-embed\"], displayChart, err => showError(`Error loading script: ${err.message}`));\n",
       "    } else if (typeof vegaEmbed === \"function\") {\n",
       "      displayChart(vegaEmbed);\n",
       "    } else {\n",
       "      loadScript(\"vega\")\n",
       "        .then(() => loadScript(\"vega-lite\"))\n",
       "        .then(() => loadScript(\"vega-embed\"))\n",
       "        .catch(showError)\n",
       "        .then(() => displayChart(vegaEmbed));\n",
       "    }\n",
       "  })({\"config\": {\"view\": {\"continuousWidth\": 400, \"continuousHeight\": 300}, \"axis\": {\"labelFontSize\": 12, \"titleColor\": \"#364547\", \"titleFontSize\": 12}, \"axisX\": {\"labelAngle\": -90}, \"font\": \"Roboto\", \"legend\": {\"labelFontSize\": 10, \"titleColor\": \"#364547\", \"titleFontSize\": 14}, \"title\": {\"align\": \"center\", \"color\": \"#364547\", \"fontSize\": 22}}, \"data\": {\"name\": \"data-c5e64c832f8e00bcfbab45c4f639c2d8\"}, \"mark\": \"line\", \"encoding\": {\"color\": {\"type\": \"nominal\", \"field\": \"model\", \"legend\": {\"title\": \"Products\"}}, \"opacity\": {\"condition\": {\"value\": 1.0, \"selection\": \"selector001\"}, \"value\": 0.1}, \"tooltip\": [{\"type\": \"nominal\", \"field\": \"country\"}, {\"type\": \"nominal\", \"field\": \"model\"}, {\"type\": \"quantitative\", \"field\": \"price_usd\"}], \"x\": {\"type\": \"nominal\", \"field\": \"country\", \"title\": \"Country\"}, \"y\": {\"type\": \"quantitative\", \"aggregate\": \"mean\", \"field\": \"price_usd\", \"title\": \"Price\"}}, \"height\": 550, \"selection\": {\"selector001\": {\"type\": \"single\", \"fields\": [\"model\"], \"bind\": {\"input\": \"select\", \"options\": [\"iPhone SE\", \"iPhone 12\", \"AirPods Pro\", \"AirPods(2nd generation)\", \"Apple TV 4K\", \"Apple Watch SE\", \"Apple Watch Series 3\", \"Sport Band\", \"iPad\", \"iPad Pro\", \"Apple Pencil (2nd generation)\", \"24-inch iMac\\u00b2\", \"MacBook Air\", \"Magic Mouse\"], \"name\": \"model   \"}}}, \"title\": {\"text\": \"Average Product Price\", \"subtitle\": [\"By Product\"]}, \"transform\": [{\"filter\": \"(isValid(datum.model))\"}], \"width\": 550, \"$schema\": \"https://vega.github.io/schema/vega-lite/v4.8.1.json\", \"datasets\": {\"data-c5e64c832f8e00bcfbab45c4f639c2d8\": [{\"Unnamed: 0\": 1, \"model\": \"iPhone SE\", \"country\": \"Australia\", \"region\": \"East Asia & Pacific\", \"income_group\": \"High income\", \"price_usd\": 491.37}, {\"Unnamed: 0\": 2, \"model\": \"iPhone 12\", \"country\": \"Australia\", \"region\": \"East Asia & Pacific\", \"income_group\": \"High income\", \"price_usd\": 722.94}, {\"Unnamed: 0\": 4, \"model\": \"AirPods Pro\", \"country\": \"Australia\", \"region\": \"East Asia & Pacific\", \"income_group\": \"High income\", \"price_usd\": 288.74}, {\"Unnamed: 0\": 5, \"model\": \"AirPods(2nd generation)\", \"country\": \"Australia\", \"region\": \"East Asia & Pacific\", \"income_group\": \"High income\", \"price_usd\": 158.48}, {\"Unnamed: 0\": 7, \"model\": \"Apple TV 4K\", \"country\": \"Australia\", \"region\": \"East Asia & Pacific\", \"income_group\": \"High income\", \"price_usd\": 180.19}, {\"Unnamed: 0\": 8, \"model\": \"Apple Watch SE\", \"country\": \"Australia\", \"region\": \"East Asia & Pacific\", \"income_group\": \"High income\", \"price_usd\": 310.45}, {\"Unnamed: 0\": 9, \"model\": \"Apple Watch Series 3\", \"country\": \"Australia\", \"region\": \"East Asia & Pacific\", \"income_group\": \"High income\", \"price_usd\": 216.38}, {\"Unnamed: 0\": 10, \"model\": \"Sport Band\", \"country\": \"Australia\", \"region\": \"East Asia & Pacific\", \"income_group\": \"High income\", \"price_usd\": 49.93}, {\"Unnamed: 0\": 11, \"model\": \"iPad\", \"country\": \"Australia\", \"region\": \"East Asia & Pacific\", \"income_group\": \"High income\", \"price_usd\": 361.11}, {\"Unnamed: 0\": 12, \"model\": \"iPad Pro\", \"country\": \"Australia\", \"region\": \"East Asia & Pacific\", \"income_group\": \"High income\", \"price_usd\": 867.67}, {\"Unnamed: 0\": 13, \"model\": \"Apple Pencil (2nd generation)\", \"country\": \"Australia\", \"region\": \"East Asia & Pacific\", \"income_group\": \"High income\", \"price_usd\": 144.01}, {\"Unnamed: 0\": 14, \"model\": \"24-inch iMac\\u00b2\", \"country\": \"Australia\", \"region\": \"East Asia & Pacific\", \"income_group\": \"High income\", \"price_usd\": 1374.24}, {\"Unnamed: 0\": 15, \"model\": \"MacBook Air\", \"country\": \"Australia\", \"region\": \"East Asia & Pacific\", \"income_group\": \"High income\", \"price_usd\": 1084.77}, {\"Unnamed: 0\": 16, \"model\": \"Magic Mouse\", \"country\": \"Australia\", \"region\": \"East Asia & Pacific\", \"income_group\": \"High income\", \"price_usd\": 78.88}, {\"Unnamed: 0\": 18, \"model\": \"iPhone SE\", \"country\": \"Austria\", \"region\": \"Europe & Central Asia\", \"income_group\": \"High income\", \"price_usd\": 543.9}, {\"Unnamed: 0\": 19, \"model\": \"iPhone 12\", \"country\": \"Austria\", \"region\": \"Europe & Central Asia\", \"income_group\": \"High income\", \"price_usd\": 771.0}, {\"Unnamed: 0\": 21, \"model\": \"AirPods Pro\", \"country\": \"Austria\", \"region\": \"Europe & Central Asia\", \"income_group\": \"High income\", \"price_usd\": 316.8}, {\"Unnamed: 0\": 22, \"model\": \"AirPods(2nd generation)\", \"country\": \"Austria\", \"region\": \"Europe & Central Asia\", \"income_group\": \"High income\", \"price_usd\": 169.19}, {\"Unnamed: 0\": 25, \"model\": \"Apple TV 4K\", \"country\": \"Austria\", \"region\": \"Europe & Central Asia\", \"income_group\": \"High income\", \"price_usd\": 225.96}, {\"Unnamed: 0\": 26, \"model\": \"Apple Watch SE\", \"country\": \"Austria\", \"region\": \"Europe & Central Asia\", \"income_group\": \"High income\", \"price_usd\": 339.51}, {\"Unnamed: 0\": 27, \"model\": \"Apple Watch Series 3\", \"country\": \"Austria\", \"region\": \"Europe & Central Asia\", \"income_group\": \"High income\", \"price_usd\": 248.67}, {\"Unnamed: 0\": 28, \"model\": \"Sport Band\", \"country\": \"Austria\", \"region\": \"Europe & Central Asia\", \"income_group\": \"High income\", \"price_usd\": 55.64}, {\"Unnamed: 0\": 29, \"model\": \"iPad\", \"country\": \"Austria\", \"region\": \"Europe & Central Asia\", \"income_group\": \"High income\", \"price_usd\": 430.35}, {\"Unnamed: 0\": 30, \"model\": \"iPad Pro\", \"country\": \"Austria\", \"region\": \"Europe & Central Asia\", \"income_group\": \"High income\", \"price_usd\": 998.1}, {\"Unnamed: 0\": 31, \"model\": \"Apple Pencil (2nd generation)\", \"country\": \"Austria\", \"region\": \"Europe & Central Asia\", \"income_group\": \"High income\", \"price_usd\": 153.29}, {\"Unnamed: 0\": 32, \"model\": \"24-inch iMac\\u00b2\", \"country\": \"Austria\", \"region\": \"Europe & Central Asia\", \"income_group\": \"High income\", \"price_usd\": 1645.34}, {\"Unnamed: 0\": 33, \"model\": \"MacBook Air\", \"country\": \"Austria\", \"region\": \"Europe & Central Asia\", \"income_group\": \"High income\", \"price_usd\": 1281.98}, {\"Unnamed: 0\": 34, \"model\": \"Magic Mouse\", \"country\": \"Austria\", \"region\": \"Europe & Central Asia\", \"income_group\": \"High income\", \"price_usd\": 96.52}, {\"Unnamed: 0\": 36, \"model\": \"iPhone SE\", \"country\": \"Germany\", \"region\": \"Europe & Central Asia\", \"income_group\": \"High income\", \"price_usd\": 543.9}, {\"Unnamed: 0\": 37, \"model\": \"iPhone 12\", \"country\": \"Germany\", \"region\": \"Europe & Central Asia\", \"income_group\": \"High income\", \"price_usd\": 771.0}, {\"Unnamed: 0\": 39, \"model\": \"AirPods Pro\", \"country\": \"Germany\", \"region\": \"Europe & Central Asia\", \"income_group\": \"High income\", \"price_usd\": 316.8}, {\"Unnamed: 0\": 40, \"model\": \"AirPods(2nd generation)\", \"country\": \"Germany\", \"region\": \"Europe & Central Asia\", \"income_group\": \"High income\", \"price_usd\": 169.19}, {\"Unnamed: 0\": 42, \"model\": \"Apple TV 4K\", \"country\": \"Germany\", \"region\": \"Europe & Central Asia\", \"income_group\": \"High income\", \"price_usd\": 225.96}, {\"Unnamed: 0\": 43, \"model\": \"Apple Watch SE\", \"country\": \"Germany\", \"region\": \"Europe & Central Asia\", \"income_group\": \"High income\", \"price_usd\": 339.51}, {\"Unnamed: 0\": 44, \"model\": \"Apple Watch Series 3\", \"country\": \"Germany\", \"region\": \"Europe & Central Asia\", \"income_group\": \"High income\", \"price_usd\": 248.67}, {\"Unnamed: 0\": 45, \"model\": \"Sport Band\", \"country\": \"Germany\", \"region\": \"Europe & Central Asia\", \"income_group\": \"High income\", \"price_usd\": 55.64}, {\"Unnamed: 0\": 46, \"model\": \"iPad\", \"country\": \"Germany\", \"region\": \"Europe & Central Asia\", \"income_group\": \"High income\", \"price_usd\": 430.35}, {\"Unnamed: 0\": 47, \"model\": \"iPad Pro\", \"country\": \"Germany\", \"region\": \"Europe & Central Asia\", \"income_group\": \"High income\", \"price_usd\": 998.1}, {\"Unnamed: 0\": 48, \"model\": \"Apple Pencil (2nd generation)\", \"country\": \"Germany\", \"region\": \"Europe & Central Asia\", \"income_group\": \"High income\", \"price_usd\": 153.29}, {\"Unnamed: 0\": 49, \"model\": \"24-inch iMac\\u00b2\", \"country\": \"Germany\", \"region\": \"Europe & Central Asia\", \"income_group\": \"High income\", \"price_usd\": 1645.34}, {\"Unnamed: 0\": 50, \"model\": \"MacBook Air\", \"country\": \"Germany\", \"region\": \"Europe & Central Asia\", \"income_group\": \"High income\", \"price_usd\": 1281.98}, {\"Unnamed: 0\": 51, \"model\": \"Magic Mouse\", \"country\": \"Germany\", \"region\": \"Europe & Central Asia\", \"income_group\": \"High income\", \"price_usd\": 96.52}, {\"Unnamed: 0\": 53, \"model\": \"iPhone SE\", \"country\": \"Spain\", \"region\": \"Europe & Central Asia\", \"income_group\": \"High income\", \"price_usd\": 555.26}, {\"Unnamed: 0\": 54, \"model\": \"iPhone 12\", \"country\": \"Spain\", \"region\": \"Europe & Central Asia\", \"income_group\": \"High income\", \"price_usd\": 782.36}, {\"Unnamed: 0\": 56, \"model\": \"AirPods Pro\", \"country\": \"Spain\", \"region\": \"Europe & Central Asia\", \"income_group\": \"High income\", \"price_usd\": 316.8}, {\"Unnamed: 0\": 57, \"model\": \"AirPods(2nd generation)\", \"country\": \"Spain\", \"region\": \"Europe & Central Asia\", \"income_group\": \"High income\", \"price_usd\": 169.19}, {\"Unnamed: 0\": 59, \"model\": \"Apple TV 4K\", \"country\": \"Spain\", \"region\": \"Europe & Central Asia\", \"income_group\": \"High income\", \"price_usd\": 225.96}, {\"Unnamed: 0\": 60, \"model\": \"Apple Watch SE\", \"country\": \"Spain\", \"region\": \"Europe & Central Asia\", \"income_group\": \"High income\", \"price_usd\": 339.51}, {\"Unnamed: 0\": 61, \"model\": \"Apple Watch Series 3\", \"country\": \"Spain\", \"region\": \"Europe & Central Asia\", \"income_group\": \"High income\", \"price_usd\": 248.67}, {\"Unnamed: 0\": 62, \"model\": \"Sport Band\", \"country\": \"Spain\", \"region\": \"Europe & Central Asia\", \"income_group\": \"High income\", \"price_usd\": 55.64}, {\"Unnamed: 0\": 63, \"model\": \"iPad\", \"country\": \"Spain\", \"region\": \"Europe & Central Asia\", \"income_group\": \"High income\", \"price_usd\": 430.35}, {\"Unnamed: 0\": 64, \"model\": \"iPad Pro\", \"country\": \"Spain\", \"region\": \"Europe & Central Asia\", \"income_group\": \"High income\", \"price_usd\": 998.1}, {\"Unnamed: 0\": 65, \"model\": \"Apple Pencil (2nd generation)\", \"country\": \"Spain\", \"region\": \"Europe & Central Asia\", \"income_group\": \"High income\", \"price_usd\": 153.29}, {\"Unnamed: 0\": 66, \"model\": \"24-inch iMac\\u00b2\", \"country\": \"Spain\", \"region\": \"Europe & Central Asia\", \"income_group\": \"High income\", \"price_usd\": 1645.34}, {\"Unnamed: 0\": 67, \"model\": \"MacBook Air\", \"country\": \"Spain\", \"region\": \"Europe & Central Asia\", \"income_group\": \"High income\", \"price_usd\": 1281.98}, {\"Unnamed: 0\": 68, \"model\": \"Magic Mouse\", \"country\": \"Spain\", \"region\": \"Europe & Central Asia\", \"income_group\": \"High income\", \"price_usd\": 96.52}, {\"Unnamed: 0\": 70, \"model\": \"iPhone SE\", \"country\": \"Finland\", \"region\": \"Europe & Central Asia\", \"income_group\": \"High income\", \"price_usd\": 566.61}, {\"Unnamed: 0\": 71, \"model\": \"iPhone 12\", \"country\": \"Finland\", \"region\": \"Europe & Central Asia\", \"income_group\": \"High income\", \"price_usd\": 805.07}, {\"Unnamed: 0\": 73, \"model\": \"AirPods Pro\", \"country\": \"Finland\", \"region\": \"Europe & Central Asia\", \"income_group\": \"High income\", \"price_usd\": 316.8}, {\"Unnamed: 0\": 74, \"model\": \"AirPods(2nd generation)\", \"country\": \"Finland\", \"region\": \"Europe & Central Asia\", \"income_group\": \"High income\", \"price_usd\": 169.19}, {\"Unnamed: 0\": 76, \"model\": \"Apple TV 4K\", \"country\": \"Finland\", \"region\": \"Europe & Central Asia\", \"income_group\": \"High income\", \"price_usd\": 225.96}, {\"Unnamed: 0\": 77, \"model\": \"Apple Watch SE\", \"country\": \"Finland\", \"region\": \"Europe & Central Asia\", \"income_group\": \"High income\", \"price_usd\": 350.87}, {\"Unnamed: 0\": 78, \"model\": \"Apple Watch Series 3\", \"country\": \"Finland\", \"region\": \"Europe & Central Asia\", \"income_group\": \"High income\", \"price_usd\": 260.03}, {\"Unnamed: 0\": 79, \"model\": \"Sport Band\", \"country\": \"Finland\", \"region\": \"Europe & Central Asia\", \"income_group\": \"High income\", \"price_usd\": 55.64}, {\"Unnamed: 0\": 80, \"model\": \"iPad\", \"country\": \"Finland\", \"region\": \"Europe & Central Asia\", \"income_group\": \"High income\", \"price_usd\": 453.06}, {\"Unnamed: 0\": 81, \"model\": \"iPad Pro\", \"country\": \"Finland\", \"region\": \"Europe & Central Asia\", \"income_group\": \"High income\", \"price_usd\": 1032.17}, {\"Unnamed: 0\": 82, \"model\": \"Apple Pencil (2nd generation)\", \"country\": \"Finland\", \"region\": \"Europe & Central Asia\", \"income_group\": \"High income\", \"price_usd\": 153.29}, {\"Unnamed: 0\": 83, \"model\": \"24-inch iMac\\u00b2\", \"country\": \"Finland\", \"region\": \"Europe & Central Asia\", \"income_group\": \"High income\", \"price_usd\": 1702.11}, {\"Unnamed: 0\": 84, \"model\": \"MacBook Air\", \"country\": \"Finland\", \"region\": \"Europe & Central Asia\", \"income_group\": \"High income\", \"price_usd\": 1316.04}, {\"Unnamed: 0\": 85, \"model\": \"Magic Mouse\", \"country\": \"Finland\", \"region\": \"Europe & Central Asia\", \"income_group\": \"High income\", \"price_usd\": 96.52}, {\"Unnamed: 0\": 87, \"model\": \"iPhone SE\", \"country\": \"France\", \"region\": \"Europe & Central Asia\", \"income_group\": \"High income\", \"price_usd\": 555.26}, {\"Unnamed: 0\": 88, \"model\": \"iPhone 12\", \"country\": \"France\", \"region\": \"Europe & Central Asia\", \"income_group\": \"High income\", \"price_usd\": 782.36}, {\"Unnamed: 0\": 90, \"model\": \"AirPods Pro\", \"country\": \"France\", \"region\": \"Europe & Central Asia\", \"income_group\": \"High income\", \"price_usd\": 316.8}, {\"Unnamed: 0\": 91, \"model\": \"AirPods(2nd generation)\", \"country\": \"France\", \"region\": \"Europe & Central Asia\", \"income_group\": \"High income\", \"price_usd\": 169.19}, {\"Unnamed: 0\": 93, \"model\": \"Apple TV 4K\", \"country\": \"France\", \"region\": \"Europe & Central Asia\", \"income_group\": \"High income\", \"price_usd\": 225.96}, {\"Unnamed: 0\": 94, \"model\": \"Apple Watch SE\", \"country\": \"France\", \"region\": \"Europe & Central Asia\", \"income_group\": \"High income\", \"price_usd\": 339.51}, {\"Unnamed: 0\": 95, \"model\": \"Apple Watch Series 3\", \"country\": \"France\", \"region\": \"Europe & Central Asia\", \"income_group\": \"High income\", \"price_usd\": 248.67}, {\"Unnamed: 0\": 96, \"model\": \"Sport Band\", \"country\": \"France\", \"region\": \"Europe & Central Asia\", \"income_group\": \"High income\", \"price_usd\": 55.64}, {\"Unnamed: 0\": 97, \"model\": \"iPad\", \"country\": \"France\", \"region\": \"Europe & Central Asia\", \"income_group\": \"High income\", \"price_usd\": 441.71}, {\"Unnamed: 0\": 98, \"model\": \"iPad Pro\", \"country\": \"France\", \"region\": \"Europe & Central Asia\", \"income_group\": \"High income\", \"price_usd\": 1020.81}, {\"Unnamed: 0\": 99, \"model\": \"Apple Pencil (2nd generation)\", \"country\": \"France\", \"region\": \"Europe & Central Asia\", \"income_group\": \"High income\", \"price_usd\": 153.29}, {\"Unnamed: 0\": 100, \"model\": \"24-inch iMac\\u00b2\", \"country\": \"France\", \"region\": \"Europe & Central Asia\", \"income_group\": \"High income\", \"price_usd\": 1645.34}, {\"Unnamed: 0\": 101, \"model\": \"MacBook Air\", \"country\": \"France\", \"region\": \"Europe & Central Asia\", \"income_group\": \"High income\", \"price_usd\": 1281.98}, {\"Unnamed: 0\": 102, \"model\": \"Magic Mouse\", \"country\": \"France\", \"region\": \"Europe & Central Asia\", \"income_group\": \"High income\", \"price_usd\": 96.52}, {\"Unnamed: 0\": 104, \"model\": \"iPhone SE\", \"country\": \"Ireland\", \"region\": \"Europe & Central Asia\", \"income_group\": \"High income\", \"price_usd\": 566.61}, {\"Unnamed: 0\": 105, \"model\": \"iPhone 12\", \"country\": \"Ireland\", \"region\": \"Europe & Central Asia\", \"income_group\": \"High income\", \"price_usd\": 805.07}, {\"Unnamed: 0\": 107, \"model\": \"AirPods Pro\", \"country\": \"Ireland\", \"region\": \"Europe & Central Asia\", \"income_group\": \"High income\", \"price_usd\": 316.8}, {\"Unnamed: 0\": 108, \"model\": \"AirPods(2nd generation)\", \"country\": \"Ireland\", \"region\": \"Europe & Central Asia\", \"income_group\": \"High income\", \"price_usd\": 169.19}, {\"Unnamed: 0\": 110, \"model\": \"Apple TV 4K\", \"country\": \"Ireland\", \"region\": \"Europe & Central Asia\", \"income_group\": \"High income\", \"price_usd\": 225.96}, {\"Unnamed: 0\": 111, \"model\": \"Apple Watch SE\", \"country\": \"Ireland\", \"region\": \"Europe & Central Asia\", \"income_group\": \"High income\", \"price_usd\": 339.51}, {\"Unnamed: 0\": 112, \"model\": \"Apple Watch Series 3\", \"country\": \"Ireland\", \"region\": \"Europe & Central Asia\", \"income_group\": \"High income\", \"price_usd\": 248.67}, {\"Unnamed: 0\": 113, \"model\": \"Sport Band\", \"country\": \"Ireland\", \"region\": \"Europe & Central Asia\", \"income_group\": \"High income\", \"price_usd\": 55.64}, {\"Unnamed: 0\": 114, \"model\": \"iPad\", \"country\": \"Ireland\", \"region\": \"Europe & Central Asia\", \"income_group\": \"High income\", \"price_usd\": 453.06}, {\"Unnamed: 0\": 115, \"model\": \"iPad Pro\", \"country\": \"Ireland\", \"region\": \"Europe & Central Asia\", \"income_group\": \"High income\", \"price_usd\": 1032.17}, {\"Unnamed: 0\": 116, \"model\": \"Apple Pencil (2nd generation)\", \"country\": \"Ireland\", \"region\": \"Europe & Central Asia\", \"income_group\": \"High income\", \"price_usd\": 153.29}, {\"Unnamed: 0\": 117, \"model\": \"24-inch iMac\\u00b2\", \"country\": \"Ireland\", \"region\": \"Europe & Central Asia\", \"income_group\": \"High income\", \"price_usd\": 1702.11}, {\"Unnamed: 0\": 118, \"model\": \"MacBook Air\", \"country\": \"Ireland\", \"region\": \"Europe & Central Asia\", \"income_group\": \"High income\", \"price_usd\": 1281.98}, {\"Unnamed: 0\": 119, \"model\": \"Magic Mouse\", \"country\": \"Ireland\", \"region\": \"Europe & Central Asia\", \"income_group\": \"High income\", \"price_usd\": 96.52}, {\"Unnamed: 0\": 121, \"model\": \"iPhone SE\", \"country\": \"Italy\", \"region\": \"Europe & Central Asia\", \"income_group\": \"High income\", \"price_usd\": 566.61}, {\"Unnamed: 0\": 122, \"model\": \"iPhone 12\", \"country\": \"Italy\", \"region\": \"Europe & Central Asia\", \"income_group\": \"High income\", \"price_usd\": 816.42}, {\"Unnamed: 0\": 124, \"model\": \"AirPods Pro\", \"country\": \"Italy\", \"region\": \"Europe & Central Asia\", \"income_group\": \"High income\", \"price_usd\": 316.8}, {\"Unnamed: 0\": 125, \"model\": \"AirPods(2nd generation)\", \"country\": \"Italy\", \"region\": \"Europe & Central Asia\", \"income_group\": \"High income\", \"price_usd\": 169.19}, {\"Unnamed: 0\": 127, \"model\": \"Apple TV 4K\", \"country\": \"Italy\", \"region\": \"Europe & Central Asia\", \"income_group\": \"High income\", \"price_usd\": 225.96}, {\"Unnamed: 0\": 128, \"model\": \"Apple Watch SE\", \"country\": \"Italy\", \"region\": \"Europe & Central Asia\", \"income_group\": \"High income\", \"price_usd\": 350.87}, {\"Unnamed: 0\": 129, \"model\": \"Apple Watch Series 3\", \"country\": \"Italy\", \"region\": \"Europe & Central Asia\", \"income_group\": \"High income\", \"price_usd\": 260.03}, {\"Unnamed: 0\": 130, \"model\": \"Sport Band\", \"country\": \"Italy\", \"region\": \"Europe & Central Asia\", \"income_group\": \"High income\", \"price_usd\": 55.64}, {\"Unnamed: 0\": 131, \"model\": \"iPad\", \"country\": \"Italy\", \"region\": \"Europe & Central Asia\", \"income_group\": \"High income\", \"price_usd\": 441.71}, {\"Unnamed: 0\": 132, \"model\": \"iPad Pro\", \"country\": \"Italy\", \"region\": \"Europe & Central Asia\", \"income_group\": \"High income\", \"price_usd\": 1020.81}, {\"Unnamed: 0\": 133, \"model\": \"Apple Pencil (2nd generation)\", \"country\": \"Italy\", \"region\": \"Europe & Central Asia\", \"income_group\": \"High income\", \"price_usd\": 153.29}, {\"Unnamed: 0\": 134, \"model\": \"24-inch iMac\\u00b2\", \"country\": \"Italy\", \"region\": \"Europe & Central Asia\", \"income_group\": \"High income\", \"price_usd\": 1702.11}, {\"Unnamed: 0\": 135, \"model\": \"MacBook Air\", \"country\": \"Italy\", \"region\": \"Europe & Central Asia\", \"income_group\": \"High income\", \"price_usd\": 1316.04}, {\"Unnamed: 0\": 136, \"model\": \"Magic Mouse\", \"country\": \"Italy\", \"region\": \"Europe & Central Asia\", \"income_group\": \"High income\", \"price_usd\": 96.52}, {\"Unnamed: 0\": 138, \"model\": \"iPhone SE\", \"country\": \"Luxembourg\", \"region\": \"Europe & Central Asia\", \"income_group\": \"High income\", \"price_usd\": 536.9}, {\"Unnamed: 0\": 139, \"model\": \"iPhone 12\", \"country\": \"Luxembourg\", \"region\": \"Europe & Central Asia\", \"income_group\": \"High income\", \"price_usd\": 756.49}, {\"Unnamed: 0\": 141, \"model\": \"AirPods Pro\", \"country\": \"Luxembourg\", \"region\": \"Europe & Central Asia\", \"income_group\": \"High income\", \"price_usd\": 306.34}, {\"Unnamed: 0\": 142, \"model\": \"AirPods(2nd generation)\", \"country\": \"Luxembourg\", \"region\": \"Europe & Central Asia\", \"income_group\": \"High income\", \"price_usd\": 163.59}, {\"Unnamed: 0\": 144, \"model\": \"Apple TV 4K\", \"country\": \"Luxembourg\", \"region\": \"Europe & Central Asia\", \"income_group\": \"High income\", \"price_usd\": 218.49}, {\"Unnamed: 0\": 145, \"model\": \"Apple Watch SE\", \"country\": \"Luxembourg\", \"region\": \"Europe & Central Asia\", \"income_group\": \"High income\", \"price_usd\": 328.3}, {\"Unnamed: 0\": 146, \"model\": \"Apple Watch Series 3\", \"country\": \"Luxembourg\", \"region\": \"Europe & Central Asia\", \"income_group\": \"High income\", \"price_usd\": 240.45}, {\"Unnamed: 0\": 147, \"model\": \"Sport Band\", \"country\": \"Luxembourg\", \"region\": \"Europe & Central Asia\", \"income_group\": \"High income\", \"price_usd\": 53.81}, {\"Unnamed: 0\": 148, \"model\": \"iPad\", \"country\": \"Luxembourg\", \"region\": \"Europe & Central Asia\", \"income_group\": \"High income\", \"price_usd\": 427.11}, {\"Unnamed: 0\": 149, \"model\": \"iPad Pro\", \"country\": \"Luxembourg\", \"region\": \"Europe & Central Asia\", \"income_group\": \"High income\", \"price_usd\": 987.08}, {\"Unnamed: 0\": 150, \"model\": \"Apple Pencil (2nd generation)\", \"country\": \"Luxembourg\", \"region\": \"Europe & Central Asia\", \"income_group\": \"High income\", \"price_usd\": 148.23}, {\"Unnamed: 0\": 151, \"model\": \"24-inch iMac\\u00b2\", \"country\": \"Luxembourg\", \"region\": \"Europe & Central Asia\", \"income_group\": \"High income\", \"price_usd\": 1590.95}, {\"Unnamed: 0\": 152, \"model\": \"MacBook Air\", \"country\": \"Luxembourg\", \"region\": \"Europe & Central Asia\", \"income_group\": \"High income\", \"price_usd\": 1239.6}, {\"Unnamed: 0\": 153, \"model\": \"Magic Mouse\", \"country\": \"Luxembourg\", \"region\": \"Europe & Central Asia\", \"income_group\": \"High income\", \"price_usd\": 93.33}, {\"Unnamed: 0\": 155, \"model\": \"iPhone SE\", \"country\": \"Netherlands\", \"region\": \"Europe & Central Asia\", \"income_group\": \"High income\", \"price_usd\": 558.78}, {\"Unnamed: 0\": 156, \"model\": \"iPhone 12\", \"country\": \"Netherlands\", \"region\": \"Europe & Central Asia\", \"income_group\": \"High income\", \"price_usd\": 782.36}, {\"Unnamed: 0\": 158, \"model\": \"AirPods Pro\", \"country\": \"Netherlands\", \"region\": \"Europe & Central Asia\", \"income_group\": \"High income\", \"price_usd\": 316.8}, {\"Unnamed: 0\": 159, \"model\": \"AirPods(2nd generation)\", \"country\": \"Netherlands\", \"region\": \"Europe & Central Asia\", \"income_group\": \"High income\", \"price_usd\": 169.19}, {\"Unnamed: 0\": 161, \"model\": \"Apple TV 4K\", \"country\": \"Netherlands\", \"region\": \"Europe & Central Asia\", \"income_group\": \"High income\", \"price_usd\": 225.96}, {\"Unnamed: 0\": 162, \"model\": \"Apple Watch SE\", \"country\": \"Netherlands\", \"region\": \"Europe & Central Asia\", \"income_group\": \"High income\", \"price_usd\": 339.51}, {\"Unnamed: 0\": 163, \"model\": \"Apple Watch Series 3\", \"country\": \"Netherlands\", \"region\": \"Europe & Central Asia\", \"income_group\": \"High income\", \"price_usd\": 248.67}, {\"Unnamed: 0\": 164, \"model\": \"Sport Band\", \"country\": \"Netherlands\", \"region\": \"Europe & Central Asia\", \"income_group\": \"High income\", \"price_usd\": 55.64}, {\"Unnamed: 0\": 165, \"model\": \"iPad\", \"country\": \"Netherlands\", \"region\": \"Europe & Central Asia\", \"income_group\": \"High income\", \"price_usd\": 441.71}, {\"Unnamed: 0\": 166, \"model\": \"iPad Pro\", \"country\": \"Netherlands\", \"region\": \"Europe & Central Asia\", \"income_group\": \"High income\", \"price_usd\": 1020.81}, {\"Unnamed: 0\": 167, \"model\": \"Apple Pencil (2nd generation)\", \"country\": \"Netherlands\", \"region\": \"Europe & Central Asia\", \"income_group\": \"High income\", \"price_usd\": 153.29}, {\"Unnamed: 0\": 168, \"model\": \"24-inch iMac\\u00b2\", \"country\": \"Netherlands\", \"region\": \"Europe & Central Asia\", \"income_group\": \"High income\", \"price_usd\": 1645.34}, {\"Unnamed: 0\": 169, \"model\": \"MacBook Air\", \"country\": \"Netherlands\", \"region\": \"Europe & Central Asia\", \"income_group\": \"High income\", \"price_usd\": 1282.09}, {\"Unnamed: 0\": 170, \"model\": \"Magic Mouse\", \"country\": \"Netherlands\", \"region\": \"Europe & Central Asia\", \"income_group\": \"High income\", \"price_usd\": 96.52}, {\"Unnamed: 0\": 172, \"model\": \"iPhone SE\", \"country\": \"Portugal\", \"region\": \"Europe & Central Asia\", \"income_group\": \"High income\", \"price_usd\": 566.61}, {\"Unnamed: 0\": 173, \"model\": \"iPhone 12\", \"country\": \"Portugal\", \"region\": \"Europe & Central Asia\", \"income_group\": \"High income\", \"price_usd\": 805.07}, {\"Unnamed: 0\": 175, \"model\": \"AirPods Pro\", \"country\": \"Portugal\", \"region\": \"Europe & Central Asia\", \"income_group\": \"High income\", \"price_usd\": 316.8}, {\"Unnamed: 0\": 176, \"model\": \"AirPods(2nd generation)\", \"country\": \"Portugal\", \"region\": \"Europe & Central Asia\", \"income_group\": \"High income\", \"price_usd\": 169.19}, {\"Unnamed: 0\": 178, \"model\": \"Apple TV 4K\", \"country\": \"Portugal\", \"region\": \"Europe & Central Asia\", \"income_group\": \"High income\", \"price_usd\": 225.96}, {\"Unnamed: 0\": 179, \"model\": \"Apple Watch SE\", \"country\": \"Portugal\", \"region\": \"Europe & Central Asia\", \"income_group\": \"High income\", \"price_usd\": 350.87}, {\"Unnamed: 0\": 180, \"model\": \"Apple Watch Series 3\", \"country\": \"Portugal\", \"region\": \"Europe & Central Asia\", \"income_group\": \"High income\", \"price_usd\": 260.03}, {\"Unnamed: 0\": 181, \"model\": \"Sport Band\", \"country\": \"Portugal\", \"region\": \"Europe & Central Asia\", \"income_group\": \"High income\", \"price_usd\": 55.64}, {\"Unnamed: 0\": 182, \"model\": \"iPad\", \"country\": \"Portugal\", \"region\": \"Europe & Central Asia\", \"income_group\": \"High income\", \"price_usd\": 453.06}, {\"Unnamed: 0\": 183, \"model\": \"iPad Pro\", \"country\": \"Portugal\", \"region\": \"Europe & Central Asia\", \"income_group\": \"High income\", \"price_usd\": 1032.17}, {\"Unnamed: 0\": 184, \"model\": \"Apple Pencil (2nd generation)\", \"country\": \"Portugal\", \"region\": \"Europe & Central Asia\", \"income_group\": \"High income\", \"price_usd\": 153.29}, {\"Unnamed: 0\": 185, \"model\": \"24-inch iMac\\u00b2\", \"country\": \"Portugal\", \"region\": \"Europe & Central Asia\", \"income_group\": \"High income\", \"price_usd\": 1702.11}, {\"Unnamed: 0\": 186, \"model\": \"MacBook Air\", \"country\": \"Portugal\", \"region\": \"Europe & Central Asia\", \"income_group\": \"High income\", \"price_usd\": 1316.04}, {\"Unnamed: 0\": 187, \"model\": \"Magic Mouse\", \"country\": \"Portugal\", \"region\": \"Europe & Central Asia\", \"income_group\": \"High income\", \"price_usd\": 96.52}, {\"Unnamed: 0\": 189, \"model\": \"iPhone SE\", \"country\": \"Brazil\", \"region\": \"Latin America & Caribbean\", \"income_group\": \"Upper middle income\", \"price_usd\": 661.05}, {\"Unnamed: 0\": 190, \"model\": \"iPhone 12\", \"country\": \"Brazil\", \"region\": \"Latin America & Caribbean\", \"income_group\": \"Upper middle income\", \"price_usd\": 1018.46}, {\"Unnamed: 0\": 191, \"model\": \"AirPods Pro\", \"country\": \"Brazil\", \"region\": \"Latin America & Caribbean\", \"income_group\": \"Upper middle income\", \"price_usd\": 535.95}, {\"Unnamed: 0\": 192, \"model\": \"AirPods(2nd generation)\", \"country\": \"Brazil\", \"region\": \"Latin America & Caribbean\", \"income_group\": \"Upper middle income\", \"price_usd\": 294.69}, {\"Unnamed: 0\": 194, \"model\": \"Apple TV 4K\", \"country\": \"Brazil\", \"region\": \"Latin America & Caribbean\", \"income_group\": \"Upper middle income\", \"price_usd\": 428.72}, {\"Unnamed: 0\": 195, \"model\": \"Apple Watch SE\", \"country\": \"Brazil\", \"region\": \"Latin America & Caribbean\", \"income_group\": \"Upper middle income\", \"price_usd\": 678.92}, {\"Unnamed: 0\": 196, \"model\": \"Apple Watch Series 3\", \"country\": \"Brazil\", \"region\": \"Latin America & Caribbean\", \"income_group\": \"Upper middle income\", \"price_usd\": 464.47}, {\"Unnamed: 0\": 197, \"model\": \"Sport Band\", \"country\": \"Brazil\", \"region\": \"Latin America & Caribbean\", \"income_group\": \"Upper middle income\", \"price_usd\": 98.11}, {\"Unnamed: 0\": 198, \"model\": \"iPad\", \"country\": \"Brazil\", \"region\": \"Latin America & Caribbean\", \"income_group\": \"Upper middle income\", \"price_usd\": 714.66}, {\"Unnamed: 0\": 199, \"model\": \"iPad Pro\", \"country\": \"Brazil\", \"region\": \"Latin America & Caribbean\", \"income_group\": \"Upper middle income\", \"price_usd\": 1929.88}, {\"Unnamed: 0\": 200, \"model\": \"Apple Pencil (2nd generation)\", \"country\": \"Brazil\", \"region\": \"Latin America & Caribbean\", \"income_group\": \"Upper middle income\", \"price_usd\": 285.76}, {\"Unnamed: 0\": 201, \"model\": \"24-inch iMac\\u00b2\", \"country\": \"Brazil\", \"region\": \"Latin America & Caribbean\", \"income_group\": \"Upper middle income\", \"price_usd\": 3145.1}, {\"Unnamed: 0\": 202, \"model\": \"MacBook Air\", \"country\": \"Brazil\", \"region\": \"Latin America & Caribbean\", \"income_group\": \"Upper middle income\", \"price_usd\": 2323.04}, {\"Unnamed: 0\": 203, \"model\": \"Magic Mouse\", \"country\": \"Brazil\", \"region\": \"Latin America & Caribbean\", \"income_group\": \"Upper middle income\", \"price_usd\": 160.66}, {\"Unnamed: 0\": 205, \"model\": \"iPhone SE\", \"country\": \"Canada\", \"region\": \"North America\", \"income_group\": \"High income\", \"price_usd\": 448.06}, {\"Unnamed: 0\": 206, \"model\": \"iPhone 12\", \"country\": \"Canada\", \"region\": \"North America\", \"income_group\": \"High income\", \"price_usd\": 629.17}, {\"Unnamed: 0\": 208, \"model\": \"AirPods Pro\", \"country\": \"Canada\", \"region\": \"North America\", \"income_group\": \"High income\", \"price_usd\": 259.07}, {\"Unnamed: 0\": 209, \"model\": \"AirPods(2nd generation)\", \"country\": \"Canada\", \"region\": \"North America\", \"income_group\": \"High income\", \"price_usd\": 140.95}, {\"Unnamed: 0\": 211, \"model\": \"Apple TV 4K\", \"country\": \"Canada\", \"region\": \"North America\", \"income_group\": \"High income\", \"price_usd\": 180.33}, {\"Unnamed: 0\": 212, \"model\": \"Apple Watch SE\", \"country\": \"Canada\", \"region\": \"North America\", \"income_group\": \"High income\", \"price_usd\": 290.57}, {\"Unnamed: 0\": 213, \"model\": \"Apple Watch Series 3\", \"country\": \"Canada\", \"region\": \"North America\", \"income_group\": \"High income\", \"price_usd\": 196.07}, {\"Unnamed: 0\": 214, \"model\": \"Sport Band\", \"country\": \"Canada\", \"region\": \"North America\", \"income_group\": \"High income\", \"price_usd\": 46.46}, {\"Unnamed: 0\": 215, \"model\": \"iPad\", \"country\": \"Canada\", \"region\": \"North America\", \"income_group\": \"High income\", \"price_usd\": 337.82}, {\"Unnamed: 0\": 216, \"model\": \"iPad Pro\", \"country\": \"Canada\", \"region\": \"North America\", \"income_group\": \"High income\", \"price_usd\": 786.66}, {\"Unnamed: 0\": 217, \"model\": \"Apple Pencil (2nd generation)\", \"country\": \"Canada\", \"region\": \"North America\", \"income_group\": \"High income\", \"price_usd\": 133.08}, {\"Unnamed: 0\": 218, \"model\": \"24-inch iMac\\u00b2\", \"country\": \"Canada\", \"region\": \"North America\", \"income_group\": \"High income\", \"price_usd\": 1259.13}, {\"Unnamed: 0\": 219, \"model\": \"MacBook Air\", \"country\": \"Canada\", \"region\": \"North America\", \"income_group\": \"High income\", \"price_usd\": 1022.89}, {\"Unnamed: 0\": 220, \"model\": \"Magic Mouse\", \"country\": \"Canada\", \"region\": \"North America\", \"income_group\": \"High income\", \"price_usd\": 70.08}, {\"Unnamed: 0\": 222, \"model\": \"iPhone SE\", \"country\": \"Czech Republic\", \"region\": \"Europe & Central Asia\", \"income_group\": \"High income\", \"price_usd\": 534.85}, {\"Unnamed: 0\": 223, \"model\": \"iPhone 12\", \"country\": \"Czech Republic\", \"region\": \"Europe & Central Asia\", \"income_group\": \"High income\", \"price_usd\": 777.34}, {\"Unnamed: 0\": 225, \"model\": \"AirPods Pro\", \"country\": \"Czech Republic\", \"region\": \"Europe & Central Asia\", \"income_group\": \"High income\", \"price_usd\": 333.54}, {\"Unnamed: 0\": 226, \"model\": \"AirPods(2nd generation)\", \"country\": \"Czech Republic\", \"region\": \"Europe & Central Asia\", \"income_group\": \"High income\", \"price_usd\": 173.4}, {\"Unnamed: 0\": 228, \"model\": \"Apple TV 4K\", \"country\": \"Czech Republic\", \"region\": \"Europe & Central Asia\", \"income_group\": \"High income\", \"price_usd\": 228.31}, {\"Unnamed: 0\": 229, \"model\": \"Apple Watch SE\", \"country\": \"Czech Republic\", \"region\": \"Europe & Central Asia\", \"income_group\": \"High income\", \"price_usd\": 365.57}, {\"Unnamed: 0\": 230, \"model\": \"Apple Watch Series 3\", \"country\": \"Czech Republic\", \"region\": \"Europe & Central Asia\", \"income_group\": \"High income\", \"price_usd\": 251.18}, {\"Unnamed: 0\": 231, \"model\": \"Sport Band\", \"country\": \"Czech Republic\", \"region\": \"Europe & Central Asia\", \"income_group\": \"High income\", \"price_usd\": 59.02}, {\"Unnamed: 0\": 232, \"model\": \"iPad\", \"country\": \"Czech Republic\", \"region\": \"Europe & Central Asia\", \"income_group\": \"High income\", \"price_usd\": 457.07}, {\"Unnamed: 0\": 233, \"model\": \"iPad Pro\", \"country\": \"Czech Republic\", \"region\": \"Europe & Central Asia\", \"income_group\": \"High income\", \"price_usd\": 1051.86}, {\"Unnamed: 0\": 234, \"model\": \"Apple Pencil (2nd generation)\", \"country\": \"Czech Republic\", \"region\": \"Europe & Central Asia\", \"income_group\": \"High income\", \"price_usd\": 159.68}, {\"Unnamed: 0\": 235, \"model\": \"24-inch iMac\\u00b2\", \"country\": \"Czech Republic\", \"region\": \"Europe & Central Asia\", \"income_group\": \"High income\", \"price_usd\": 1738.16}, {\"Unnamed: 0\": 236, \"model\": \"MacBook Air\", \"country\": \"Czech Republic\", \"region\": \"Europe & Central Asia\", \"income_group\": \"High income\", \"price_usd\": 1372.13}, {\"Unnamed: 0\": 237, \"model\": \"Magic Mouse\", \"country\": \"Czech Republic\", \"region\": \"Europe & Central Asia\", \"income_group\": \"High income\", \"price_usd\": 104.77}, {\"Unnamed: 0\": 239, \"model\": \"iPhone SE\", \"country\": \"Denmark\", \"region\": \"Europe & Central Asia\", \"income_group\": \"High income\", \"price_usd\": 557.96}, {\"Unnamed: 0\": 240, \"model\": \"iPhone 12\", \"country\": \"Denmark\", \"region\": \"Europe & Central Asia\", \"income_group\": \"High income\", \"price_usd\": 817.48}, {\"Unnamed: 0\": 242, \"model\": \"AirPods Pro\", \"country\": \"Denmark\", \"region\": \"Europe & Central Asia\", \"income_group\": \"High income\", \"price_usd\": 335.69}, {\"Unnamed: 0\": 243, \"model\": \"AirPods(2nd generation)\", \"country\": \"Denmark\", \"region\": \"Europe & Central Asia\", \"income_group\": \"High income\", \"price_usd\": 172.35}, {\"Unnamed: 0\": 245, \"model\": \"Apple TV 4K\", \"country\": \"Denmark\", \"region\": \"Europe & Central Asia\", \"income_group\": \"High income\", \"price_usd\": 228.83}, {\"Unnamed: 0\": 246, \"model\": \"Apple Watch SE\", \"country\": \"Denmark\", \"region\": \"Europe & Central Asia\", \"income_group\": \"High income\", \"price_usd\": 350.96}, {\"Unnamed: 0\": 247, \"model\": \"Apple Watch Series 3\", \"country\": \"Denmark\", \"region\": \"Europe & Central Asia\", \"income_group\": \"High income\", \"price_usd\": 259.37}, {\"Unnamed: 0\": 248, \"model\": \"Sport Band\", \"country\": \"Denmark\", \"region\": \"Europe & Central Asia\", \"income_group\": \"High income\", \"price_usd\": 56.33}, {\"Unnamed: 0\": 249, \"model\": \"iPad\", \"country\": \"Denmark\", \"region\": \"Europe & Central Asia\", \"income_group\": \"High income\", \"price_usd\": 435.84}, {\"Unnamed: 0\": 250, \"model\": \"iPad Pro\", \"country\": \"Denmark\", \"region\": \"Europe & Central Asia\", \"income_group\": \"High income\", \"price_usd\": 1031.2}, {\"Unnamed: 0\": 251, \"model\": \"Apple Pencil (2nd generation)\", \"country\": \"Denmark\", \"region\": \"Europe & Central Asia\", \"income_group\": \"High income\", \"price_usd\": 167.77}, {\"Unnamed: 0\": 252, \"model\": \"24-inch iMac\\u00b2\", \"country\": \"Denmark\", \"region\": \"Europe & Central Asia\", \"income_group\": \"High income\", \"price_usd\": 1763.96}, {\"Unnamed: 0\": 253, \"model\": \"MacBook Air\", \"country\": \"Denmark\", \"region\": \"Europe & Central Asia\", \"income_group\": \"High income\", \"price_usd\": 1336.52}, {\"Unnamed: 0\": 254, \"model\": \"Magic Mouse\", \"country\": \"Denmark\", \"region\": \"Europe & Central Asia\", \"income_group\": \"High income\", \"price_usd\": 103.65}, {\"Unnamed: 0\": 256, \"model\": \"iPhone SE\", \"country\": \"Hungary\", \"region\": \"Europe & Central Asia\", \"income_group\": \"High income\", \"price_usd\": 540.37}, {\"Unnamed: 0\": 257, \"model\": \"iPhone 12\", \"country\": \"Hungary\", \"region\": \"Europe & Central Asia\", \"income_group\": \"High income\", \"price_usd\": 771.98}, {\"Unnamed: 0\": 259, \"model\": \"AirPods Pro\", \"country\": \"Hungary\", \"region\": \"Europe & Central Asia\", \"income_group\": \"High income\", \"price_usd\": 308.77}, {\"Unnamed: 0\": 260, \"model\": \"AirPods(2nd generation)\", \"country\": \"Hungary\", \"region\": \"Europe & Central Asia\", \"income_group\": \"High income\", \"price_usd\": 163.63}, {\"Unnamed: 0\": 262, \"model\": \"Apple TV 4K\", \"country\": \"Hungary\", \"region\": \"Europe & Central Asia\", \"income_group\": \"High income\", \"price_usd\": 222.31}, {\"Unnamed: 0\": 263, \"model\": \"Apple Watch SE\", \"country\": \"Hungary\", \"region\": \"Europe & Central Asia\", \"income_group\": \"High income\", \"price_usd\": 339.65}, {\"Unnamed: 0\": 264, \"model\": \"Apple Watch Series 3\", \"country\": \"Hungary\", \"region\": \"Europe & Central Asia\", \"income_group\": \"High income\", \"price_usd\": 240.84}, {\"Unnamed: 0\": 265, \"model\": \"Sport Band\", \"country\": \"Hungary\", \"region\": \"Europe & Central Asia\", \"income_group\": \"High income\", \"price_usd\": 55.55}, {\"Unnamed: 0\": 266, \"model\": \"iPad\", \"country\": \"Hungary\", \"region\": \"Europe & Central Asia\", \"income_group\": \"High income\", \"price_usd\": 416.85}, {\"Unnamed: 0\": 267, \"model\": \"iPad Pro\", \"country\": \"Hungary\", \"region\": \"Europe & Central Asia\", \"income_group\": \"High income\", \"price_usd\": 1003.58}, {\"Unnamed: 0\": 268, \"model\": \"Apple Pencil (2nd generation)\", \"country\": \"Hungary\", \"region\": \"Europe & Central Asia\", \"income_group\": \"High income\", \"price_usd\": 154.37}, {\"Unnamed: 0\": 269, \"model\": \"24-inch iMac\\u00b2\", \"country\": \"Hungary\", \"region\": \"Europe & Central Asia\", \"income_group\": \"High income\", \"price_usd\": 1667.51}, {\"Unnamed: 0\": 270, \"model\": \"MacBook Air\", \"country\": \"Hungary\", \"region\": \"Europe & Central Asia\", \"income_group\": \"High income\", \"price_usd\": 1327.82}, {\"Unnamed: 0\": 271, \"model\": \"Magic Mouse\", \"country\": \"Hungary\", \"region\": \"Europe & Central Asia\", \"income_group\": \"High income\", \"price_usd\": 108.05}, {\"Unnamed: 0\": 273, \"model\": \"iPhone SE\", \"country\": \"India\", \"region\": \"South Asia\", \"income_group\": \"Lower middle income\", \"price_usd\": 536.84}, {\"Unnamed: 0\": 274, \"model\": \"iPhone 12\", \"country\": \"India\", \"region\": \"South Asia\", \"income_group\": \"Lower middle income\", \"price_usd\": 805.93}, {\"Unnamed: 0\": 276, \"model\": \"AirPods Pro\", \"country\": \"India\", \"region\": \"South Asia\", \"income_group\": \"Lower middle income\", \"price_usd\": 335.02}, {\"Unnamed: 0\": 277, \"model\": \"AirPods(2nd generation)\", \"country\": \"India\", \"region\": \"South Asia\", \"income_group\": \"Lower middle income\", \"price_usd\": 173.56}, {\"Unnamed: 0\": 279, \"model\": \"Apple TV 4K\", \"country\": \"India\", \"region\": \"South Asia\", \"income_group\": \"Lower middle income\", \"price_usd\": 254.29}, {\"Unnamed: 0\": 281, \"model\": \"Apple Watch SE\", \"country\": \"India\", \"region\": \"South Asia\", \"income_group\": \"Lower middle income\", \"price_usd\": 402.29}, {\"Unnamed: 0\": 282, \"model\": \"Apple Watch Series 3\", \"country\": \"India\", \"region\": \"South Asia\", \"income_group\": \"Lower middle income\", \"price_usd\": 281.2}, {\"Unnamed: 0\": 283, \"model\": \"Sport Band\", \"country\": \"India\", \"region\": \"South Asia\", \"income_group\": \"Lower middle income\", \"price_usd\": 52.47}, {\"Unnamed: 0\": 284, \"model\": \"iPad\", \"country\": \"India\", \"region\": \"South Asia\", \"income_group\": \"Lower middle income\", \"price_usd\": 415.75}, {\"Unnamed: 0\": 285, \"model\": \"iPad Pro\", \"country\": \"India\", \"region\": \"South Asia\", \"income_group\": \"Lower middle income\", \"price_usd\": 967.39}, {\"Unnamed: 0\": 286, \"model\": \"Apple Pencil (2nd generation)\", \"country\": \"India\", \"region\": \"South Asia\", \"income_group\": \"Lower middle income\", \"price_usd\": 146.66}, {\"Unnamed: 0\": 287, \"model\": \"24-inch iMac\\u00b2\", \"country\": \"India\", \"region\": \"South Asia\", \"income_group\": \"Lower middle income\", \"price_usd\": 1613.21}, {\"Unnamed: 0\": 288, \"model\": \"MacBook Air\", \"country\": \"India\", \"region\": \"South Asia\", \"income_group\": \"Lower middle income\", \"price_usd\": 1249.93}, {\"Unnamed: 0\": 289, \"model\": \"Magic Mouse\", \"country\": \"India\", \"region\": \"South Asia\", \"income_group\": \"Lower middle income\", \"price_usd\": 100.91}, {\"Unnamed: 0\": 291, \"model\": \"iPhone SE\", \"country\": \"Mexico\", \"region\": \"Latin America & Caribbean\", \"income_group\": \"Upper middle income\", \"price_usd\": 537.73}, {\"Unnamed: 0\": 292, \"model\": \"iPhone 12\", \"country\": \"Mexico\", \"region\": \"Latin America & Caribbean\", \"income_group\": \"Upper middle income\", \"price_usd\": 733.29}, {\"Unnamed: 0\": 294, \"model\": \"AirPods Pro\", \"country\": \"Mexico\", \"region\": \"Latin America & Caribbean\", \"income_group\": \"Upper middle income\", \"price_usd\": 293.29}, {\"Unnamed: 0\": 295, \"model\": \"AirPods(2nd generation)\", \"country\": \"Mexico\", \"region\": \"Latin America & Caribbean\", \"income_group\": \"Upper middle income\", \"price_usd\": 161.29}, {\"Unnamed: 0\": 297, \"model\": \"Apple TV 4K\", \"country\": \"Mexico\", \"region\": \"Latin America & Caribbean\", \"income_group\": \"Upper middle income\", \"price_usd\": 219.95}, {\"Unnamed: 0\": 298, \"model\": \"Apple Watch SE\", \"country\": \"Mexico\", \"region\": \"Latin America & Caribbean\", \"income_group\": \"Upper middle income\", \"price_usd\": 366.62}, {\"Unnamed: 0\": 299, \"model\": \"Apple Watch Series 3\", \"country\": \"Mexico\", \"region\": \"Latin America & Caribbean\", \"income_group\": \"Upper middle income\", \"price_usd\": 244.4}, {\"Unnamed: 0\": 300, \"model\": \"Sport Band\", \"country\": \"Mexico\", \"region\": \"Latin America & Caribbean\", \"income_group\": \"Upper middle income\", \"price_usd\": 58.62}, {\"Unnamed: 0\": 301, \"model\": \"iPad\", \"country\": \"Mexico\", \"region\": \"Latin America & Caribbean\", \"income_group\": \"Upper middle income\", \"price_usd\": 439.96}, {\"Unnamed: 0\": 302, \"model\": \"iPad Pro\", \"country\": \"Mexico\", \"region\": \"Latin America & Caribbean\", \"income_group\": \"Upper middle income\", \"price_usd\": 1026.63}, {\"Unnamed: 0\": 303, \"model\": \"Apple Pencil (2nd generation)\", \"country\": \"Mexico\", \"region\": \"Latin America & Caribbean\", \"income_group\": \"Upper middle income\", \"price_usd\": 161.29}, {\"Unnamed: 0\": 304, \"model\": \"24-inch iMac\\u00b2\", \"country\": \"Mexico\", \"region\": \"Latin America & Caribbean\", \"income_group\": \"Upper middle income\", \"price_usd\": 1637.75}, {\"Unnamed: 0\": 305, \"model\": \"MacBook Air\", \"country\": \"Mexico\", \"region\": \"Latin America & Caribbean\", \"income_group\": \"Upper middle income\", \"price_usd\": 1271.08}, {\"Unnamed: 0\": 306, \"model\": \"Magic Mouse\", \"country\": \"Mexico\", \"region\": \"Latin America & Caribbean\", \"income_group\": \"Upper middle income\", \"price_usd\": 97.73}, {\"Unnamed: 0\": 308, \"model\": \"iPhone SE\", \"country\": \"Norway\", \"region\": \"Europe & Central Asia\", \"income_group\": \"High income\", \"price_usd\": 566.54}, {\"Unnamed: 0\": 309, \"model\": \"iPhone 12\", \"country\": \"Norway\", \"region\": \"Europe & Central Asia\", \"income_group\": \"High income\", \"price_usd\": 793.61}, {\"Unnamed: 0\": 311, \"model\": \"AirPods Pro\", \"country\": \"Norway\", \"region\": \"Europe & Central Asia\", \"income_group\": \"High income\", \"price_usd\": 339.47}, {\"Unnamed: 0\": 312, \"model\": \"AirPods(2nd generation)\", \"country\": \"Norway\", \"region\": \"Europe & Central Asia\", \"income_group\": \"High income\", \"price_usd\": 164.63}, {\"Unnamed: 0\": 314, \"model\": \"Apple TV 4K\", \"country\": \"Norway\", \"region\": \"Europe & Central Asia\", \"income_group\": \"High income\", \"price_usd\": 225.94}, {\"Unnamed: 0\": 315, \"model\": \"Apple Watch SE\", \"country\": \"Norway\", \"region\": \"Europe & Central Asia\", \"income_group\": \"High income\", \"price_usd\": 373.53}, {\"Unnamed: 0\": 316, \"model\": \"Apple Watch Series 3\", \"country\": \"Norway\", \"region\": \"Europe & Central Asia\", \"income_group\": \"High income\", \"price_usd\": 260.0}, {\"Unnamed: 0\": 317, \"model\": \"Sport Band\", \"country\": \"Norway\", \"region\": \"Europe & Central Asia\", \"income_group\": \"High income\", \"price_usd\": 56.65}, {\"Unnamed: 0\": 318, \"model\": \"iPad\", \"country\": \"Norway\", \"region\": \"Europe & Central Asia\", \"income_group\": \"High income\", \"price_usd\": 453.01}, {\"Unnamed: 0\": 319, \"model\": \"iPad Pro\", \"country\": \"Norway\", \"region\": \"Europe & Central Asia\", \"income_group\": \"High income\", \"price_usd\": 1020.68}, {\"Unnamed: 0\": 320, \"model\": \"Apple Pencil (2nd generation)\", \"country\": \"Norway\", \"region\": \"Europe & Central Asia\", \"income_group\": \"High income\", \"price_usd\": 170.19}, {\"Unnamed: 0\": 321, \"model\": \"24-inch iMac\\u00b2\", \"country\": \"Norway\", \"region\": \"Europe & Central Asia\", \"income_group\": \"High income\", \"price_usd\": 1735.95}, {\"Unnamed: 0\": 322, \"model\": \"MacBook Air\", \"country\": \"Norway\", \"region\": \"Europe & Central Asia\", \"income_group\": \"High income\", \"price_usd\": 1361.29}, {\"Unnamed: 0\": 323, \"model\": \"Magic Mouse\", \"country\": \"Norway\", \"region\": \"Europe & Central Asia\", \"income_group\": \"High income\", \"price_usd\": 107.74}, {\"Unnamed: 0\": 325, \"model\": \"iPhone SE\", \"country\": \"Philippines\", \"region\": \"East Asia & Pacific\", \"income_group\": \"Lower middle income\", \"price_usd\": 518.15}, {\"Unnamed: 0\": 326, \"model\": \"iPhone 12\", \"country\": \"Philippines\", \"region\": \"East Asia & Pacific\", \"income_group\": \"Lower middle income\", \"price_usd\": 762.66}, {\"Unnamed: 0\": 328, \"model\": \"AirPods Pro\", \"country\": \"Philippines\", \"region\": \"East Asia & Pacific\", \"income_group\": \"Lower middle income\", \"price_usd\": 293.21}, {\"Unnamed: 0\": 329, \"model\": \"AirPods(2nd generation)\", \"country\": \"Philippines\", \"region\": \"East Asia & Pacific\", \"income_group\": \"Lower middle income\", \"price_usd\": 150.42}, {\"Unnamed: 0\": 331, \"model\": \"Apple TV 4K\", \"country\": \"Philippines\", \"region\": \"East Asia & Pacific\", \"income_group\": \"Lower middle income\", \"price_usd\": 214.97}, {\"Unnamed: 0\": 332, \"model\": \"Apple Watch SE\", \"country\": \"Philippines\", \"region\": \"East Asia & Pacific\", \"income_group\": \"Lower middle income\", \"price_usd\": 312.77}, {\"Unnamed: 0\": 333, \"model\": \"Apple Watch Series 3\", \"country\": \"Philippines\", \"region\": \"East Asia & Pacific\", \"income_group\": \"Lower middle income\", \"price_usd\": 224.75}, {\"Unnamed: 0\": 334, \"model\": \"Sport Band\", \"country\": \"Philippines\", \"region\": \"East Asia & Pacific\", \"income_group\": \"Lower middle income\", \"price_usd\": 54.57}, {\"Unnamed: 0\": 335, \"model\": \"iPad\", \"country\": \"Philippines\", \"region\": \"East Asia & Pacific\", \"income_group\": \"Lower middle income\", \"price_usd\": 391.01}, {\"Unnamed: 0\": 336, \"model\": \"iPad Pro\", \"country\": \"Philippines\", \"region\": \"East Asia & Pacific\", \"income_group\": \"Lower middle income\", \"price_usd\": 899.58}, {\"Unnamed: 0\": 337, \"model\": \"Apple Pencil (2nd generation)\", \"country\": \"Philippines\", \"region\": \"East Asia & Pacific\", \"income_group\": \"Lower middle income\", \"price_usd\": 156.29}, {\"Unnamed: 0\": 338, \"model\": \"24-inch iMac\\u00b2\", \"country\": \"Philippines\", \"region\": \"East Asia & Pacific\", \"income_group\": \"Lower middle income\", \"price_usd\": 1447.27}, {\"Unnamed: 0\": 339, \"model\": \"MacBook Air\", \"country\": \"Philippines\", \"region\": \"East Asia & Pacific\", \"income_group\": \"Lower middle income\", \"price_usd\": 1075.63}, {\"Unnamed: 0\": 340, \"model\": \"Magic Mouse\", \"country\": \"Philippines\", \"region\": \"East Asia & Pacific\", \"income_group\": \"Lower middle income\", \"price_usd\": 78.05}, {\"Unnamed: 0\": 342, \"model\": \"iPhone SE\", \"country\": \"Poland\", \"region\": \"Europe & Central Asia\", \"income_group\": \"High income\", \"price_usd\": 544.06}, {\"Unnamed: 0\": 343, \"model\": \"iPhone 12\", \"country\": \"Poland\", \"region\": \"Europe & Central Asia\", \"income_group\": \"High income\", \"price_usd\": 779.1}, {\"Unnamed: 0\": 345, \"model\": \"AirPods Pro\", \"country\": \"Poland\", \"region\": \"Europe & Central Asia\", \"income_group\": \"High income\", \"price_usd\": 309.02}, {\"Unnamed: 0\": 346, \"model\": \"AirPods(2nd generation)\", \"country\": \"Poland\", \"region\": \"Europe & Central Asia\", \"income_group\": \"High income\", \"price_usd\": 160.57}, {\"Unnamed: 0\": 348, \"model\": \"Apple TV 4K\", \"country\": \"Poland\", \"region\": \"Europe & Central Asia\", \"income_group\": \"High income\", \"price_usd\": 222.42}, {\"Unnamed: 0\": 349, \"model\": \"Apple Watch SE\", \"country\": \"Poland\", \"region\": \"Europe & Central Asia\", \"income_group\": \"High income\", \"price_usd\": 333.76}, {\"Unnamed: 0\": 350, \"model\": \"Apple Watch Series 3\", \"country\": \"Poland\", \"region\": \"Europe & Central Asia\", \"income_group\": \"High income\", \"price_usd\": 247.17}, {\"Unnamed: 0\": 351, \"model\": \"Sport Band\", \"country\": \"Poland\", \"region\": \"Europe & Central Asia\", \"income_group\": \"High income\", \"price_usd\": 49.24}, {\"Unnamed: 0\": 352, \"model\": \"iPad\", \"country\": \"Poland\", \"region\": \"Europe & Central Asia\", \"income_group\": \"High income\", \"price_usd\": 420.35}, {\"Unnamed: 0\": 353, \"model\": \"iPad Pro\", \"country\": \"Poland\", \"region\": \"Europe & Central Asia\", \"income_group\": \"High income\", \"price_usd\": 964.66}, {\"Unnamed: 0\": 354, \"model\": \"Apple Pencil (2nd generation)\", \"country\": \"Poland\", \"region\": \"Europe & Central Asia\", \"income_group\": \"High income\", \"price_usd\": 153.15}, {\"Unnamed: 0\": 355, \"model\": \"24-inch iMac\\u00b2\", \"country\": \"Poland\", \"region\": \"Europe & Central Asia\", \"income_group\": \"High income\", \"price_usd\": 1682.16}, {\"Unnamed: 0\": 356, \"model\": \"MacBook Air\", \"country\": \"Poland\", \"region\": \"Europe & Central Asia\", \"income_group\": \"High income\", \"price_usd\": 1286.3}, {\"Unnamed: 0\": 357, \"model\": \"Magic Mouse\", \"country\": \"Poland\", \"region\": \"Europe & Central Asia\", \"income_group\": \"High income\", \"price_usd\": 98.72}, {\"Unnamed: 0\": 359, \"model\": \"iPhone SE\", \"country\": \"Russia\", \"region\": \"Europe & Central Asia\", \"income_group\": \"Upper middle income\", \"price_usd\": 537.18}, {\"Unnamed: 0\": 360, \"model\": \"iPhone 12\", \"country\": \"Russia\", \"region\": \"Europe & Central Asia\", \"income_group\": \"Upper middle income\", \"price_usd\": 738.67}, {\"Unnamed: 0\": 362, \"model\": \"AirPods Pro\", \"country\": \"Russia\", \"region\": \"Europe & Central Asia\", \"income_group\": \"Upper middle income\", \"price_usd\": 335.69}, {\"Unnamed: 0\": 363, \"model\": \"AirPods(2nd generation)\", \"country\": \"Russia\", \"region\": \"Europe & Central Asia\", \"income_group\": \"Upper middle income\", \"price_usd\": 167.78}, {\"Unnamed: 0\": 365, \"model\": \"Apple TV 4K\", \"country\": \"Russia\", \"region\": \"Europe & Central Asia\", \"income_group\": \"Upper middle income\", \"price_usd\": 228.22}, {\"Unnamed: 0\": 366, \"model\": \"Apple Watch SE\", \"country\": \"Russia\", \"region\": \"Europe & Central Asia\", \"income_group\": \"Upper middle income\", \"price_usd\": 335.69}, {\"Unnamed: 0\": 367, \"model\": \"Apple Watch Series 3\", \"country\": \"Russia\", \"region\": \"Europe & Central Asia\", \"income_group\": \"Upper middle income\", \"price_usd\": 241.66}, {\"Unnamed: 0\": 368, \"model\": \"Sport Band\", \"country\": \"Russia\", \"region\": \"Europe & Central Asia\", \"income_group\": \"Upper middle income\", \"price_usd\": 52.39}, {\"Unnamed: 0\": 369, \"model\": \"iPad\", \"country\": \"Russia\", \"region\": \"Europe & Central Asia\", \"income_group\": \"Upper middle income\", \"price_usd\": 416.29}, {\"Unnamed: 0\": 370, \"model\": \"iPad Pro\", \"country\": \"Russia\", \"region\": \"Europe & Central Asia\", \"income_group\": \"Upper middle income\", \"price_usd\": 1047.63}, {\"Unnamed: 0\": 371, \"model\": \"Apple Pencil (2nd generation)\", \"country\": \"Russia\", \"region\": \"Europe & Central Asia\", \"income_group\": \"Upper middle income\", \"price_usd\": 154.34}, {\"Unnamed: 0\": 372, \"model\": \"24-inch iMac\\u00b2\", \"country\": \"Russia\", \"region\": \"Europe & Central Asia\", \"income_group\": \"Upper middle income\", \"price_usd\": 1746.14}, {\"Unnamed: 0\": 373, \"model\": \"MacBook Air\", \"country\": \"Russia\", \"region\": \"Europe & Central Asia\", \"income_group\": \"Upper middle income\", \"price_usd\": 1343.16}, {\"Unnamed: 0\": 374, \"model\": \"Magic Mouse\", \"country\": \"Russia\", \"region\": \"Europe & Central Asia\", \"income_group\": \"Upper middle income\", \"price_usd\": 106.12}, {\"Unnamed: 0\": 376, \"model\": \"iPhone SE\", \"country\": \"Sweden\", \"region\": \"Europe & Central Asia\", \"income_group\": \"High income\", \"price_usd\": 559.71}, {\"Unnamed: 0\": 377, \"model\": \"iPhone 12\", \"country\": \"Sweden\", \"region\": \"Europe & Central Asia\", \"income_group\": \"High income\", \"price_usd\": 815.58}, {\"Unnamed: 0\": 379, \"model\": \"AirPods Pro\", \"country\": \"Sweden\", \"region\": \"Europe & Central Asia\", \"income_group\": \"High income\", \"price_usd\": 352.37}, {\"Unnamed: 0\": 380, \"model\": \"AirPods(2nd generation)\", \"country\": \"Sweden\", \"region\": \"Europe & Central Asia\", \"income_group\": \"High income\", \"price_usd\": 175.91}, {\"Unnamed: 0\": 382, \"model\": \"Apple TV 4K\", \"country\": \"Sweden\", \"region\": \"Europe & Central Asia\", \"income_group\": \"High income\", \"price_usd\": 220.02}, {\"Unnamed: 0\": 383, \"model\": \"Apple Watch SE\", \"country\": \"Sweden\", \"region\": \"Europe & Central Asia\", \"income_group\": \"High income\", \"price_usd\": 352.37}, {\"Unnamed: 0\": 384, \"model\": \"Apple Watch Series 3\", \"country\": \"Sweden\", \"region\": \"Europe & Central Asia\", \"income_group\": \"High income\", \"price_usd\": 253.11}, {\"Unnamed: 0\": 385, \"model\": \"Sport Band\", \"country\": \"Sweden\", \"region\": \"Europe & Central Asia\", \"income_group\": \"High income\", \"price_usd\": 54.59}, {\"Unnamed: 0\": 386, \"model\": \"iPad\", \"country\": \"Sweden\", \"region\": \"Europe & Central Asia\", \"income_group\": \"High income\", \"price_usd\": 440.6}, {\"Unnamed: 0\": 387, \"model\": \"iPad Pro\", \"country\": \"Sweden\", \"region\": \"Europe & Central Asia\", \"income_group\": \"High income\", \"price_usd\": 1047.18}, {\"Unnamed: 0\": 388, \"model\": \"Apple Pencil (2nd generation)\", \"country\": \"Sweden\", \"region\": \"Europe & Central Asia\", \"income_group\": \"High income\", \"price_usd\": 164.88}, {\"Unnamed: 0\": 389, \"model\": \"24-inch iMac\\u00b2\", \"country\": \"Sweden\", \"region\": \"Europe & Central Asia\", \"income_group\": \"High income\", \"price_usd\": 1764.05}, {\"Unnamed: 0\": 390, \"model\": \"MacBook Air\", \"country\": \"Sweden\", \"region\": \"Europe & Central Asia\", \"income_group\": \"High income\", \"price_usd\": 1378.04}, {\"Unnamed: 0\": 391, \"model\": \"Magic Mouse\", \"country\": \"Sweden\", \"region\": \"Europe & Central Asia\", \"income_group\": \"High income\", \"price_usd\": 98.71}, {\"Unnamed: 0\": 393, \"model\": \"iPhone SE\", \"country\": \"Thailand\", \"region\": \"East Asia & Pacific\", \"income_group\": \"Upper middle income\", \"price_usd\": 449.2}, {\"Unnamed: 0\": 394, \"model\": \"iPhone 12\", \"country\": \"Thailand\", \"region\": \"East Asia & Pacific\", \"income_group\": \"Upper middle income\", \"price_usd\": 660.23}, {\"Unnamed: 0\": 396, \"model\": \"AirPods Pro\", \"country\": \"Thailand\", \"region\": \"East Asia & Pacific\", \"income_group\": \"Upper middle income\", \"price_usd\": 271.08}, {\"Unnamed: 0\": 397, \"model\": \"AirPods(2nd generation)\", \"country\": \"Thailand\", \"region\": \"East Asia & Pacific\", \"income_group\": \"Upper middle income\", \"price_usd\": 150.44}, {\"Unnamed: 0\": 399, \"model\": \"Apple TV 4K\", \"country\": \"Thailand\", \"region\": \"East Asia & Pacific\", \"income_group\": \"Upper middle income\", \"price_usd\": 201.99}, {\"Unnamed: 0\": 400, \"model\": \"Apple Watch SE\", \"country\": \"Thailand\", \"region\": \"East Asia & Pacific\", \"income_group\": \"Upper middle income\", \"price_usd\": 298.46}, {\"Unnamed: 0\": 401, \"model\": \"Apple Watch Series 3\", \"country\": \"Thailand\", \"region\": \"East Asia & Pacific\", \"income_group\": \"Upper middle income\", \"price_usd\": 208.02}, {\"Unnamed: 0\": 402, \"model\": \"Sport Band\", \"country\": \"Thailand\", \"region\": \"East Asia & Pacific\", \"income_group\": \"Upper middle income\", \"price_usd\": 48.24}, {\"Unnamed: 0\": 403, \"model\": \"iPad\", \"country\": \"Thailand\", \"region\": \"East Asia & Pacific\", \"income_group\": \"Upper middle income\", \"price_usd\": 343.68}, {\"Unnamed: 0\": 404, \"model\": \"iPad Pro\", \"country\": \"Thailand\", \"region\": \"East Asia & Pacific\", \"income_group\": \"Upper middle income\", \"price_usd\": 841.11}, {\"Unnamed: 0\": 405, \"model\": \"Apple Pencil (2nd generation)\", \"country\": \"Thailand\", \"region\": \"East Asia & Pacific\", \"income_group\": \"Upper middle income\", \"price_usd\": 135.36}, {\"Unnamed: 0\": 406, \"model\": \"24-inch iMac\\u00b2\", \"country\": \"Thailand\", \"region\": \"East Asia & Pacific\", \"income_group\": \"Upper middle income\", \"price_usd\": 1293.32}, {\"Unnamed: 0\": 407, \"model\": \"MacBook Air\", \"country\": \"Thailand\", \"region\": \"East Asia & Pacific\", \"income_group\": \"Upper middle income\", \"price_usd\": 991.85}, {\"Unnamed: 0\": 408, \"model\": \"Magic Mouse\", \"country\": \"Thailand\", \"region\": \"East Asia & Pacific\", \"income_group\": \"Upper middle income\", \"price_usd\": 75.07}, {\"Unnamed: 0\": 410, \"model\": \"iPhone SE\", \"country\": \"Turkey\", \"region\": \"Europe & Central Asia\", \"income_group\": \"Upper middle income\", \"price_usd\": 587.34}, {\"Unnamed: 0\": 411, \"model\": \"iPhone 12\", \"country\": \"Turkey\", \"region\": \"Europe & Central Asia\", \"income_group\": \"Upper middle income\", \"price_usd\": 1016.61}, {\"Unnamed: 0\": 413, \"model\": \"AirPods Pro\", \"country\": \"Turkey\", \"region\": \"Europe & Central Asia\", \"income_group\": \"Upper middle income\", \"price_usd\": 286.1}, {\"Unnamed: 0\": 414, \"model\": \"AirPods(2nd generation)\", \"country\": \"Turkey\", \"region\": \"Europe & Central Asia\", \"income_group\": \"Upper middle income\", \"price_usd\": 143.01}, {\"Unnamed: 0\": 416, \"model\": \"Apple TV 4K\", \"country\": \"Turkey\", \"region\": \"Europe & Central Asia\", \"income_group\": \"Upper middle income\", \"price_usd\": 218.32}, {\"Unnamed: 0\": 417, \"model\": \"Apple Watch SE\", \"country\": \"Turkey\", \"region\": \"Europe & Central Asia\", \"income_group\": \"Upper middle income\", \"price_usd\": 316.23}, {\"Unnamed: 0\": 418, \"model\": \"Apple Watch Series 3\", \"country\": \"Turkey\", \"region\": \"Europe & Central Asia\", \"income_group\": \"Upper middle income\", \"price_usd\": 222.09}, {\"Unnamed: 0\": 419, \"model\": \"Sport Band\", \"country\": \"Turkey\", \"region\": \"Europe & Central Asia\", \"income_group\": \"Upper middle income\", \"price_usd\": 37.58}, {\"Unnamed: 0\": 420, \"model\": \"iPad\", \"country\": \"Turkey\", \"region\": \"Europe & Central Asia\", \"income_group\": \"Upper middle income\", \"price_usd\": 391.54}, {\"Unnamed: 0\": 421, \"model\": \"iPad Pro\", \"country\": \"Turkey\", \"region\": \"Europe & Central Asia\", \"income_group\": \"Upper middle income\", \"price_usd\": 903.64}, {\"Unnamed: 0\": 422, \"model\": \"Apple Pencil (2nd generation)\", \"country\": \"Turkey\", \"region\": \"Europe & Central Asia\", \"income_group\": \"Upper middle income\", \"price_usd\": 114.4}, {\"Unnamed: 0\": 423, \"model\": \"24-inch iMac\\u00b2\", \"country\": \"Turkey\", \"region\": \"Europe & Central Asia\", \"income_group\": \"Upper middle income\", \"price_usd\": 1430.81}, {\"Unnamed: 0\": 424, \"model\": \"MacBook Air\", \"country\": \"Turkey\", \"region\": \"Europe & Central Asia\", \"income_group\": \"Upper middle income\", \"price_usd\": 1129.57}, {\"Unnamed: 0\": 425, \"model\": \"Magic Mouse\", \"country\": \"Turkey\", \"region\": \"Europe & Central Asia\", \"income_group\": \"Upper middle income\", \"price_usd\": 82.01}, {\"Unnamed: 0\": 427, \"model\": \"iPhone SE\", \"country\": \"United States\", \"region\": \"North America\", \"income_group\": \"High income\", \"price_usd\": 399.0}, {\"Unnamed: 0\": 428, \"model\": \"iPhone 12\", \"country\": \"United States\", \"region\": \"North America\", \"income_group\": \"High income\", \"price_usd\": 599.0}, {\"Unnamed: 0\": 430, \"model\": \"AirPods Pro\", \"country\": \"United States\", \"region\": \"North America\", \"income_group\": \"High income\", \"price_usd\": 249.0}, {\"Unnamed: 0\": 431, \"model\": \"AirPods(2nd generation)\", \"country\": \"United States\", \"region\": \"North America\", \"income_group\": \"High income\", \"price_usd\": 129.0}, {\"Unnamed: 0\": 433, \"model\": \"Apple TV 4K\", \"country\": \"United States\", \"region\": \"North America\", \"income_group\": \"High income\", \"price_usd\": 179.0}, {\"Unnamed: 0\": 434, \"model\": \"Apple Watch SE\", \"country\": \"United States\", \"region\": \"North America\", \"income_group\": \"High income\", \"price_usd\": 279.0}, {\"Unnamed: 0\": 435, \"model\": \"Apple Watch Series 3\", \"country\": \"United States\", \"region\": \"North America\", \"income_group\": \"High income\", \"price_usd\": 199.0}, {\"Unnamed: 0\": 436, \"model\": \"Sport Band\", \"country\": \"United States\", \"region\": \"North America\", \"income_group\": \"High income\", \"price_usd\": 49.0}, {\"Unnamed: 0\": 437, \"model\": \"iPad\", \"country\": \"United States\", \"region\": \"North America\", \"income_group\": \"High income\", \"price_usd\": 329.0}, {\"Unnamed: 0\": 438, \"model\": \"iPad Pro\", \"country\": \"United States\", \"region\": \"North America\", \"income_group\": \"High income\", \"price_usd\": 799.0}, {\"Unnamed: 0\": 439, \"model\": \"Apple Pencil (2nd generation)\", \"country\": \"United States\", \"region\": \"North America\", \"income_group\": \"High income\", \"price_usd\": 129.0}, {\"Unnamed: 0\": 440, \"model\": \"24-inch iMac\\u00b2\", \"country\": \"United States\", \"region\": \"North America\", \"income_group\": \"High income\", \"price_usd\": 1299.0}, {\"Unnamed: 0\": 441, \"model\": \"MacBook Air\", \"country\": \"United States\", \"region\": \"North America\", \"income_group\": \"High income\", \"price_usd\": 999.0}, {\"Unnamed: 0\": 442, \"model\": \"Magic Mouse\", \"country\": \"United States\", \"region\": \"North America\", \"income_group\": \"High income\", \"price_usd\": 79.0}]}}, {\"mode\": \"vega-lite\"});\n",
       "</script>"
      ],
      "text/plain": [
       "alt.Chart(...)"
      ]
     },
     "execution_count": 14,
     "metadata": {},
     "output_type": "execute_result"
    }
   ],
   "source": [
    "f = plot_data(df)\n",
    "f.line('country', 'price_usd', 'model', title = 'Average Product Price', subtitle = 'By Product', xt = 'Country', \n",
    "       yt = 'Price', lt = 'Products')"
   ]
  },
  {
   "cell_type": "markdown",
   "id": "860a14ab",
   "metadata": {},
   "source": [
    "For all the countries, the most expensive product is the 24-inch iMac², and the cheapest is the Sport Band. There is a peak in Brazil for all products, meaning that the price is higher. United States looks like the cheapest country to buy."
   ]
  },
  {
   "cell_type": "code",
   "execution_count": 15,
   "id": "22f8660b",
   "metadata": {},
   "outputs": [],
   "source": [
    "lis = df.model.unique()\n",
    "modelsdict = {elem : pd.DataFrame for elem in lis}\n",
    "for key in modelsdict.keys():\n",
    "    modelsdict[key] = df[:][df.model == key]"
   ]
  },
  {
   "cell_type": "markdown",
   "id": "0185f302",
   "metadata": {},
   "source": [
    "**Pricing comparison by product**"
   ]
  },
  {
   "cell_type": "code",
   "execution_count": 16,
   "id": "38a8460f",
   "metadata": {},
   "outputs": [
    {
     "data": {
      "text/html": [
       "\n",
       "<div id=\"altair-viz-f09763fc858a43bda6be55c2048c6a57\"></div>\n",
       "<script type=\"text/javascript\">\n",
       "  (function(spec, embedOpt){\n",
       "    let outputDiv = document.currentScript.previousElementSibling;\n",
       "    if (outputDiv.id !== \"altair-viz-f09763fc858a43bda6be55c2048c6a57\") {\n",
       "      outputDiv = document.getElementById(\"altair-viz-f09763fc858a43bda6be55c2048c6a57\");\n",
       "    }\n",
       "    const paths = {\n",
       "      \"vega\": \"https://cdn.jsdelivr.net/npm//vega@5?noext\",\n",
       "      \"vega-lib\": \"https://cdn.jsdelivr.net/npm//vega-lib?noext\",\n",
       "      \"vega-lite\": \"https://cdn.jsdelivr.net/npm//vega-lite@4.8.1?noext\",\n",
       "      \"vega-embed\": \"https://cdn.jsdelivr.net/npm//vega-embed@6?noext\",\n",
       "    };\n",
       "\n",
       "    function loadScript(lib) {\n",
       "      return new Promise(function(resolve, reject) {\n",
       "        var s = document.createElement('script');\n",
       "        s.src = paths[lib];\n",
       "        s.async = true;\n",
       "        s.onload = () => resolve(paths[lib]);\n",
       "        s.onerror = () => reject(`Error loading script: ${paths[lib]}`);\n",
       "        document.getElementsByTagName(\"head\")[0].appendChild(s);\n",
       "      });\n",
       "    }\n",
       "\n",
       "    function showError(err) {\n",
       "      outputDiv.innerHTML = `<div class=\"error\" style=\"color:red;\">${err}</div>`;\n",
       "      throw err;\n",
       "    }\n",
       "\n",
       "    function displayChart(vegaEmbed) {\n",
       "      vegaEmbed(outputDiv, spec, embedOpt)\n",
       "        .catch(err => showError(`Javascript Error: ${err.message}<br>This usually means there's a typo in your chart specification. See the javascript console for the full traceback.`));\n",
       "    }\n",
       "\n",
       "    if(typeof define === \"function\" && define.amd) {\n",
       "      requirejs.config({paths});\n",
       "      require([\"vega-embed\"], displayChart, err => showError(`Error loading script: ${err.message}`));\n",
       "    } else if (typeof vegaEmbed === \"function\") {\n",
       "      displayChart(vegaEmbed);\n",
       "    } else {\n",
       "      loadScript(\"vega\")\n",
       "        .then(() => loadScript(\"vega-lite\"))\n",
       "        .then(() => loadScript(\"vega-embed\"))\n",
       "        .catch(showError)\n",
       "        .then(() => displayChart(vegaEmbed));\n",
       "    }\n",
       "  })({\"config\": {\"view\": {\"continuousWidth\": 400, \"continuousHeight\": 300}, \"axis\": {\"labelFontSize\": 13, \"titleColor\": \"#364547\", \"titleFontSize\": 13}, \"axisX\": {\"labelAngle\": 0}, \"font\": \"Roboto\", \"legend\": {\"labelFontSize\": 13, \"titleColor\": \"#364547\", \"titleFontSize\": 14}, \"title\": {\"align\": \"center\", \"color\": \"#364547\", \"fontSize\": 22}}, \"data\": {\"name\": \"data-62eaebca5b4252351b114047f436de38\"}, \"mark\": \"bar\", \"encoding\": {\"color\": {\"type\": \"nominal\", \"field\": \"income_group\", \"legend\": {\"title\": \"Income Group\"}}, \"opacity\": {\"condition\": {\"value\": 1.0, \"selection\": \"selector002\"}, \"value\": 0.1}, \"tooltip\": [{\"type\": \"nominal\", \"field\": \"income_group\"}, {\"type\": \"nominal\", \"field\": \"country\"}, {\"type\": \"quantitative\", \"field\": \"price_usd\"}], \"x\": {\"type\": \"quantitative\", \"field\": \"price_usd\", \"title\": \"Price in USD\"}, \"y\": {\"type\": \"nominal\", \"field\": \"country\", \"title\": \"Country\"}}, \"height\": 550, \"selection\": {\"selector002\": {\"type\": \"single\", \"fields\": [\"income_group\"], \"bind\": {\"input\": \"select\", \"options\": [\"High income\", \"Upper middle income\", \"Lower middle income\"], \"name\": \"income_group   \"}}}, \"title\": \"iPhone SE prices in 26 countries\", \"transform\": [{\"filter\": \"(isValid(datum.income_group))\"}], \"width\": 550, \"$schema\": \"https://vega.github.io/schema/vega-lite/v4.8.1.json\", \"datasets\": {\"data-62eaebca5b4252351b114047f436de38\": [{\"Unnamed: 0\": 1, \"model\": \"iPhone SE\", \"country\": \"Australia\", \"region\": \"East Asia & Pacific\", \"income_group\": \"High income\", \"price_usd\": 491.37}, {\"Unnamed: 0\": 18, \"model\": \"iPhone SE\", \"country\": \"Austria\", \"region\": \"Europe & Central Asia\", \"income_group\": \"High income\", \"price_usd\": 543.9}, {\"Unnamed: 0\": 36, \"model\": \"iPhone SE\", \"country\": \"Germany\", \"region\": \"Europe & Central Asia\", \"income_group\": \"High income\", \"price_usd\": 543.9}, {\"Unnamed: 0\": 53, \"model\": \"iPhone SE\", \"country\": \"Spain\", \"region\": \"Europe & Central Asia\", \"income_group\": \"High income\", \"price_usd\": 555.26}, {\"Unnamed: 0\": 70, \"model\": \"iPhone SE\", \"country\": \"Finland\", \"region\": \"Europe & Central Asia\", \"income_group\": \"High income\", \"price_usd\": 566.61}, {\"Unnamed: 0\": 87, \"model\": \"iPhone SE\", \"country\": \"France\", \"region\": \"Europe & Central Asia\", \"income_group\": \"High income\", \"price_usd\": 555.26}, {\"Unnamed: 0\": 104, \"model\": \"iPhone SE\", \"country\": \"Ireland\", \"region\": \"Europe & Central Asia\", \"income_group\": \"High income\", \"price_usd\": 566.61}, {\"Unnamed: 0\": 121, \"model\": \"iPhone SE\", \"country\": \"Italy\", \"region\": \"Europe & Central Asia\", \"income_group\": \"High income\", \"price_usd\": 566.61}, {\"Unnamed: 0\": 138, \"model\": \"iPhone SE\", \"country\": \"Luxembourg\", \"region\": \"Europe & Central Asia\", \"income_group\": \"High income\", \"price_usd\": 536.9}, {\"Unnamed: 0\": 155, \"model\": \"iPhone SE\", \"country\": \"Netherlands\", \"region\": \"Europe & Central Asia\", \"income_group\": \"High income\", \"price_usd\": 558.78}, {\"Unnamed: 0\": 172, \"model\": \"iPhone SE\", \"country\": \"Portugal\", \"region\": \"Europe & Central Asia\", \"income_group\": \"High income\", \"price_usd\": 566.61}, {\"Unnamed: 0\": 189, \"model\": \"iPhone SE\", \"country\": \"Brazil\", \"region\": \"Latin America & Caribbean\", \"income_group\": \"Upper middle income\", \"price_usd\": 661.05}, {\"Unnamed: 0\": 205, \"model\": \"iPhone SE\", \"country\": \"Canada\", \"region\": \"North America\", \"income_group\": \"High income\", \"price_usd\": 448.06}, {\"Unnamed: 0\": 222, \"model\": \"iPhone SE\", \"country\": \"Czech Republic\", \"region\": \"Europe & Central Asia\", \"income_group\": \"High income\", \"price_usd\": 534.85}, {\"Unnamed: 0\": 239, \"model\": \"iPhone SE\", \"country\": \"Denmark\", \"region\": \"Europe & Central Asia\", \"income_group\": \"High income\", \"price_usd\": 557.96}, {\"Unnamed: 0\": 256, \"model\": \"iPhone SE\", \"country\": \"Hungary\", \"region\": \"Europe & Central Asia\", \"income_group\": \"High income\", \"price_usd\": 540.37}, {\"Unnamed: 0\": 273, \"model\": \"iPhone SE\", \"country\": \"India\", \"region\": \"South Asia\", \"income_group\": \"Lower middle income\", \"price_usd\": 536.84}, {\"Unnamed: 0\": 291, \"model\": \"iPhone SE\", \"country\": \"Mexico\", \"region\": \"Latin America & Caribbean\", \"income_group\": \"Upper middle income\", \"price_usd\": 537.73}, {\"Unnamed: 0\": 308, \"model\": \"iPhone SE\", \"country\": \"Norway\", \"region\": \"Europe & Central Asia\", \"income_group\": \"High income\", \"price_usd\": 566.54}, {\"Unnamed: 0\": 325, \"model\": \"iPhone SE\", \"country\": \"Philippines\", \"region\": \"East Asia & Pacific\", \"income_group\": \"Lower middle income\", \"price_usd\": 518.15}, {\"Unnamed: 0\": 342, \"model\": \"iPhone SE\", \"country\": \"Poland\", \"region\": \"Europe & Central Asia\", \"income_group\": \"High income\", \"price_usd\": 544.06}, {\"Unnamed: 0\": 359, \"model\": \"iPhone SE\", \"country\": \"Russia\", \"region\": \"Europe & Central Asia\", \"income_group\": \"Upper middle income\", \"price_usd\": 537.18}, {\"Unnamed: 0\": 376, \"model\": \"iPhone SE\", \"country\": \"Sweden\", \"region\": \"Europe & Central Asia\", \"income_group\": \"High income\", \"price_usd\": 559.71}, {\"Unnamed: 0\": 393, \"model\": \"iPhone SE\", \"country\": \"Thailand\", \"region\": \"East Asia & Pacific\", \"income_group\": \"Upper middle income\", \"price_usd\": 449.2}, {\"Unnamed: 0\": 410, \"model\": \"iPhone SE\", \"country\": \"Turkey\", \"region\": \"Europe & Central Asia\", \"income_group\": \"Upper middle income\", \"price_usd\": 587.34}, {\"Unnamed: 0\": 427, \"model\": \"iPhone SE\", \"country\": \"United States\", \"region\": \"North America\", \"income_group\": \"High income\", \"price_usd\": 399.0}]}}, {\"mode\": \"vega-lite\"});\n",
       "</script>"
      ],
      "text/plain": [
       "alt.Chart(...)"
      ]
     },
     "metadata": {},
     "output_type": "display_data"
    }
   ],
   "source": [
    "v = 0\n",
    "f = plot_data(data = list(modelsdict.values())[v])\n",
    "f.bar_product(x = 'price_usd', y = 'country', z = 'income_group', article = list(modelsdict.keys())[v], \n",
    "       xt = 'Price in USD', yt = 'Country', zt = 'Income Group')"
   ]
  },
  {
   "cell_type": "markdown",
   "id": "167f37f1",
   "metadata": {},
   "source": [
    "* In USA iPhone SE costs \\\\$399, in Brazil \\\\$661."
   ]
  },
  {
   "cell_type": "code",
   "execution_count": 17,
   "id": "a0331613",
   "metadata": {},
   "outputs": [
    {
     "data": {
      "text/html": [
       "\n",
       "<div id=\"altair-viz-83e548ab92af4c6fac07e369db979869\"></div>\n",
       "<script type=\"text/javascript\">\n",
       "  (function(spec, embedOpt){\n",
       "    let outputDiv = document.currentScript.previousElementSibling;\n",
       "    if (outputDiv.id !== \"altair-viz-83e548ab92af4c6fac07e369db979869\") {\n",
       "      outputDiv = document.getElementById(\"altair-viz-83e548ab92af4c6fac07e369db979869\");\n",
       "    }\n",
       "    const paths = {\n",
       "      \"vega\": \"https://cdn.jsdelivr.net/npm//vega@5?noext\",\n",
       "      \"vega-lib\": \"https://cdn.jsdelivr.net/npm//vega-lib?noext\",\n",
       "      \"vega-lite\": \"https://cdn.jsdelivr.net/npm//vega-lite@4.8.1?noext\",\n",
       "      \"vega-embed\": \"https://cdn.jsdelivr.net/npm//vega-embed@6?noext\",\n",
       "    };\n",
       "\n",
       "    function loadScript(lib) {\n",
       "      return new Promise(function(resolve, reject) {\n",
       "        var s = document.createElement('script');\n",
       "        s.src = paths[lib];\n",
       "        s.async = true;\n",
       "        s.onload = () => resolve(paths[lib]);\n",
       "        s.onerror = () => reject(`Error loading script: ${paths[lib]}`);\n",
       "        document.getElementsByTagName(\"head\")[0].appendChild(s);\n",
       "      });\n",
       "    }\n",
       "\n",
       "    function showError(err) {\n",
       "      outputDiv.innerHTML = `<div class=\"error\" style=\"color:red;\">${err}</div>`;\n",
       "      throw err;\n",
       "    }\n",
       "\n",
       "    function displayChart(vegaEmbed) {\n",
       "      vegaEmbed(outputDiv, spec, embedOpt)\n",
       "        .catch(err => showError(`Javascript Error: ${err.message}<br>This usually means there's a typo in your chart specification. See the javascript console for the full traceback.`));\n",
       "    }\n",
       "\n",
       "    if(typeof define === \"function\" && define.amd) {\n",
       "      requirejs.config({paths});\n",
       "      require([\"vega-embed\"], displayChart, err => showError(`Error loading script: ${err.message}`));\n",
       "    } else if (typeof vegaEmbed === \"function\") {\n",
       "      displayChart(vegaEmbed);\n",
       "    } else {\n",
       "      loadScript(\"vega\")\n",
       "        .then(() => loadScript(\"vega-lite\"))\n",
       "        .then(() => loadScript(\"vega-embed\"))\n",
       "        .catch(showError)\n",
       "        .then(() => displayChart(vegaEmbed));\n",
       "    }\n",
       "  })({\"config\": {\"view\": {\"continuousWidth\": 400, \"continuousHeight\": 300}, \"axis\": {\"labelFontSize\": 13, \"titleColor\": \"#364547\", \"titleFontSize\": 13}, \"axisX\": {\"labelAngle\": 0}, \"font\": \"Roboto\", \"legend\": {\"labelFontSize\": 13, \"titleColor\": \"#364547\", \"titleFontSize\": 14}, \"title\": {\"align\": \"center\", \"color\": \"#364547\", \"fontSize\": 22}}, \"data\": {\"name\": \"data-9e3b4afaea39b6a1f5e77069f2695538\"}, \"mark\": \"bar\", \"encoding\": {\"color\": {\"type\": \"nominal\", \"field\": \"income_group\", \"legend\": {\"title\": \"Income Group\"}}, \"opacity\": {\"condition\": {\"value\": 1.0, \"selection\": \"selector003\"}, \"value\": 0.1}, \"tooltip\": [{\"type\": \"nominal\", \"field\": \"income_group\"}, {\"type\": \"nominal\", \"field\": \"country\"}, {\"type\": \"quantitative\", \"field\": \"price_usd\"}], \"x\": {\"type\": \"quantitative\", \"field\": \"price_usd\", \"title\": \"Price in USD\"}, \"y\": {\"type\": \"nominal\", \"field\": \"country\", \"title\": \"Country\"}}, \"height\": 550, \"selection\": {\"selector003\": {\"type\": \"single\", \"fields\": [\"income_group\"], \"bind\": {\"input\": \"select\", \"options\": [\"High income\", \"Upper middle income\", \"Lower middle income\"], \"name\": \"income_group   \"}}}, \"title\": \"iPhone 12 prices in 26 countries\", \"transform\": [{\"filter\": \"(isValid(datum.income_group))\"}], \"width\": 550, \"$schema\": \"https://vega.github.io/schema/vega-lite/v4.8.1.json\", \"datasets\": {\"data-9e3b4afaea39b6a1f5e77069f2695538\": [{\"Unnamed: 0\": 2, \"model\": \"iPhone 12\", \"country\": \"Australia\", \"region\": \"East Asia & Pacific\", \"income_group\": \"High income\", \"price_usd\": 722.94}, {\"Unnamed: 0\": 19, \"model\": \"iPhone 12\", \"country\": \"Austria\", \"region\": \"Europe & Central Asia\", \"income_group\": \"High income\", \"price_usd\": 771.0}, {\"Unnamed: 0\": 37, \"model\": \"iPhone 12\", \"country\": \"Germany\", \"region\": \"Europe & Central Asia\", \"income_group\": \"High income\", \"price_usd\": 771.0}, {\"Unnamed: 0\": 54, \"model\": \"iPhone 12\", \"country\": \"Spain\", \"region\": \"Europe & Central Asia\", \"income_group\": \"High income\", \"price_usd\": 782.36}, {\"Unnamed: 0\": 71, \"model\": \"iPhone 12\", \"country\": \"Finland\", \"region\": \"Europe & Central Asia\", \"income_group\": \"High income\", \"price_usd\": 805.07}, {\"Unnamed: 0\": 88, \"model\": \"iPhone 12\", \"country\": \"France\", \"region\": \"Europe & Central Asia\", \"income_group\": \"High income\", \"price_usd\": 782.36}, {\"Unnamed: 0\": 105, \"model\": \"iPhone 12\", \"country\": \"Ireland\", \"region\": \"Europe & Central Asia\", \"income_group\": \"High income\", \"price_usd\": 805.07}, {\"Unnamed: 0\": 122, \"model\": \"iPhone 12\", \"country\": \"Italy\", \"region\": \"Europe & Central Asia\", \"income_group\": \"High income\", \"price_usd\": 816.42}, {\"Unnamed: 0\": 139, \"model\": \"iPhone 12\", \"country\": \"Luxembourg\", \"region\": \"Europe & Central Asia\", \"income_group\": \"High income\", \"price_usd\": 756.49}, {\"Unnamed: 0\": 156, \"model\": \"iPhone 12\", \"country\": \"Netherlands\", \"region\": \"Europe & Central Asia\", \"income_group\": \"High income\", \"price_usd\": 782.36}, {\"Unnamed: 0\": 173, \"model\": \"iPhone 12\", \"country\": \"Portugal\", \"region\": \"Europe & Central Asia\", \"income_group\": \"High income\", \"price_usd\": 805.07}, {\"Unnamed: 0\": 190, \"model\": \"iPhone 12\", \"country\": \"Brazil\", \"region\": \"Latin America & Caribbean\", \"income_group\": \"Upper middle income\", \"price_usd\": 1018.46}, {\"Unnamed: 0\": 206, \"model\": \"iPhone 12\", \"country\": \"Canada\", \"region\": \"North America\", \"income_group\": \"High income\", \"price_usd\": 629.17}, {\"Unnamed: 0\": 223, \"model\": \"iPhone 12\", \"country\": \"Czech Republic\", \"region\": \"Europe & Central Asia\", \"income_group\": \"High income\", \"price_usd\": 777.34}, {\"Unnamed: 0\": 240, \"model\": \"iPhone 12\", \"country\": \"Denmark\", \"region\": \"Europe & Central Asia\", \"income_group\": \"High income\", \"price_usd\": 817.48}, {\"Unnamed: 0\": 257, \"model\": \"iPhone 12\", \"country\": \"Hungary\", \"region\": \"Europe & Central Asia\", \"income_group\": \"High income\", \"price_usd\": 771.98}, {\"Unnamed: 0\": 274, \"model\": \"iPhone 12\", \"country\": \"India\", \"region\": \"South Asia\", \"income_group\": \"Lower middle income\", \"price_usd\": 805.93}, {\"Unnamed: 0\": 292, \"model\": \"iPhone 12\", \"country\": \"Mexico\", \"region\": \"Latin America & Caribbean\", \"income_group\": \"Upper middle income\", \"price_usd\": 733.29}, {\"Unnamed: 0\": 309, \"model\": \"iPhone 12\", \"country\": \"Norway\", \"region\": \"Europe & Central Asia\", \"income_group\": \"High income\", \"price_usd\": 793.61}, {\"Unnamed: 0\": 326, \"model\": \"iPhone 12\", \"country\": \"Philippines\", \"region\": \"East Asia & Pacific\", \"income_group\": \"Lower middle income\", \"price_usd\": 762.66}, {\"Unnamed: 0\": 343, \"model\": \"iPhone 12\", \"country\": \"Poland\", \"region\": \"Europe & Central Asia\", \"income_group\": \"High income\", \"price_usd\": 779.1}, {\"Unnamed: 0\": 360, \"model\": \"iPhone 12\", \"country\": \"Russia\", \"region\": \"Europe & Central Asia\", \"income_group\": \"Upper middle income\", \"price_usd\": 738.67}, {\"Unnamed: 0\": 377, \"model\": \"iPhone 12\", \"country\": \"Sweden\", \"region\": \"Europe & Central Asia\", \"income_group\": \"High income\", \"price_usd\": 815.58}, {\"Unnamed: 0\": 394, \"model\": \"iPhone 12\", \"country\": \"Thailand\", \"region\": \"East Asia & Pacific\", \"income_group\": \"Upper middle income\", \"price_usd\": 660.23}, {\"Unnamed: 0\": 411, \"model\": \"iPhone 12\", \"country\": \"Turkey\", \"region\": \"Europe & Central Asia\", \"income_group\": \"Upper middle income\", \"price_usd\": 1016.61}, {\"Unnamed: 0\": 428, \"model\": \"iPhone 12\", \"country\": \"United States\", \"region\": \"North America\", \"income_group\": \"High income\", \"price_usd\": 599.0}]}}, {\"mode\": \"vega-lite\"});\n",
       "</script>"
      ],
      "text/plain": [
       "alt.Chart(...)"
      ]
     },
     "metadata": {},
     "output_type": "display_data"
    }
   ],
   "source": [
    "v = 1\n",
    "f = plot_data(data = list(modelsdict.values())[v])\n",
    "f.bar_product(x = 'price_usd', y = 'country', z = 'income_group', article = list(modelsdict.keys())[v], \n",
    "       xt = 'Price in USD', yt = 'Country', zt = 'Income Group')"
   ]
  },
  {
   "cell_type": "markdown",
   "id": "4012f22b",
   "metadata": {},
   "source": [
    "* iPhone 12 costs more in Brazil, and Turkey (\\\\$1020).\n",
    "* United States and Canada are the least expensive countries (\\\\$600)."
   ]
  },
  {
   "cell_type": "code",
   "execution_count": 18,
   "id": "b481b5d1",
   "metadata": {},
   "outputs": [
    {
     "data": {
      "text/html": [
       "\n",
       "<div id=\"altair-viz-b674bc34210f46c3b781e17e64a6396b\"></div>\n",
       "<script type=\"text/javascript\">\n",
       "  (function(spec, embedOpt){\n",
       "    let outputDiv = document.currentScript.previousElementSibling;\n",
       "    if (outputDiv.id !== \"altair-viz-b674bc34210f46c3b781e17e64a6396b\") {\n",
       "      outputDiv = document.getElementById(\"altair-viz-b674bc34210f46c3b781e17e64a6396b\");\n",
       "    }\n",
       "    const paths = {\n",
       "      \"vega\": \"https://cdn.jsdelivr.net/npm//vega@5?noext\",\n",
       "      \"vega-lib\": \"https://cdn.jsdelivr.net/npm//vega-lib?noext\",\n",
       "      \"vega-lite\": \"https://cdn.jsdelivr.net/npm//vega-lite@4.8.1?noext\",\n",
       "      \"vega-embed\": \"https://cdn.jsdelivr.net/npm//vega-embed@6?noext\",\n",
       "    };\n",
       "\n",
       "    function loadScript(lib) {\n",
       "      return new Promise(function(resolve, reject) {\n",
       "        var s = document.createElement('script');\n",
       "        s.src = paths[lib];\n",
       "        s.async = true;\n",
       "        s.onload = () => resolve(paths[lib]);\n",
       "        s.onerror = () => reject(`Error loading script: ${paths[lib]}`);\n",
       "        document.getElementsByTagName(\"head\")[0].appendChild(s);\n",
       "      });\n",
       "    }\n",
       "\n",
       "    function showError(err) {\n",
       "      outputDiv.innerHTML = `<div class=\"error\" style=\"color:red;\">${err}</div>`;\n",
       "      throw err;\n",
       "    }\n",
       "\n",
       "    function displayChart(vegaEmbed) {\n",
       "      vegaEmbed(outputDiv, spec, embedOpt)\n",
       "        .catch(err => showError(`Javascript Error: ${err.message}<br>This usually means there's a typo in your chart specification. See the javascript console for the full traceback.`));\n",
       "    }\n",
       "\n",
       "    if(typeof define === \"function\" && define.amd) {\n",
       "      requirejs.config({paths});\n",
       "      require([\"vega-embed\"], displayChart, err => showError(`Error loading script: ${err.message}`));\n",
       "    } else if (typeof vegaEmbed === \"function\") {\n",
       "      displayChart(vegaEmbed);\n",
       "    } else {\n",
       "      loadScript(\"vega\")\n",
       "        .then(() => loadScript(\"vega-lite\"))\n",
       "        .then(() => loadScript(\"vega-embed\"))\n",
       "        .catch(showError)\n",
       "        .then(() => displayChart(vegaEmbed));\n",
       "    }\n",
       "  })({\"config\": {\"view\": {\"continuousWidth\": 400, \"continuousHeight\": 300}, \"axis\": {\"labelFontSize\": 13, \"titleColor\": \"#364547\", \"titleFontSize\": 13}, \"axisX\": {\"labelAngle\": 0}, \"font\": \"Roboto\", \"legend\": {\"labelFontSize\": 13, \"titleColor\": \"#364547\", \"titleFontSize\": 14}, \"title\": {\"align\": \"center\", \"color\": \"#364547\", \"fontSize\": 22}}, \"data\": {\"name\": \"data-ec5b3f97241f4018b55a8089a86989a5\"}, \"mark\": \"bar\", \"encoding\": {\"color\": {\"type\": \"nominal\", \"field\": \"income_group\", \"legend\": {\"title\": \"Income Group\"}}, \"opacity\": {\"condition\": {\"value\": 1.0, \"selection\": \"selector004\"}, \"value\": 0.1}, \"tooltip\": [{\"type\": \"nominal\", \"field\": \"income_group\"}, {\"type\": \"nominal\", \"field\": \"country\"}, {\"type\": \"quantitative\", \"field\": \"price_usd\"}], \"x\": {\"type\": \"quantitative\", \"field\": \"price_usd\", \"title\": \"Price in USD\"}, \"y\": {\"type\": \"nominal\", \"field\": \"country\", \"title\": \"Country\"}}, \"height\": 550, \"selection\": {\"selector004\": {\"type\": \"single\", \"fields\": [\"income_group\"], \"bind\": {\"input\": \"select\", \"options\": [\"High income\", \"Upper middle income\", \"Lower middle income\"], \"name\": \"income_group   \"}}}, \"title\": \"AirPods Pro prices in 26 countries\", \"transform\": [{\"filter\": \"(isValid(datum.income_group))\"}], \"width\": 550, \"$schema\": \"https://vega.github.io/schema/vega-lite/v4.8.1.json\", \"datasets\": {\"data-ec5b3f97241f4018b55a8089a86989a5\": [{\"Unnamed: 0\": 4, \"model\": \"AirPods Pro\", \"country\": \"Australia\", \"region\": \"East Asia & Pacific\", \"income_group\": \"High income\", \"price_usd\": 288.74}, {\"Unnamed: 0\": 21, \"model\": \"AirPods Pro\", \"country\": \"Austria\", \"region\": \"Europe & Central Asia\", \"income_group\": \"High income\", \"price_usd\": 316.8}, {\"Unnamed: 0\": 39, \"model\": \"AirPods Pro\", \"country\": \"Germany\", \"region\": \"Europe & Central Asia\", \"income_group\": \"High income\", \"price_usd\": 316.8}, {\"Unnamed: 0\": 56, \"model\": \"AirPods Pro\", \"country\": \"Spain\", \"region\": \"Europe & Central Asia\", \"income_group\": \"High income\", \"price_usd\": 316.8}, {\"Unnamed: 0\": 73, \"model\": \"AirPods Pro\", \"country\": \"Finland\", \"region\": \"Europe & Central Asia\", \"income_group\": \"High income\", \"price_usd\": 316.8}, {\"Unnamed: 0\": 90, \"model\": \"AirPods Pro\", \"country\": \"France\", \"region\": \"Europe & Central Asia\", \"income_group\": \"High income\", \"price_usd\": 316.8}, {\"Unnamed: 0\": 107, \"model\": \"AirPods Pro\", \"country\": \"Ireland\", \"region\": \"Europe & Central Asia\", \"income_group\": \"High income\", \"price_usd\": 316.8}, {\"Unnamed: 0\": 124, \"model\": \"AirPods Pro\", \"country\": \"Italy\", \"region\": \"Europe & Central Asia\", \"income_group\": \"High income\", \"price_usd\": 316.8}, {\"Unnamed: 0\": 141, \"model\": \"AirPods Pro\", \"country\": \"Luxembourg\", \"region\": \"Europe & Central Asia\", \"income_group\": \"High income\", \"price_usd\": 306.34}, {\"Unnamed: 0\": 158, \"model\": \"AirPods Pro\", \"country\": \"Netherlands\", \"region\": \"Europe & Central Asia\", \"income_group\": \"High income\", \"price_usd\": 316.8}, {\"Unnamed: 0\": 175, \"model\": \"AirPods Pro\", \"country\": \"Portugal\", \"region\": \"Europe & Central Asia\", \"income_group\": \"High income\", \"price_usd\": 316.8}, {\"Unnamed: 0\": 191, \"model\": \"AirPods Pro\", \"country\": \"Brazil\", \"region\": \"Latin America & Caribbean\", \"income_group\": \"Upper middle income\", \"price_usd\": 535.95}, {\"Unnamed: 0\": 208, \"model\": \"AirPods Pro\", \"country\": \"Canada\", \"region\": \"North America\", \"income_group\": \"High income\", \"price_usd\": 259.07}, {\"Unnamed: 0\": 225, \"model\": \"AirPods Pro\", \"country\": \"Czech Republic\", \"region\": \"Europe & Central Asia\", \"income_group\": \"High income\", \"price_usd\": 333.54}, {\"Unnamed: 0\": 242, \"model\": \"AirPods Pro\", \"country\": \"Denmark\", \"region\": \"Europe & Central Asia\", \"income_group\": \"High income\", \"price_usd\": 335.69}, {\"Unnamed: 0\": 259, \"model\": \"AirPods Pro\", \"country\": \"Hungary\", \"region\": \"Europe & Central Asia\", \"income_group\": \"High income\", \"price_usd\": 308.77}, {\"Unnamed: 0\": 276, \"model\": \"AirPods Pro\", \"country\": \"India\", \"region\": \"South Asia\", \"income_group\": \"Lower middle income\", \"price_usd\": 335.02}, {\"Unnamed: 0\": 294, \"model\": \"AirPods Pro\", \"country\": \"Mexico\", \"region\": \"Latin America & Caribbean\", \"income_group\": \"Upper middle income\", \"price_usd\": 293.29}, {\"Unnamed: 0\": 311, \"model\": \"AirPods Pro\", \"country\": \"Norway\", \"region\": \"Europe & Central Asia\", \"income_group\": \"High income\", \"price_usd\": 339.47}, {\"Unnamed: 0\": 328, \"model\": \"AirPods Pro\", \"country\": \"Philippines\", \"region\": \"East Asia & Pacific\", \"income_group\": \"Lower middle income\", \"price_usd\": 293.21}, {\"Unnamed: 0\": 345, \"model\": \"AirPods Pro\", \"country\": \"Poland\", \"region\": \"Europe & Central Asia\", \"income_group\": \"High income\", \"price_usd\": 309.02}, {\"Unnamed: 0\": 362, \"model\": \"AirPods Pro\", \"country\": \"Russia\", \"region\": \"Europe & Central Asia\", \"income_group\": \"Upper middle income\", \"price_usd\": 335.69}, {\"Unnamed: 0\": 379, \"model\": \"AirPods Pro\", \"country\": \"Sweden\", \"region\": \"Europe & Central Asia\", \"income_group\": \"High income\", \"price_usd\": 352.37}, {\"Unnamed: 0\": 396, \"model\": \"AirPods Pro\", \"country\": \"Thailand\", \"region\": \"East Asia & Pacific\", \"income_group\": \"Upper middle income\", \"price_usd\": 271.08}, {\"Unnamed: 0\": 413, \"model\": \"AirPods Pro\", \"country\": \"Turkey\", \"region\": \"Europe & Central Asia\", \"income_group\": \"Upper middle income\", \"price_usd\": 286.1}, {\"Unnamed: 0\": 430, \"model\": \"AirPods Pro\", \"country\": \"United States\", \"region\": \"North America\", \"income_group\": \"High income\", \"price_usd\": 249.0}]}}, {\"mode\": \"vega-lite\"});\n",
       "</script>"
      ],
      "text/plain": [
       "alt.Chart(...)"
      ]
     },
     "metadata": {},
     "output_type": "display_data"
    }
   ],
   "source": [
    "v = 2\n",
    "f = plot_data(data = list(modelsdict.values())[v])\n",
    "f.bar_product(x = 'price_usd', y = 'country', z = 'income_group', article = list(modelsdict.keys())[v], \n",
    "       xt = 'Price in USD', yt = 'Country', zt = 'Income Group')"
   ]
  },
  {
   "cell_type": "code",
   "execution_count": 19,
   "id": "10c7f758",
   "metadata": {},
   "outputs": [
    {
     "data": {
      "text/html": [
       "\n",
       "<div id=\"altair-viz-e896afdf88f14eb29eee2a17efbe1a22\"></div>\n",
       "<script type=\"text/javascript\">\n",
       "  (function(spec, embedOpt){\n",
       "    let outputDiv = document.currentScript.previousElementSibling;\n",
       "    if (outputDiv.id !== \"altair-viz-e896afdf88f14eb29eee2a17efbe1a22\") {\n",
       "      outputDiv = document.getElementById(\"altair-viz-e896afdf88f14eb29eee2a17efbe1a22\");\n",
       "    }\n",
       "    const paths = {\n",
       "      \"vega\": \"https://cdn.jsdelivr.net/npm//vega@5?noext\",\n",
       "      \"vega-lib\": \"https://cdn.jsdelivr.net/npm//vega-lib?noext\",\n",
       "      \"vega-lite\": \"https://cdn.jsdelivr.net/npm//vega-lite@4.8.1?noext\",\n",
       "      \"vega-embed\": \"https://cdn.jsdelivr.net/npm//vega-embed@6?noext\",\n",
       "    };\n",
       "\n",
       "    function loadScript(lib) {\n",
       "      return new Promise(function(resolve, reject) {\n",
       "        var s = document.createElement('script');\n",
       "        s.src = paths[lib];\n",
       "        s.async = true;\n",
       "        s.onload = () => resolve(paths[lib]);\n",
       "        s.onerror = () => reject(`Error loading script: ${paths[lib]}`);\n",
       "        document.getElementsByTagName(\"head\")[0].appendChild(s);\n",
       "      });\n",
       "    }\n",
       "\n",
       "    function showError(err) {\n",
       "      outputDiv.innerHTML = `<div class=\"error\" style=\"color:red;\">${err}</div>`;\n",
       "      throw err;\n",
       "    }\n",
       "\n",
       "    function displayChart(vegaEmbed) {\n",
       "      vegaEmbed(outputDiv, spec, embedOpt)\n",
       "        .catch(err => showError(`Javascript Error: ${err.message}<br>This usually means there's a typo in your chart specification. See the javascript console for the full traceback.`));\n",
       "    }\n",
       "\n",
       "    if(typeof define === \"function\" && define.amd) {\n",
       "      requirejs.config({paths});\n",
       "      require([\"vega-embed\"], displayChart, err => showError(`Error loading script: ${err.message}`));\n",
       "    } else if (typeof vegaEmbed === \"function\") {\n",
       "      displayChart(vegaEmbed);\n",
       "    } else {\n",
       "      loadScript(\"vega\")\n",
       "        .then(() => loadScript(\"vega-lite\"))\n",
       "        .then(() => loadScript(\"vega-embed\"))\n",
       "        .catch(showError)\n",
       "        .then(() => displayChart(vegaEmbed));\n",
       "    }\n",
       "  })({\"config\": {\"view\": {\"continuousWidth\": 400, \"continuousHeight\": 300}, \"axis\": {\"labelFontSize\": 13, \"titleColor\": \"#364547\", \"titleFontSize\": 13}, \"axisX\": {\"labelAngle\": 0}, \"font\": \"Roboto\", \"legend\": {\"labelFontSize\": 13, \"titleColor\": \"#364547\", \"titleFontSize\": 14}, \"title\": {\"align\": \"center\", \"color\": \"#364547\", \"fontSize\": 22}}, \"data\": {\"name\": \"data-1415c5a651f9f3e29a4b62db4fe5b406\"}, \"mark\": \"bar\", \"encoding\": {\"color\": {\"type\": \"nominal\", \"field\": \"income_group\", \"legend\": {\"title\": \"Income Group\"}}, \"opacity\": {\"condition\": {\"value\": 1.0, \"selection\": \"selector005\"}, \"value\": 0.1}, \"tooltip\": [{\"type\": \"nominal\", \"field\": \"income_group\"}, {\"type\": \"nominal\", \"field\": \"country\"}, {\"type\": \"quantitative\", \"field\": \"price_usd\"}], \"x\": {\"type\": \"quantitative\", \"field\": \"price_usd\", \"title\": \"Price in USD\"}, \"y\": {\"type\": \"nominal\", \"field\": \"country\", \"title\": \"Country\"}}, \"height\": 550, \"selection\": {\"selector005\": {\"type\": \"single\", \"fields\": [\"income_group\"], \"bind\": {\"input\": \"select\", \"options\": [\"High income\", \"Upper middle income\", \"Lower middle income\"], \"name\": \"income_group   \"}}}, \"title\": \"AirPods(2nd generation) prices in 26 countries\", \"transform\": [{\"filter\": \"(isValid(datum.income_group))\"}], \"width\": 550, \"$schema\": \"https://vega.github.io/schema/vega-lite/v4.8.1.json\", \"datasets\": {\"data-1415c5a651f9f3e29a4b62db4fe5b406\": [{\"Unnamed: 0\": 5, \"model\": \"AirPods(2nd generation)\", \"country\": \"Australia\", \"region\": \"East Asia & Pacific\", \"income_group\": \"High income\", \"price_usd\": 158.48}, {\"Unnamed: 0\": 22, \"model\": \"AirPods(2nd generation)\", \"country\": \"Austria\", \"region\": \"Europe & Central Asia\", \"income_group\": \"High income\", \"price_usd\": 169.19}, {\"Unnamed: 0\": 40, \"model\": \"AirPods(2nd generation)\", \"country\": \"Germany\", \"region\": \"Europe & Central Asia\", \"income_group\": \"High income\", \"price_usd\": 169.19}, {\"Unnamed: 0\": 57, \"model\": \"AirPods(2nd generation)\", \"country\": \"Spain\", \"region\": \"Europe & Central Asia\", \"income_group\": \"High income\", \"price_usd\": 169.19}, {\"Unnamed: 0\": 74, \"model\": \"AirPods(2nd generation)\", \"country\": \"Finland\", \"region\": \"Europe & Central Asia\", \"income_group\": \"High income\", \"price_usd\": 169.19}, {\"Unnamed: 0\": 91, \"model\": \"AirPods(2nd generation)\", \"country\": \"France\", \"region\": \"Europe & Central Asia\", \"income_group\": \"High income\", \"price_usd\": 169.19}, {\"Unnamed: 0\": 108, \"model\": \"AirPods(2nd generation)\", \"country\": \"Ireland\", \"region\": \"Europe & Central Asia\", \"income_group\": \"High income\", \"price_usd\": 169.19}, {\"Unnamed: 0\": 125, \"model\": \"AirPods(2nd generation)\", \"country\": \"Italy\", \"region\": \"Europe & Central Asia\", \"income_group\": \"High income\", \"price_usd\": 169.19}, {\"Unnamed: 0\": 142, \"model\": \"AirPods(2nd generation)\", \"country\": \"Luxembourg\", \"region\": \"Europe & Central Asia\", \"income_group\": \"High income\", \"price_usd\": 163.59}, {\"Unnamed: 0\": 159, \"model\": \"AirPods(2nd generation)\", \"country\": \"Netherlands\", \"region\": \"Europe & Central Asia\", \"income_group\": \"High income\", \"price_usd\": 169.19}, {\"Unnamed: 0\": 176, \"model\": \"AirPods(2nd generation)\", \"country\": \"Portugal\", \"region\": \"Europe & Central Asia\", \"income_group\": \"High income\", \"price_usd\": 169.19}, {\"Unnamed: 0\": 192, \"model\": \"AirPods(2nd generation)\", \"country\": \"Brazil\", \"region\": \"Latin America & Caribbean\", \"income_group\": \"Upper middle income\", \"price_usd\": 294.69}, {\"Unnamed: 0\": 209, \"model\": \"AirPods(2nd generation)\", \"country\": \"Canada\", \"region\": \"North America\", \"income_group\": \"High income\", \"price_usd\": 140.95}, {\"Unnamed: 0\": 226, \"model\": \"AirPods(2nd generation)\", \"country\": \"Czech Republic\", \"region\": \"Europe & Central Asia\", \"income_group\": \"High income\", \"price_usd\": 173.4}, {\"Unnamed: 0\": 243, \"model\": \"AirPods(2nd generation)\", \"country\": \"Denmark\", \"region\": \"Europe & Central Asia\", \"income_group\": \"High income\", \"price_usd\": 172.35}, {\"Unnamed: 0\": 260, \"model\": \"AirPods(2nd generation)\", \"country\": \"Hungary\", \"region\": \"Europe & Central Asia\", \"income_group\": \"High income\", \"price_usd\": 163.63}, {\"Unnamed: 0\": 277, \"model\": \"AirPods(2nd generation)\", \"country\": \"India\", \"region\": \"South Asia\", \"income_group\": \"Lower middle income\", \"price_usd\": 173.56}, {\"Unnamed: 0\": 295, \"model\": \"AirPods(2nd generation)\", \"country\": \"Mexico\", \"region\": \"Latin America & Caribbean\", \"income_group\": \"Upper middle income\", \"price_usd\": 161.29}, {\"Unnamed: 0\": 312, \"model\": \"AirPods(2nd generation)\", \"country\": \"Norway\", \"region\": \"Europe & Central Asia\", \"income_group\": \"High income\", \"price_usd\": 164.63}, {\"Unnamed: 0\": 329, \"model\": \"AirPods(2nd generation)\", \"country\": \"Philippines\", \"region\": \"East Asia & Pacific\", \"income_group\": \"Lower middle income\", \"price_usd\": 150.42}, {\"Unnamed: 0\": 346, \"model\": \"AirPods(2nd generation)\", \"country\": \"Poland\", \"region\": \"Europe & Central Asia\", \"income_group\": \"High income\", \"price_usd\": 160.57}, {\"Unnamed: 0\": 363, \"model\": \"AirPods(2nd generation)\", \"country\": \"Russia\", \"region\": \"Europe & Central Asia\", \"income_group\": \"Upper middle income\", \"price_usd\": 167.78}, {\"Unnamed: 0\": 380, \"model\": \"AirPods(2nd generation)\", \"country\": \"Sweden\", \"region\": \"Europe & Central Asia\", \"income_group\": \"High income\", \"price_usd\": 175.91}, {\"Unnamed: 0\": 397, \"model\": \"AirPods(2nd generation)\", \"country\": \"Thailand\", \"region\": \"East Asia & Pacific\", \"income_group\": \"Upper middle income\", \"price_usd\": 150.44}, {\"Unnamed: 0\": 414, \"model\": \"AirPods(2nd generation)\", \"country\": \"Turkey\", \"region\": \"Europe & Central Asia\", \"income_group\": \"Upper middle income\", \"price_usd\": 143.01}, {\"Unnamed: 0\": 431, \"model\": \"AirPods(2nd generation)\", \"country\": \"United States\", \"region\": \"North America\", \"income_group\": \"High income\", \"price_usd\": 129.0}]}}, {\"mode\": \"vega-lite\"});\n",
       "</script>"
      ],
      "text/plain": [
       "alt.Chart(...)"
      ]
     },
     "metadata": {},
     "output_type": "display_data"
    }
   ],
   "source": [
    "v = 3\n",
    "f = plot_data(data = list(modelsdict.values())[v])\n",
    "f.bar_product(x = 'price_usd', y = 'country', z = 'income_group', article = list(modelsdict.keys())[v], \n",
    "       xt = 'Price in USD', yt = 'Country', zt = 'Income Group')"
   ]
  },
  {
   "cell_type": "markdown",
   "id": "f367662f",
   "metadata": {},
   "source": [
    "* The best price for the AirPods Pro and the AirPods(2nd generation) are in the US"
   ]
  },
  {
   "cell_type": "code",
   "execution_count": 20,
   "id": "f09514a8",
   "metadata": {},
   "outputs": [
    {
     "data": {
      "text/html": [
       "\n",
       "<div id=\"altair-viz-297fcfdb4d1c45ce8be5a8bd200483ef\"></div>\n",
       "<script type=\"text/javascript\">\n",
       "  (function(spec, embedOpt){\n",
       "    let outputDiv = document.currentScript.previousElementSibling;\n",
       "    if (outputDiv.id !== \"altair-viz-297fcfdb4d1c45ce8be5a8bd200483ef\") {\n",
       "      outputDiv = document.getElementById(\"altair-viz-297fcfdb4d1c45ce8be5a8bd200483ef\");\n",
       "    }\n",
       "    const paths = {\n",
       "      \"vega\": \"https://cdn.jsdelivr.net/npm//vega@5?noext\",\n",
       "      \"vega-lib\": \"https://cdn.jsdelivr.net/npm//vega-lib?noext\",\n",
       "      \"vega-lite\": \"https://cdn.jsdelivr.net/npm//vega-lite@4.8.1?noext\",\n",
       "      \"vega-embed\": \"https://cdn.jsdelivr.net/npm//vega-embed@6?noext\",\n",
       "    };\n",
       "\n",
       "    function loadScript(lib) {\n",
       "      return new Promise(function(resolve, reject) {\n",
       "        var s = document.createElement('script');\n",
       "        s.src = paths[lib];\n",
       "        s.async = true;\n",
       "        s.onload = () => resolve(paths[lib]);\n",
       "        s.onerror = () => reject(`Error loading script: ${paths[lib]}`);\n",
       "        document.getElementsByTagName(\"head\")[0].appendChild(s);\n",
       "      });\n",
       "    }\n",
       "\n",
       "    function showError(err) {\n",
       "      outputDiv.innerHTML = `<div class=\"error\" style=\"color:red;\">${err}</div>`;\n",
       "      throw err;\n",
       "    }\n",
       "\n",
       "    function displayChart(vegaEmbed) {\n",
       "      vegaEmbed(outputDiv, spec, embedOpt)\n",
       "        .catch(err => showError(`Javascript Error: ${err.message}<br>This usually means there's a typo in your chart specification. See the javascript console for the full traceback.`));\n",
       "    }\n",
       "\n",
       "    if(typeof define === \"function\" && define.amd) {\n",
       "      requirejs.config({paths});\n",
       "      require([\"vega-embed\"], displayChart, err => showError(`Error loading script: ${err.message}`));\n",
       "    } else if (typeof vegaEmbed === \"function\") {\n",
       "      displayChart(vegaEmbed);\n",
       "    } else {\n",
       "      loadScript(\"vega\")\n",
       "        .then(() => loadScript(\"vega-lite\"))\n",
       "        .then(() => loadScript(\"vega-embed\"))\n",
       "        .catch(showError)\n",
       "        .then(() => displayChart(vegaEmbed));\n",
       "    }\n",
       "  })({\"config\": {\"view\": {\"continuousWidth\": 400, \"continuousHeight\": 300}, \"axis\": {\"labelFontSize\": 13, \"titleColor\": \"#364547\", \"titleFontSize\": 13}, \"axisX\": {\"labelAngle\": 0}, \"font\": \"Roboto\", \"legend\": {\"labelFontSize\": 13, \"titleColor\": \"#364547\", \"titleFontSize\": 14}, \"title\": {\"align\": \"center\", \"color\": \"#364547\", \"fontSize\": 22}}, \"data\": {\"name\": \"data-8a27941e3990643fd9bd6b5236de9813\"}, \"mark\": \"bar\", \"encoding\": {\"color\": {\"type\": \"nominal\", \"field\": \"income_group\", \"legend\": {\"title\": \"Income Group\"}}, \"opacity\": {\"condition\": {\"value\": 1.0, \"selection\": \"selector006\"}, \"value\": 0.1}, \"tooltip\": [{\"type\": \"nominal\", \"field\": \"income_group\"}, {\"type\": \"nominal\", \"field\": \"country\"}, {\"type\": \"quantitative\", \"field\": \"price_usd\"}], \"x\": {\"type\": \"quantitative\", \"field\": \"price_usd\", \"title\": \"Price in USD\"}, \"y\": {\"type\": \"nominal\", \"field\": \"country\", \"title\": \"Country\"}}, \"height\": 550, \"selection\": {\"selector006\": {\"type\": \"single\", \"fields\": [\"income_group\"], \"bind\": {\"input\": \"select\", \"options\": [\"High income\", \"Upper middle income\", \"Lower middle income\"], \"name\": \"income_group   \"}}}, \"title\": \"Apple TV 4K prices in 26 countries\", \"transform\": [{\"filter\": \"(isValid(datum.income_group))\"}], \"width\": 550, \"$schema\": \"https://vega.github.io/schema/vega-lite/v4.8.1.json\", \"datasets\": {\"data-8a27941e3990643fd9bd6b5236de9813\": [{\"Unnamed: 0\": 7, \"model\": \"Apple TV 4K\", \"country\": \"Australia\", \"region\": \"East Asia & Pacific\", \"income_group\": \"High income\", \"price_usd\": 180.19}, {\"Unnamed: 0\": 25, \"model\": \"Apple TV 4K\", \"country\": \"Austria\", \"region\": \"Europe & Central Asia\", \"income_group\": \"High income\", \"price_usd\": 225.96}, {\"Unnamed: 0\": 42, \"model\": \"Apple TV 4K\", \"country\": \"Germany\", \"region\": \"Europe & Central Asia\", \"income_group\": \"High income\", \"price_usd\": 225.96}, {\"Unnamed: 0\": 59, \"model\": \"Apple TV 4K\", \"country\": \"Spain\", \"region\": \"Europe & Central Asia\", \"income_group\": \"High income\", \"price_usd\": 225.96}, {\"Unnamed: 0\": 76, \"model\": \"Apple TV 4K\", \"country\": \"Finland\", \"region\": \"Europe & Central Asia\", \"income_group\": \"High income\", \"price_usd\": 225.96}, {\"Unnamed: 0\": 93, \"model\": \"Apple TV 4K\", \"country\": \"France\", \"region\": \"Europe & Central Asia\", \"income_group\": \"High income\", \"price_usd\": 225.96}, {\"Unnamed: 0\": 110, \"model\": \"Apple TV 4K\", \"country\": \"Ireland\", \"region\": \"Europe & Central Asia\", \"income_group\": \"High income\", \"price_usd\": 225.96}, {\"Unnamed: 0\": 127, \"model\": \"Apple TV 4K\", \"country\": \"Italy\", \"region\": \"Europe & Central Asia\", \"income_group\": \"High income\", \"price_usd\": 225.96}, {\"Unnamed: 0\": 144, \"model\": \"Apple TV 4K\", \"country\": \"Luxembourg\", \"region\": \"Europe & Central Asia\", \"income_group\": \"High income\", \"price_usd\": 218.49}, {\"Unnamed: 0\": 161, \"model\": \"Apple TV 4K\", \"country\": \"Netherlands\", \"region\": \"Europe & Central Asia\", \"income_group\": \"High income\", \"price_usd\": 225.96}, {\"Unnamed: 0\": 178, \"model\": \"Apple TV 4K\", \"country\": \"Portugal\", \"region\": \"Europe & Central Asia\", \"income_group\": \"High income\", \"price_usd\": 225.96}, {\"Unnamed: 0\": 194, \"model\": \"Apple TV 4K\", \"country\": \"Brazil\", \"region\": \"Latin America & Caribbean\", \"income_group\": \"Upper middle income\", \"price_usd\": 428.72}, {\"Unnamed: 0\": 211, \"model\": \"Apple TV 4K\", \"country\": \"Canada\", \"region\": \"North America\", \"income_group\": \"High income\", \"price_usd\": 180.33}, {\"Unnamed: 0\": 228, \"model\": \"Apple TV 4K\", \"country\": \"Czech Republic\", \"region\": \"Europe & Central Asia\", \"income_group\": \"High income\", \"price_usd\": 228.31}, {\"Unnamed: 0\": 245, \"model\": \"Apple TV 4K\", \"country\": \"Denmark\", \"region\": \"Europe & Central Asia\", \"income_group\": \"High income\", \"price_usd\": 228.83}, {\"Unnamed: 0\": 262, \"model\": \"Apple TV 4K\", \"country\": \"Hungary\", \"region\": \"Europe & Central Asia\", \"income_group\": \"High income\", \"price_usd\": 222.31}, {\"Unnamed: 0\": 279, \"model\": \"Apple TV 4K\", \"country\": \"India\", \"region\": \"South Asia\", \"income_group\": \"Lower middle income\", \"price_usd\": 254.29}, {\"Unnamed: 0\": 297, \"model\": \"Apple TV 4K\", \"country\": \"Mexico\", \"region\": \"Latin America & Caribbean\", \"income_group\": \"Upper middle income\", \"price_usd\": 219.95}, {\"Unnamed: 0\": 314, \"model\": \"Apple TV 4K\", \"country\": \"Norway\", \"region\": \"Europe & Central Asia\", \"income_group\": \"High income\", \"price_usd\": 225.94}, {\"Unnamed: 0\": 331, \"model\": \"Apple TV 4K\", \"country\": \"Philippines\", \"region\": \"East Asia & Pacific\", \"income_group\": \"Lower middle income\", \"price_usd\": 214.97}, {\"Unnamed: 0\": 348, \"model\": \"Apple TV 4K\", \"country\": \"Poland\", \"region\": \"Europe & Central Asia\", \"income_group\": \"High income\", \"price_usd\": 222.42}, {\"Unnamed: 0\": 365, \"model\": \"Apple TV 4K\", \"country\": \"Russia\", \"region\": \"Europe & Central Asia\", \"income_group\": \"Upper middle income\", \"price_usd\": 228.22}, {\"Unnamed: 0\": 382, \"model\": \"Apple TV 4K\", \"country\": \"Sweden\", \"region\": \"Europe & Central Asia\", \"income_group\": \"High income\", \"price_usd\": 220.02}, {\"Unnamed: 0\": 399, \"model\": \"Apple TV 4K\", \"country\": \"Thailand\", \"region\": \"East Asia & Pacific\", \"income_group\": \"Upper middle income\", \"price_usd\": 201.99}, {\"Unnamed: 0\": 416, \"model\": \"Apple TV 4K\", \"country\": \"Turkey\", \"region\": \"Europe & Central Asia\", \"income_group\": \"Upper middle income\", \"price_usd\": 218.32}, {\"Unnamed: 0\": 433, \"model\": \"Apple TV 4K\", \"country\": \"United States\", \"region\": \"North America\", \"income_group\": \"High income\", \"price_usd\": 179.0}]}}, {\"mode\": \"vega-lite\"});\n",
       "</script>"
      ],
      "text/plain": [
       "alt.Chart(...)"
      ]
     },
     "metadata": {},
     "output_type": "display_data"
    }
   ],
   "source": [
    "v = 4\n",
    "f = plot_data(data = list(modelsdict.values())[v])\n",
    "f.bar_product(x = 'price_usd', y = 'country', z = 'income_group', article = list(modelsdict.keys())[v], \n",
    "       xt = 'Price in USD', yt = 'Country', zt = 'Income Group')"
   ]
  },
  {
   "cell_type": "markdown",
   "id": "bdc5f459",
   "metadata": {},
   "source": [
    "* The Apple TV is just $1 cheaper in US against Canada."
   ]
  },
  {
   "cell_type": "code",
   "execution_count": 21,
   "id": "524f5086",
   "metadata": {},
   "outputs": [
    {
     "data": {
      "text/html": [
       "\n",
       "<div id=\"altair-viz-be5d62b080f44d49b8c3130f90683c51\"></div>\n",
       "<script type=\"text/javascript\">\n",
       "  (function(spec, embedOpt){\n",
       "    let outputDiv = document.currentScript.previousElementSibling;\n",
       "    if (outputDiv.id !== \"altair-viz-be5d62b080f44d49b8c3130f90683c51\") {\n",
       "      outputDiv = document.getElementById(\"altair-viz-be5d62b080f44d49b8c3130f90683c51\");\n",
       "    }\n",
       "    const paths = {\n",
       "      \"vega\": \"https://cdn.jsdelivr.net/npm//vega@5?noext\",\n",
       "      \"vega-lib\": \"https://cdn.jsdelivr.net/npm//vega-lib?noext\",\n",
       "      \"vega-lite\": \"https://cdn.jsdelivr.net/npm//vega-lite@4.8.1?noext\",\n",
       "      \"vega-embed\": \"https://cdn.jsdelivr.net/npm//vega-embed@6?noext\",\n",
       "    };\n",
       "\n",
       "    function loadScript(lib) {\n",
       "      return new Promise(function(resolve, reject) {\n",
       "        var s = document.createElement('script');\n",
       "        s.src = paths[lib];\n",
       "        s.async = true;\n",
       "        s.onload = () => resolve(paths[lib]);\n",
       "        s.onerror = () => reject(`Error loading script: ${paths[lib]}`);\n",
       "        document.getElementsByTagName(\"head\")[0].appendChild(s);\n",
       "      });\n",
       "    }\n",
       "\n",
       "    function showError(err) {\n",
       "      outputDiv.innerHTML = `<div class=\"error\" style=\"color:red;\">${err}</div>`;\n",
       "      throw err;\n",
       "    }\n",
       "\n",
       "    function displayChart(vegaEmbed) {\n",
       "      vegaEmbed(outputDiv, spec, embedOpt)\n",
       "        .catch(err => showError(`Javascript Error: ${err.message}<br>This usually means there's a typo in your chart specification. See the javascript console for the full traceback.`));\n",
       "    }\n",
       "\n",
       "    if(typeof define === \"function\" && define.amd) {\n",
       "      requirejs.config({paths});\n",
       "      require([\"vega-embed\"], displayChart, err => showError(`Error loading script: ${err.message}`));\n",
       "    } else if (typeof vegaEmbed === \"function\") {\n",
       "      displayChart(vegaEmbed);\n",
       "    } else {\n",
       "      loadScript(\"vega\")\n",
       "        .then(() => loadScript(\"vega-lite\"))\n",
       "        .then(() => loadScript(\"vega-embed\"))\n",
       "        .catch(showError)\n",
       "        .then(() => displayChart(vegaEmbed));\n",
       "    }\n",
       "  })({\"config\": {\"view\": {\"continuousWidth\": 400, \"continuousHeight\": 300}, \"axis\": {\"labelFontSize\": 13, \"titleColor\": \"#364547\", \"titleFontSize\": 13}, \"axisX\": {\"labelAngle\": 0}, \"font\": \"Roboto\", \"legend\": {\"labelFontSize\": 13, \"titleColor\": \"#364547\", \"titleFontSize\": 14}, \"title\": {\"align\": \"center\", \"color\": \"#364547\", \"fontSize\": 22}}, \"data\": {\"name\": \"data-6fa0424f9881fd8f276d36e3fe7bd47d\"}, \"mark\": \"bar\", \"encoding\": {\"color\": {\"type\": \"nominal\", \"field\": \"income_group\", \"legend\": {\"title\": \"Income Group\"}}, \"opacity\": {\"condition\": {\"value\": 1.0, \"selection\": \"selector007\"}, \"value\": 0.1}, \"tooltip\": [{\"type\": \"nominal\", \"field\": \"income_group\"}, {\"type\": \"nominal\", \"field\": \"country\"}, {\"type\": \"quantitative\", \"field\": \"price_usd\"}], \"x\": {\"type\": \"quantitative\", \"field\": \"price_usd\", \"title\": \"Price in USD\"}, \"y\": {\"type\": \"nominal\", \"field\": \"country\", \"title\": \"Country\"}}, \"height\": 550, \"selection\": {\"selector007\": {\"type\": \"single\", \"fields\": [\"income_group\"], \"bind\": {\"input\": \"select\", \"options\": [\"High income\", \"Upper middle income\", \"Lower middle income\"], \"name\": \"income_group   \"}}}, \"title\": \"Apple Watch SE prices in 26 countries\", \"transform\": [{\"filter\": \"(isValid(datum.income_group))\"}], \"width\": 550, \"$schema\": \"https://vega.github.io/schema/vega-lite/v4.8.1.json\", \"datasets\": {\"data-6fa0424f9881fd8f276d36e3fe7bd47d\": [{\"Unnamed: 0\": 8, \"model\": \"Apple Watch SE\", \"country\": \"Australia\", \"region\": \"East Asia & Pacific\", \"income_group\": \"High income\", \"price_usd\": 310.45}, {\"Unnamed: 0\": 26, \"model\": \"Apple Watch SE\", \"country\": \"Austria\", \"region\": \"Europe & Central Asia\", \"income_group\": \"High income\", \"price_usd\": 339.51}, {\"Unnamed: 0\": 43, \"model\": \"Apple Watch SE\", \"country\": \"Germany\", \"region\": \"Europe & Central Asia\", \"income_group\": \"High income\", \"price_usd\": 339.51}, {\"Unnamed: 0\": 60, \"model\": \"Apple Watch SE\", \"country\": \"Spain\", \"region\": \"Europe & Central Asia\", \"income_group\": \"High income\", \"price_usd\": 339.51}, {\"Unnamed: 0\": 77, \"model\": \"Apple Watch SE\", \"country\": \"Finland\", \"region\": \"Europe & Central Asia\", \"income_group\": \"High income\", \"price_usd\": 350.87}, {\"Unnamed: 0\": 94, \"model\": \"Apple Watch SE\", \"country\": \"France\", \"region\": \"Europe & Central Asia\", \"income_group\": \"High income\", \"price_usd\": 339.51}, {\"Unnamed: 0\": 111, \"model\": \"Apple Watch SE\", \"country\": \"Ireland\", \"region\": \"Europe & Central Asia\", \"income_group\": \"High income\", \"price_usd\": 339.51}, {\"Unnamed: 0\": 128, \"model\": \"Apple Watch SE\", \"country\": \"Italy\", \"region\": \"Europe & Central Asia\", \"income_group\": \"High income\", \"price_usd\": 350.87}, {\"Unnamed: 0\": 145, \"model\": \"Apple Watch SE\", \"country\": \"Luxembourg\", \"region\": \"Europe & Central Asia\", \"income_group\": \"High income\", \"price_usd\": 328.3}, {\"Unnamed: 0\": 162, \"model\": \"Apple Watch SE\", \"country\": \"Netherlands\", \"region\": \"Europe & Central Asia\", \"income_group\": \"High income\", \"price_usd\": 339.51}, {\"Unnamed: 0\": 179, \"model\": \"Apple Watch SE\", \"country\": \"Portugal\", \"region\": \"Europe & Central Asia\", \"income_group\": \"High income\", \"price_usd\": 350.87}, {\"Unnamed: 0\": 195, \"model\": \"Apple Watch SE\", \"country\": \"Brazil\", \"region\": \"Latin America & Caribbean\", \"income_group\": \"Upper middle income\", \"price_usd\": 678.92}, {\"Unnamed: 0\": 212, \"model\": \"Apple Watch SE\", \"country\": \"Canada\", \"region\": \"North America\", \"income_group\": \"High income\", \"price_usd\": 290.57}, {\"Unnamed: 0\": 229, \"model\": \"Apple Watch SE\", \"country\": \"Czech Republic\", \"region\": \"Europe & Central Asia\", \"income_group\": \"High income\", \"price_usd\": 365.57}, {\"Unnamed: 0\": 246, \"model\": \"Apple Watch SE\", \"country\": \"Denmark\", \"region\": \"Europe & Central Asia\", \"income_group\": \"High income\", \"price_usd\": 350.96}, {\"Unnamed: 0\": 263, \"model\": \"Apple Watch SE\", \"country\": \"Hungary\", \"region\": \"Europe & Central Asia\", \"income_group\": \"High income\", \"price_usd\": 339.65}, {\"Unnamed: 0\": 281, \"model\": \"Apple Watch SE\", \"country\": \"India\", \"region\": \"South Asia\", \"income_group\": \"Lower middle income\", \"price_usd\": 402.29}, {\"Unnamed: 0\": 298, \"model\": \"Apple Watch SE\", \"country\": \"Mexico\", \"region\": \"Latin America & Caribbean\", \"income_group\": \"Upper middle income\", \"price_usd\": 366.62}, {\"Unnamed: 0\": 315, \"model\": \"Apple Watch SE\", \"country\": \"Norway\", \"region\": \"Europe & Central Asia\", \"income_group\": \"High income\", \"price_usd\": 373.53}, {\"Unnamed: 0\": 332, \"model\": \"Apple Watch SE\", \"country\": \"Philippines\", \"region\": \"East Asia & Pacific\", \"income_group\": \"Lower middle income\", \"price_usd\": 312.77}, {\"Unnamed: 0\": 349, \"model\": \"Apple Watch SE\", \"country\": \"Poland\", \"region\": \"Europe & Central Asia\", \"income_group\": \"High income\", \"price_usd\": 333.76}, {\"Unnamed: 0\": 366, \"model\": \"Apple Watch SE\", \"country\": \"Russia\", \"region\": \"Europe & Central Asia\", \"income_group\": \"Upper middle income\", \"price_usd\": 335.69}, {\"Unnamed: 0\": 383, \"model\": \"Apple Watch SE\", \"country\": \"Sweden\", \"region\": \"Europe & Central Asia\", \"income_group\": \"High income\", \"price_usd\": 352.37}, {\"Unnamed: 0\": 400, \"model\": \"Apple Watch SE\", \"country\": \"Thailand\", \"region\": \"East Asia & Pacific\", \"income_group\": \"Upper middle income\", \"price_usd\": 298.46}, {\"Unnamed: 0\": 417, \"model\": \"Apple Watch SE\", \"country\": \"Turkey\", \"region\": \"Europe & Central Asia\", \"income_group\": \"Upper middle income\", \"price_usd\": 316.23}, {\"Unnamed: 0\": 434, \"model\": \"Apple Watch SE\", \"country\": \"United States\", \"region\": \"North America\", \"income_group\": \"High income\", \"price_usd\": 279.0}]}}, {\"mode\": \"vega-lite\"});\n",
       "</script>"
      ],
      "text/plain": [
       "alt.Chart(...)"
      ]
     },
     "metadata": {},
     "output_type": "display_data"
    }
   ],
   "source": [
    "v = 5\n",
    "f = plot_data(data = list(modelsdict.values())[v])\n",
    "f.bar_product(x = 'price_usd', y = 'country', z = 'income_group', article = list(modelsdict.keys())[v], \n",
    "       xt = 'Price in USD', yt = 'Country', zt = 'Income Group')"
   ]
  },
  {
   "cell_type": "code",
   "execution_count": 22,
   "id": "df36aaaf",
   "metadata": {},
   "outputs": [
    {
     "data": {
      "text/html": [
       "\n",
       "<div id=\"altair-viz-63ce713022574b919ee11260fcb80a0c\"></div>\n",
       "<script type=\"text/javascript\">\n",
       "  (function(spec, embedOpt){\n",
       "    let outputDiv = document.currentScript.previousElementSibling;\n",
       "    if (outputDiv.id !== \"altair-viz-63ce713022574b919ee11260fcb80a0c\") {\n",
       "      outputDiv = document.getElementById(\"altair-viz-63ce713022574b919ee11260fcb80a0c\");\n",
       "    }\n",
       "    const paths = {\n",
       "      \"vega\": \"https://cdn.jsdelivr.net/npm//vega@5?noext\",\n",
       "      \"vega-lib\": \"https://cdn.jsdelivr.net/npm//vega-lib?noext\",\n",
       "      \"vega-lite\": \"https://cdn.jsdelivr.net/npm//vega-lite@4.8.1?noext\",\n",
       "      \"vega-embed\": \"https://cdn.jsdelivr.net/npm//vega-embed@6?noext\",\n",
       "    };\n",
       "\n",
       "    function loadScript(lib) {\n",
       "      return new Promise(function(resolve, reject) {\n",
       "        var s = document.createElement('script');\n",
       "        s.src = paths[lib];\n",
       "        s.async = true;\n",
       "        s.onload = () => resolve(paths[lib]);\n",
       "        s.onerror = () => reject(`Error loading script: ${paths[lib]}`);\n",
       "        document.getElementsByTagName(\"head\")[0].appendChild(s);\n",
       "      });\n",
       "    }\n",
       "\n",
       "    function showError(err) {\n",
       "      outputDiv.innerHTML = `<div class=\"error\" style=\"color:red;\">${err}</div>`;\n",
       "      throw err;\n",
       "    }\n",
       "\n",
       "    function displayChart(vegaEmbed) {\n",
       "      vegaEmbed(outputDiv, spec, embedOpt)\n",
       "        .catch(err => showError(`Javascript Error: ${err.message}<br>This usually means there's a typo in your chart specification. See the javascript console for the full traceback.`));\n",
       "    }\n",
       "\n",
       "    if(typeof define === \"function\" && define.amd) {\n",
       "      requirejs.config({paths});\n",
       "      require([\"vega-embed\"], displayChart, err => showError(`Error loading script: ${err.message}`));\n",
       "    } else if (typeof vegaEmbed === \"function\") {\n",
       "      displayChart(vegaEmbed);\n",
       "    } else {\n",
       "      loadScript(\"vega\")\n",
       "        .then(() => loadScript(\"vega-lite\"))\n",
       "        .then(() => loadScript(\"vega-embed\"))\n",
       "        .catch(showError)\n",
       "        .then(() => displayChart(vegaEmbed));\n",
       "    }\n",
       "  })({\"config\": {\"view\": {\"continuousWidth\": 400, \"continuousHeight\": 300}, \"axis\": {\"labelFontSize\": 13, \"titleColor\": \"#364547\", \"titleFontSize\": 13}, \"axisX\": {\"labelAngle\": 0}, \"font\": \"Roboto\", \"legend\": {\"labelFontSize\": 13, \"titleColor\": \"#364547\", \"titleFontSize\": 14}, \"title\": {\"align\": \"center\", \"color\": \"#364547\", \"fontSize\": 22}}, \"data\": {\"name\": \"data-8992fe874bde18b9cac4fe6d0a8cd922\"}, \"mark\": \"bar\", \"encoding\": {\"color\": {\"type\": \"nominal\", \"field\": \"income_group\", \"legend\": {\"title\": \"Income Group\"}}, \"opacity\": {\"condition\": {\"value\": 1.0, \"selection\": \"selector008\"}, \"value\": 0.1}, \"tooltip\": [{\"type\": \"nominal\", \"field\": \"income_group\"}, {\"type\": \"nominal\", \"field\": \"country\"}, {\"type\": \"quantitative\", \"field\": \"price_usd\"}], \"x\": {\"type\": \"quantitative\", \"field\": \"price_usd\", \"title\": \"Price in USD\"}, \"y\": {\"type\": \"nominal\", \"field\": \"country\", \"title\": \"Country\"}}, \"height\": 550, \"selection\": {\"selector008\": {\"type\": \"single\", \"fields\": [\"income_group\"], \"bind\": {\"input\": \"select\", \"options\": [\"High income\", \"Upper middle income\", \"Lower middle income\"], \"name\": \"income_group   \"}}}, \"title\": \"Apple Watch Series 3 prices in 26 countries\", \"transform\": [{\"filter\": \"(isValid(datum.income_group))\"}], \"width\": 550, \"$schema\": \"https://vega.github.io/schema/vega-lite/v4.8.1.json\", \"datasets\": {\"data-8992fe874bde18b9cac4fe6d0a8cd922\": [{\"Unnamed: 0\": 9, \"model\": \"Apple Watch Series 3\", \"country\": \"Australia\", \"region\": \"East Asia & Pacific\", \"income_group\": \"High income\", \"price_usd\": 216.38}, {\"Unnamed: 0\": 27, \"model\": \"Apple Watch Series 3\", \"country\": \"Austria\", \"region\": \"Europe & Central Asia\", \"income_group\": \"High income\", \"price_usd\": 248.67}, {\"Unnamed: 0\": 44, \"model\": \"Apple Watch Series 3\", \"country\": \"Germany\", \"region\": \"Europe & Central Asia\", \"income_group\": \"High income\", \"price_usd\": 248.67}, {\"Unnamed: 0\": 61, \"model\": \"Apple Watch Series 3\", \"country\": \"Spain\", \"region\": \"Europe & Central Asia\", \"income_group\": \"High income\", \"price_usd\": 248.67}, {\"Unnamed: 0\": 78, \"model\": \"Apple Watch Series 3\", \"country\": \"Finland\", \"region\": \"Europe & Central Asia\", \"income_group\": \"High income\", \"price_usd\": 260.03}, {\"Unnamed: 0\": 95, \"model\": \"Apple Watch Series 3\", \"country\": \"France\", \"region\": \"Europe & Central Asia\", \"income_group\": \"High income\", \"price_usd\": 248.67}, {\"Unnamed: 0\": 112, \"model\": \"Apple Watch Series 3\", \"country\": \"Ireland\", \"region\": \"Europe & Central Asia\", \"income_group\": \"High income\", \"price_usd\": 248.67}, {\"Unnamed: 0\": 129, \"model\": \"Apple Watch Series 3\", \"country\": \"Italy\", \"region\": \"Europe & Central Asia\", \"income_group\": \"High income\", \"price_usd\": 260.03}, {\"Unnamed: 0\": 146, \"model\": \"Apple Watch Series 3\", \"country\": \"Luxembourg\", \"region\": \"Europe & Central Asia\", \"income_group\": \"High income\", \"price_usd\": 240.45}, {\"Unnamed: 0\": 163, \"model\": \"Apple Watch Series 3\", \"country\": \"Netherlands\", \"region\": \"Europe & Central Asia\", \"income_group\": \"High income\", \"price_usd\": 248.67}, {\"Unnamed: 0\": 180, \"model\": \"Apple Watch Series 3\", \"country\": \"Portugal\", \"region\": \"Europe & Central Asia\", \"income_group\": \"High income\", \"price_usd\": 260.03}, {\"Unnamed: 0\": 196, \"model\": \"Apple Watch Series 3\", \"country\": \"Brazil\", \"region\": \"Latin America & Caribbean\", \"income_group\": \"Upper middle income\", \"price_usd\": 464.47}, {\"Unnamed: 0\": 213, \"model\": \"Apple Watch Series 3\", \"country\": \"Canada\", \"region\": \"North America\", \"income_group\": \"High income\", \"price_usd\": 196.07}, {\"Unnamed: 0\": 230, \"model\": \"Apple Watch Series 3\", \"country\": \"Czech Republic\", \"region\": \"Europe & Central Asia\", \"income_group\": \"High income\", \"price_usd\": 251.18}, {\"Unnamed: 0\": 247, \"model\": \"Apple Watch Series 3\", \"country\": \"Denmark\", \"region\": \"Europe & Central Asia\", \"income_group\": \"High income\", \"price_usd\": 259.37}, {\"Unnamed: 0\": 264, \"model\": \"Apple Watch Series 3\", \"country\": \"Hungary\", \"region\": \"Europe & Central Asia\", \"income_group\": \"High income\", \"price_usd\": 240.84}, {\"Unnamed: 0\": 282, \"model\": \"Apple Watch Series 3\", \"country\": \"India\", \"region\": \"South Asia\", \"income_group\": \"Lower middle income\", \"price_usd\": 281.2}, {\"Unnamed: 0\": 299, \"model\": \"Apple Watch Series 3\", \"country\": \"Mexico\", \"region\": \"Latin America & Caribbean\", \"income_group\": \"Upper middle income\", \"price_usd\": 244.4}, {\"Unnamed: 0\": 316, \"model\": \"Apple Watch Series 3\", \"country\": \"Norway\", \"region\": \"Europe & Central Asia\", \"income_group\": \"High income\", \"price_usd\": 260.0}, {\"Unnamed: 0\": 333, \"model\": \"Apple Watch Series 3\", \"country\": \"Philippines\", \"region\": \"East Asia & Pacific\", \"income_group\": \"Lower middle income\", \"price_usd\": 224.75}, {\"Unnamed: 0\": 350, \"model\": \"Apple Watch Series 3\", \"country\": \"Poland\", \"region\": \"Europe & Central Asia\", \"income_group\": \"High income\", \"price_usd\": 247.17}, {\"Unnamed: 0\": 367, \"model\": \"Apple Watch Series 3\", \"country\": \"Russia\", \"region\": \"Europe & Central Asia\", \"income_group\": \"Upper middle income\", \"price_usd\": 241.66}, {\"Unnamed: 0\": 384, \"model\": \"Apple Watch Series 3\", \"country\": \"Sweden\", \"region\": \"Europe & Central Asia\", \"income_group\": \"High income\", \"price_usd\": 253.11}, {\"Unnamed: 0\": 401, \"model\": \"Apple Watch Series 3\", \"country\": \"Thailand\", \"region\": \"East Asia & Pacific\", \"income_group\": \"Upper middle income\", \"price_usd\": 208.02}, {\"Unnamed: 0\": 418, \"model\": \"Apple Watch Series 3\", \"country\": \"Turkey\", \"region\": \"Europe & Central Asia\", \"income_group\": \"Upper middle income\", \"price_usd\": 222.09}, {\"Unnamed: 0\": 435, \"model\": \"Apple Watch Series 3\", \"country\": \"United States\", \"region\": \"North America\", \"income_group\": \"High income\", \"price_usd\": 199.0}]}}, {\"mode\": \"vega-lite\"});\n",
       "</script>"
      ],
      "text/plain": [
       "alt.Chart(...)"
      ]
     },
     "metadata": {},
     "output_type": "display_data"
    }
   ],
   "source": [
    "v = 6\n",
    "f = plot_data(data = list(modelsdict.values())[v])\n",
    "f.bar_product(x = 'price_usd', y = 'country', z = 'income_group', article = list(modelsdict.keys())[v], \n",
    "       xt = 'Price in USD', yt = 'Country', zt = 'Income Group')"
   ]
  },
  {
   "cell_type": "markdown",
   "id": "fa631950",
   "metadata": {},
   "source": [
    "* Apple Watch Series 3 and SE are cheaper in USA"
   ]
  },
  {
   "cell_type": "code",
   "execution_count": 23,
   "id": "76381506",
   "metadata": {},
   "outputs": [
    {
     "data": {
      "text/html": [
       "\n",
       "<div id=\"altair-viz-f702a85409744eb9929c05d69e642612\"></div>\n",
       "<script type=\"text/javascript\">\n",
       "  (function(spec, embedOpt){\n",
       "    let outputDiv = document.currentScript.previousElementSibling;\n",
       "    if (outputDiv.id !== \"altair-viz-f702a85409744eb9929c05d69e642612\") {\n",
       "      outputDiv = document.getElementById(\"altair-viz-f702a85409744eb9929c05d69e642612\");\n",
       "    }\n",
       "    const paths = {\n",
       "      \"vega\": \"https://cdn.jsdelivr.net/npm//vega@5?noext\",\n",
       "      \"vega-lib\": \"https://cdn.jsdelivr.net/npm//vega-lib?noext\",\n",
       "      \"vega-lite\": \"https://cdn.jsdelivr.net/npm//vega-lite@4.8.1?noext\",\n",
       "      \"vega-embed\": \"https://cdn.jsdelivr.net/npm//vega-embed@6?noext\",\n",
       "    };\n",
       "\n",
       "    function loadScript(lib) {\n",
       "      return new Promise(function(resolve, reject) {\n",
       "        var s = document.createElement('script');\n",
       "        s.src = paths[lib];\n",
       "        s.async = true;\n",
       "        s.onload = () => resolve(paths[lib]);\n",
       "        s.onerror = () => reject(`Error loading script: ${paths[lib]}`);\n",
       "        document.getElementsByTagName(\"head\")[0].appendChild(s);\n",
       "      });\n",
       "    }\n",
       "\n",
       "    function showError(err) {\n",
       "      outputDiv.innerHTML = `<div class=\"error\" style=\"color:red;\">${err}</div>`;\n",
       "      throw err;\n",
       "    }\n",
       "\n",
       "    function displayChart(vegaEmbed) {\n",
       "      vegaEmbed(outputDiv, spec, embedOpt)\n",
       "        .catch(err => showError(`Javascript Error: ${err.message}<br>This usually means there's a typo in your chart specification. See the javascript console for the full traceback.`));\n",
       "    }\n",
       "\n",
       "    if(typeof define === \"function\" && define.amd) {\n",
       "      requirejs.config({paths});\n",
       "      require([\"vega-embed\"], displayChart, err => showError(`Error loading script: ${err.message}`));\n",
       "    } else if (typeof vegaEmbed === \"function\") {\n",
       "      displayChart(vegaEmbed);\n",
       "    } else {\n",
       "      loadScript(\"vega\")\n",
       "        .then(() => loadScript(\"vega-lite\"))\n",
       "        .then(() => loadScript(\"vega-embed\"))\n",
       "        .catch(showError)\n",
       "        .then(() => displayChart(vegaEmbed));\n",
       "    }\n",
       "  })({\"config\": {\"view\": {\"continuousWidth\": 400, \"continuousHeight\": 300}, \"axis\": {\"labelFontSize\": 13, \"titleColor\": \"#364547\", \"titleFontSize\": 13}, \"axisX\": {\"labelAngle\": 0}, \"font\": \"Roboto\", \"legend\": {\"labelFontSize\": 13, \"titleColor\": \"#364547\", \"titleFontSize\": 14}, \"title\": {\"align\": \"center\", \"color\": \"#364547\", \"fontSize\": 22}}, \"data\": {\"name\": \"data-705893484a78b408f015e5ac5554f15f\"}, \"mark\": \"bar\", \"encoding\": {\"color\": {\"type\": \"nominal\", \"field\": \"income_group\", \"legend\": {\"title\": \"Income Group\"}}, \"opacity\": {\"condition\": {\"value\": 1.0, \"selection\": \"selector009\"}, \"value\": 0.1}, \"tooltip\": [{\"type\": \"nominal\", \"field\": \"income_group\"}, {\"type\": \"nominal\", \"field\": \"country\"}, {\"type\": \"quantitative\", \"field\": \"price_usd\"}], \"x\": {\"type\": \"quantitative\", \"field\": \"price_usd\", \"title\": \"Price in USD\"}, \"y\": {\"type\": \"nominal\", \"field\": \"country\", \"title\": \"Country\"}}, \"height\": 550, \"selection\": {\"selector009\": {\"type\": \"single\", \"fields\": [\"income_group\"], \"bind\": {\"input\": \"select\", \"options\": [\"High income\", \"Upper middle income\", \"Lower middle income\"], \"name\": \"income_group   \"}}}, \"title\": \"Sport Band prices in 26 countries\", \"transform\": [{\"filter\": \"(isValid(datum.income_group))\"}], \"width\": 550, \"$schema\": \"https://vega.github.io/schema/vega-lite/v4.8.1.json\", \"datasets\": {\"data-705893484a78b408f015e5ac5554f15f\": [{\"Unnamed: 0\": 10, \"model\": \"Sport Band\", \"country\": \"Australia\", \"region\": \"East Asia & Pacific\", \"income_group\": \"High income\", \"price_usd\": 49.93}, {\"Unnamed: 0\": 28, \"model\": \"Sport Band\", \"country\": \"Austria\", \"region\": \"Europe & Central Asia\", \"income_group\": \"High income\", \"price_usd\": 55.64}, {\"Unnamed: 0\": 45, \"model\": \"Sport Band\", \"country\": \"Germany\", \"region\": \"Europe & Central Asia\", \"income_group\": \"High income\", \"price_usd\": 55.64}, {\"Unnamed: 0\": 62, \"model\": \"Sport Band\", \"country\": \"Spain\", \"region\": \"Europe & Central Asia\", \"income_group\": \"High income\", \"price_usd\": 55.64}, {\"Unnamed: 0\": 79, \"model\": \"Sport Band\", \"country\": \"Finland\", \"region\": \"Europe & Central Asia\", \"income_group\": \"High income\", \"price_usd\": 55.64}, {\"Unnamed: 0\": 96, \"model\": \"Sport Band\", \"country\": \"France\", \"region\": \"Europe & Central Asia\", \"income_group\": \"High income\", \"price_usd\": 55.64}, {\"Unnamed: 0\": 113, \"model\": \"Sport Band\", \"country\": \"Ireland\", \"region\": \"Europe & Central Asia\", \"income_group\": \"High income\", \"price_usd\": 55.64}, {\"Unnamed: 0\": 130, \"model\": \"Sport Band\", \"country\": \"Italy\", \"region\": \"Europe & Central Asia\", \"income_group\": \"High income\", \"price_usd\": 55.64}, {\"Unnamed: 0\": 147, \"model\": \"Sport Band\", \"country\": \"Luxembourg\", \"region\": \"Europe & Central Asia\", \"income_group\": \"High income\", \"price_usd\": 53.81}, {\"Unnamed: 0\": 164, \"model\": \"Sport Band\", \"country\": \"Netherlands\", \"region\": \"Europe & Central Asia\", \"income_group\": \"High income\", \"price_usd\": 55.64}, {\"Unnamed: 0\": 181, \"model\": \"Sport Band\", \"country\": \"Portugal\", \"region\": \"Europe & Central Asia\", \"income_group\": \"High income\", \"price_usd\": 55.64}, {\"Unnamed: 0\": 197, \"model\": \"Sport Band\", \"country\": \"Brazil\", \"region\": \"Latin America & Caribbean\", \"income_group\": \"Upper middle income\", \"price_usd\": 98.11}, {\"Unnamed: 0\": 214, \"model\": \"Sport Band\", \"country\": \"Canada\", \"region\": \"North America\", \"income_group\": \"High income\", \"price_usd\": 46.46}, {\"Unnamed: 0\": 231, \"model\": \"Sport Band\", \"country\": \"Czech Republic\", \"region\": \"Europe & Central Asia\", \"income_group\": \"High income\", \"price_usd\": 59.02}, {\"Unnamed: 0\": 248, \"model\": \"Sport Band\", \"country\": \"Denmark\", \"region\": \"Europe & Central Asia\", \"income_group\": \"High income\", \"price_usd\": 56.33}, {\"Unnamed: 0\": 265, \"model\": \"Sport Band\", \"country\": \"Hungary\", \"region\": \"Europe & Central Asia\", \"income_group\": \"High income\", \"price_usd\": 55.55}, {\"Unnamed: 0\": 283, \"model\": \"Sport Band\", \"country\": \"India\", \"region\": \"South Asia\", \"income_group\": \"Lower middle income\", \"price_usd\": 52.47}, {\"Unnamed: 0\": 300, \"model\": \"Sport Band\", \"country\": \"Mexico\", \"region\": \"Latin America & Caribbean\", \"income_group\": \"Upper middle income\", \"price_usd\": 58.62}, {\"Unnamed: 0\": 317, \"model\": \"Sport Band\", \"country\": \"Norway\", \"region\": \"Europe & Central Asia\", \"income_group\": \"High income\", \"price_usd\": 56.65}, {\"Unnamed: 0\": 334, \"model\": \"Sport Band\", \"country\": \"Philippines\", \"region\": \"East Asia & Pacific\", \"income_group\": \"Lower middle income\", \"price_usd\": 54.57}, {\"Unnamed: 0\": 351, \"model\": \"Sport Band\", \"country\": \"Poland\", \"region\": \"Europe & Central Asia\", \"income_group\": \"High income\", \"price_usd\": 49.24}, {\"Unnamed: 0\": 368, \"model\": \"Sport Band\", \"country\": \"Russia\", \"region\": \"Europe & Central Asia\", \"income_group\": \"Upper middle income\", \"price_usd\": 52.39}, {\"Unnamed: 0\": 385, \"model\": \"Sport Band\", \"country\": \"Sweden\", \"region\": \"Europe & Central Asia\", \"income_group\": \"High income\", \"price_usd\": 54.59}, {\"Unnamed: 0\": 402, \"model\": \"Sport Band\", \"country\": \"Thailand\", \"region\": \"East Asia & Pacific\", \"income_group\": \"Upper middle income\", \"price_usd\": 48.24}, {\"Unnamed: 0\": 419, \"model\": \"Sport Band\", \"country\": \"Turkey\", \"region\": \"Europe & Central Asia\", \"income_group\": \"Upper middle income\", \"price_usd\": 37.58}, {\"Unnamed: 0\": 436, \"model\": \"Sport Band\", \"country\": \"United States\", \"region\": \"North America\", \"income_group\": \"High income\", \"price_usd\": 49.0}]}}, {\"mode\": \"vega-lite\"});\n",
       "</script>"
      ],
      "text/plain": [
       "alt.Chart(...)"
      ]
     },
     "metadata": {},
     "output_type": "display_data"
    }
   ],
   "source": [
    "v = 7\n",
    "f = plot_data(data = list(modelsdict.values())[v])\n",
    "f.bar_product(x = 'price_usd', y = 'country', z = 'income_group', article = list(modelsdict.keys())[v], \n",
    "       xt = 'Price in USD', yt = 'Country', zt = 'Income Group')"
   ]
  },
  {
   "cell_type": "markdown",
   "id": "7d6f2d30",
   "metadata": {},
   "source": [
    "* In Turkey, the Sport Band costs $10 less than in the US."
   ]
  },
  {
   "cell_type": "code",
   "execution_count": 24,
   "id": "2641276f",
   "metadata": {},
   "outputs": [
    {
     "data": {
      "text/html": [
       "\n",
       "<div id=\"altair-viz-3b4c3b6000f14dab9749a3e1e7488192\"></div>\n",
       "<script type=\"text/javascript\">\n",
       "  (function(spec, embedOpt){\n",
       "    let outputDiv = document.currentScript.previousElementSibling;\n",
       "    if (outputDiv.id !== \"altair-viz-3b4c3b6000f14dab9749a3e1e7488192\") {\n",
       "      outputDiv = document.getElementById(\"altair-viz-3b4c3b6000f14dab9749a3e1e7488192\");\n",
       "    }\n",
       "    const paths = {\n",
       "      \"vega\": \"https://cdn.jsdelivr.net/npm//vega@5?noext\",\n",
       "      \"vega-lib\": \"https://cdn.jsdelivr.net/npm//vega-lib?noext\",\n",
       "      \"vega-lite\": \"https://cdn.jsdelivr.net/npm//vega-lite@4.8.1?noext\",\n",
       "      \"vega-embed\": \"https://cdn.jsdelivr.net/npm//vega-embed@6?noext\",\n",
       "    };\n",
       "\n",
       "    function loadScript(lib) {\n",
       "      return new Promise(function(resolve, reject) {\n",
       "        var s = document.createElement('script');\n",
       "        s.src = paths[lib];\n",
       "        s.async = true;\n",
       "        s.onload = () => resolve(paths[lib]);\n",
       "        s.onerror = () => reject(`Error loading script: ${paths[lib]}`);\n",
       "        document.getElementsByTagName(\"head\")[0].appendChild(s);\n",
       "      });\n",
       "    }\n",
       "\n",
       "    function showError(err) {\n",
       "      outputDiv.innerHTML = `<div class=\"error\" style=\"color:red;\">${err}</div>`;\n",
       "      throw err;\n",
       "    }\n",
       "\n",
       "    function displayChart(vegaEmbed) {\n",
       "      vegaEmbed(outputDiv, spec, embedOpt)\n",
       "        .catch(err => showError(`Javascript Error: ${err.message}<br>This usually means there's a typo in your chart specification. See the javascript console for the full traceback.`));\n",
       "    }\n",
       "\n",
       "    if(typeof define === \"function\" && define.amd) {\n",
       "      requirejs.config({paths});\n",
       "      require([\"vega-embed\"], displayChart, err => showError(`Error loading script: ${err.message}`));\n",
       "    } else if (typeof vegaEmbed === \"function\") {\n",
       "      displayChart(vegaEmbed);\n",
       "    } else {\n",
       "      loadScript(\"vega\")\n",
       "        .then(() => loadScript(\"vega-lite\"))\n",
       "        .then(() => loadScript(\"vega-embed\"))\n",
       "        .catch(showError)\n",
       "        .then(() => displayChart(vegaEmbed));\n",
       "    }\n",
       "  })({\"config\": {\"view\": {\"continuousWidth\": 400, \"continuousHeight\": 300}, \"axis\": {\"labelFontSize\": 13, \"titleColor\": \"#364547\", \"titleFontSize\": 13}, \"axisX\": {\"labelAngle\": 0}, \"font\": \"Roboto\", \"legend\": {\"labelFontSize\": 13, \"titleColor\": \"#364547\", \"titleFontSize\": 14}, \"title\": {\"align\": \"center\", \"color\": \"#364547\", \"fontSize\": 22}}, \"data\": {\"name\": \"data-86b798f45b9d89e1d59a0c83a7ea31f0\"}, \"mark\": \"bar\", \"encoding\": {\"color\": {\"type\": \"nominal\", \"field\": \"income_group\", \"legend\": {\"title\": \"Income Group\"}}, \"opacity\": {\"condition\": {\"value\": 1.0, \"selection\": \"selector010\"}, \"value\": 0.1}, \"tooltip\": [{\"type\": \"nominal\", \"field\": \"income_group\"}, {\"type\": \"nominal\", \"field\": \"country\"}, {\"type\": \"quantitative\", \"field\": \"price_usd\"}], \"x\": {\"type\": \"quantitative\", \"field\": \"price_usd\", \"title\": \"Price in USD\"}, \"y\": {\"type\": \"nominal\", \"field\": \"country\", \"title\": \"Country\"}}, \"height\": 550, \"selection\": {\"selector010\": {\"type\": \"single\", \"fields\": [\"income_group\"], \"bind\": {\"input\": \"select\", \"options\": [\"High income\", \"Upper middle income\", \"Lower middle income\"], \"name\": \"income_group   \"}}}, \"title\": \"iPad prices in 26 countries\", \"transform\": [{\"filter\": \"(isValid(datum.income_group))\"}], \"width\": 550, \"$schema\": \"https://vega.github.io/schema/vega-lite/v4.8.1.json\", \"datasets\": {\"data-86b798f45b9d89e1d59a0c83a7ea31f0\": [{\"Unnamed: 0\": 11, \"model\": \"iPad\", \"country\": \"Australia\", \"region\": \"East Asia & Pacific\", \"income_group\": \"High income\", \"price_usd\": 361.11}, {\"Unnamed: 0\": 29, \"model\": \"iPad\", \"country\": \"Austria\", \"region\": \"Europe & Central Asia\", \"income_group\": \"High income\", \"price_usd\": 430.35}, {\"Unnamed: 0\": 46, \"model\": \"iPad\", \"country\": \"Germany\", \"region\": \"Europe & Central Asia\", \"income_group\": \"High income\", \"price_usd\": 430.35}, {\"Unnamed: 0\": 63, \"model\": \"iPad\", \"country\": \"Spain\", \"region\": \"Europe & Central Asia\", \"income_group\": \"High income\", \"price_usd\": 430.35}, {\"Unnamed: 0\": 80, \"model\": \"iPad\", \"country\": \"Finland\", \"region\": \"Europe & Central Asia\", \"income_group\": \"High income\", \"price_usd\": 453.06}, {\"Unnamed: 0\": 97, \"model\": \"iPad\", \"country\": \"France\", \"region\": \"Europe & Central Asia\", \"income_group\": \"High income\", \"price_usd\": 441.71}, {\"Unnamed: 0\": 114, \"model\": \"iPad\", \"country\": \"Ireland\", \"region\": \"Europe & Central Asia\", \"income_group\": \"High income\", \"price_usd\": 453.06}, {\"Unnamed: 0\": 131, \"model\": \"iPad\", \"country\": \"Italy\", \"region\": \"Europe & Central Asia\", \"income_group\": \"High income\", \"price_usd\": 441.71}, {\"Unnamed: 0\": 148, \"model\": \"iPad\", \"country\": \"Luxembourg\", \"region\": \"Europe & Central Asia\", \"income_group\": \"High income\", \"price_usd\": 427.11}, {\"Unnamed: 0\": 165, \"model\": \"iPad\", \"country\": \"Netherlands\", \"region\": \"Europe & Central Asia\", \"income_group\": \"High income\", \"price_usd\": 441.71}, {\"Unnamed: 0\": 182, \"model\": \"iPad\", \"country\": \"Portugal\", \"region\": \"Europe & Central Asia\", \"income_group\": \"High income\", \"price_usd\": 453.06}, {\"Unnamed: 0\": 198, \"model\": \"iPad\", \"country\": \"Brazil\", \"region\": \"Latin America & Caribbean\", \"income_group\": \"Upper middle income\", \"price_usd\": 714.66}, {\"Unnamed: 0\": 215, \"model\": \"iPad\", \"country\": \"Canada\", \"region\": \"North America\", \"income_group\": \"High income\", \"price_usd\": 337.82}, {\"Unnamed: 0\": 232, \"model\": \"iPad\", \"country\": \"Czech Republic\", \"region\": \"Europe & Central Asia\", \"income_group\": \"High income\", \"price_usd\": 457.07}, {\"Unnamed: 0\": 249, \"model\": \"iPad\", \"country\": \"Denmark\", \"region\": \"Europe & Central Asia\", \"income_group\": \"High income\", \"price_usd\": 435.84}, {\"Unnamed: 0\": 266, \"model\": \"iPad\", \"country\": \"Hungary\", \"region\": \"Europe & Central Asia\", \"income_group\": \"High income\", \"price_usd\": 416.85}, {\"Unnamed: 0\": 284, \"model\": \"iPad\", \"country\": \"India\", \"region\": \"South Asia\", \"income_group\": \"Lower middle income\", \"price_usd\": 415.75}, {\"Unnamed: 0\": 301, \"model\": \"iPad\", \"country\": \"Mexico\", \"region\": \"Latin America & Caribbean\", \"income_group\": \"Upper middle income\", \"price_usd\": 439.96}, {\"Unnamed: 0\": 318, \"model\": \"iPad\", \"country\": \"Norway\", \"region\": \"Europe & Central Asia\", \"income_group\": \"High income\", \"price_usd\": 453.01}, {\"Unnamed: 0\": 335, \"model\": \"iPad\", \"country\": \"Philippines\", \"region\": \"East Asia & Pacific\", \"income_group\": \"Lower middle income\", \"price_usd\": 391.01}, {\"Unnamed: 0\": 352, \"model\": \"iPad\", \"country\": \"Poland\", \"region\": \"Europe & Central Asia\", \"income_group\": \"High income\", \"price_usd\": 420.35}, {\"Unnamed: 0\": 369, \"model\": \"iPad\", \"country\": \"Russia\", \"region\": \"Europe & Central Asia\", \"income_group\": \"Upper middle income\", \"price_usd\": 416.29}, {\"Unnamed: 0\": 386, \"model\": \"iPad\", \"country\": \"Sweden\", \"region\": \"Europe & Central Asia\", \"income_group\": \"High income\", \"price_usd\": 440.6}, {\"Unnamed: 0\": 403, \"model\": \"iPad\", \"country\": \"Thailand\", \"region\": \"East Asia & Pacific\", \"income_group\": \"Upper middle income\", \"price_usd\": 343.68}, {\"Unnamed: 0\": 420, \"model\": \"iPad\", \"country\": \"Turkey\", \"region\": \"Europe & Central Asia\", \"income_group\": \"Upper middle income\", \"price_usd\": 391.54}, {\"Unnamed: 0\": 437, \"model\": \"iPad\", \"country\": \"United States\", \"region\": \"North America\", \"income_group\": \"High income\", \"price_usd\": 329.0}]}}, {\"mode\": \"vega-lite\"});\n",
       "</script>"
      ],
      "text/plain": [
       "alt.Chart(...)"
      ]
     },
     "metadata": {},
     "output_type": "display_data"
    }
   ],
   "source": [
    "v = 8\n",
    "f = plot_data(data = list(modelsdict.values())[v])\n",
    "f.bar_product(x = 'price_usd', y = 'country', z = 'income_group', article = list(modelsdict.keys())[v], \n",
    "       xt = 'Price in USD', yt = 'Country', zt = 'Income Group')"
   ]
  },
  {
   "cell_type": "code",
   "execution_count": 25,
   "id": "e95d4a63",
   "metadata": {},
   "outputs": [
    {
     "data": {
      "text/html": [
       "\n",
       "<div id=\"altair-viz-0cfc435b6f254fdab9ecfea30961e51e\"></div>\n",
       "<script type=\"text/javascript\">\n",
       "  (function(spec, embedOpt){\n",
       "    let outputDiv = document.currentScript.previousElementSibling;\n",
       "    if (outputDiv.id !== \"altair-viz-0cfc435b6f254fdab9ecfea30961e51e\") {\n",
       "      outputDiv = document.getElementById(\"altair-viz-0cfc435b6f254fdab9ecfea30961e51e\");\n",
       "    }\n",
       "    const paths = {\n",
       "      \"vega\": \"https://cdn.jsdelivr.net/npm//vega@5?noext\",\n",
       "      \"vega-lib\": \"https://cdn.jsdelivr.net/npm//vega-lib?noext\",\n",
       "      \"vega-lite\": \"https://cdn.jsdelivr.net/npm//vega-lite@4.8.1?noext\",\n",
       "      \"vega-embed\": \"https://cdn.jsdelivr.net/npm//vega-embed@6?noext\",\n",
       "    };\n",
       "\n",
       "    function loadScript(lib) {\n",
       "      return new Promise(function(resolve, reject) {\n",
       "        var s = document.createElement('script');\n",
       "        s.src = paths[lib];\n",
       "        s.async = true;\n",
       "        s.onload = () => resolve(paths[lib]);\n",
       "        s.onerror = () => reject(`Error loading script: ${paths[lib]}`);\n",
       "        document.getElementsByTagName(\"head\")[0].appendChild(s);\n",
       "      });\n",
       "    }\n",
       "\n",
       "    function showError(err) {\n",
       "      outputDiv.innerHTML = `<div class=\"error\" style=\"color:red;\">${err}</div>`;\n",
       "      throw err;\n",
       "    }\n",
       "\n",
       "    function displayChart(vegaEmbed) {\n",
       "      vegaEmbed(outputDiv, spec, embedOpt)\n",
       "        .catch(err => showError(`Javascript Error: ${err.message}<br>This usually means there's a typo in your chart specification. See the javascript console for the full traceback.`));\n",
       "    }\n",
       "\n",
       "    if(typeof define === \"function\" && define.amd) {\n",
       "      requirejs.config({paths});\n",
       "      require([\"vega-embed\"], displayChart, err => showError(`Error loading script: ${err.message}`));\n",
       "    } else if (typeof vegaEmbed === \"function\") {\n",
       "      displayChart(vegaEmbed);\n",
       "    } else {\n",
       "      loadScript(\"vega\")\n",
       "        .then(() => loadScript(\"vega-lite\"))\n",
       "        .then(() => loadScript(\"vega-embed\"))\n",
       "        .catch(showError)\n",
       "        .then(() => displayChart(vegaEmbed));\n",
       "    }\n",
       "  })({\"config\": {\"view\": {\"continuousWidth\": 400, \"continuousHeight\": 300}, \"axis\": {\"labelFontSize\": 13, \"titleColor\": \"#364547\", \"titleFontSize\": 13}, \"axisX\": {\"labelAngle\": 0}, \"font\": \"Roboto\", \"legend\": {\"labelFontSize\": 13, \"titleColor\": \"#364547\", \"titleFontSize\": 14}, \"title\": {\"align\": \"center\", \"color\": \"#364547\", \"fontSize\": 22}}, \"data\": {\"name\": \"data-c8ea3ff191fbc40409abdb5644642563\"}, \"mark\": \"bar\", \"encoding\": {\"color\": {\"type\": \"nominal\", \"field\": \"income_group\", \"legend\": {\"title\": \"Income Group\"}}, \"opacity\": {\"condition\": {\"value\": 1.0, \"selection\": \"selector011\"}, \"value\": 0.1}, \"tooltip\": [{\"type\": \"nominal\", \"field\": \"income_group\"}, {\"type\": \"nominal\", \"field\": \"country\"}, {\"type\": \"quantitative\", \"field\": \"price_usd\"}], \"x\": {\"type\": \"quantitative\", \"field\": \"price_usd\", \"title\": \"Price in USD\"}, \"y\": {\"type\": \"nominal\", \"field\": \"country\", \"title\": \"Country\"}}, \"height\": 550, \"selection\": {\"selector011\": {\"type\": \"single\", \"fields\": [\"income_group\"], \"bind\": {\"input\": \"select\", \"options\": [\"High income\", \"Upper middle income\", \"Lower middle income\"], \"name\": \"income_group   \"}}}, \"title\": \"iPad Pro prices in 26 countries\", \"transform\": [{\"filter\": \"(isValid(datum.income_group))\"}], \"width\": 550, \"$schema\": \"https://vega.github.io/schema/vega-lite/v4.8.1.json\", \"datasets\": {\"data-c8ea3ff191fbc40409abdb5644642563\": [{\"Unnamed: 0\": 12, \"model\": \"iPad Pro\", \"country\": \"Australia\", \"region\": \"East Asia & Pacific\", \"income_group\": \"High income\", \"price_usd\": 867.67}, {\"Unnamed: 0\": 30, \"model\": \"iPad Pro\", \"country\": \"Austria\", \"region\": \"Europe & Central Asia\", \"income_group\": \"High income\", \"price_usd\": 998.1}, {\"Unnamed: 0\": 47, \"model\": \"iPad Pro\", \"country\": \"Germany\", \"region\": \"Europe & Central Asia\", \"income_group\": \"High income\", \"price_usd\": 998.1}, {\"Unnamed: 0\": 64, \"model\": \"iPad Pro\", \"country\": \"Spain\", \"region\": \"Europe & Central Asia\", \"income_group\": \"High income\", \"price_usd\": 998.1}, {\"Unnamed: 0\": 81, \"model\": \"iPad Pro\", \"country\": \"Finland\", \"region\": \"Europe & Central Asia\", \"income_group\": \"High income\", \"price_usd\": 1032.17}, {\"Unnamed: 0\": 98, \"model\": \"iPad Pro\", \"country\": \"France\", \"region\": \"Europe & Central Asia\", \"income_group\": \"High income\", \"price_usd\": 1020.81}, {\"Unnamed: 0\": 115, \"model\": \"iPad Pro\", \"country\": \"Ireland\", \"region\": \"Europe & Central Asia\", \"income_group\": \"High income\", \"price_usd\": 1032.17}, {\"Unnamed: 0\": 132, \"model\": \"iPad Pro\", \"country\": \"Italy\", \"region\": \"Europe & Central Asia\", \"income_group\": \"High income\", \"price_usd\": 1020.81}, {\"Unnamed: 0\": 149, \"model\": \"iPad Pro\", \"country\": \"Luxembourg\", \"region\": \"Europe & Central Asia\", \"income_group\": \"High income\", \"price_usd\": 987.08}, {\"Unnamed: 0\": 166, \"model\": \"iPad Pro\", \"country\": \"Netherlands\", \"region\": \"Europe & Central Asia\", \"income_group\": \"High income\", \"price_usd\": 1020.81}, {\"Unnamed: 0\": 183, \"model\": \"iPad Pro\", \"country\": \"Portugal\", \"region\": \"Europe & Central Asia\", \"income_group\": \"High income\", \"price_usd\": 1032.17}, {\"Unnamed: 0\": 199, \"model\": \"iPad Pro\", \"country\": \"Brazil\", \"region\": \"Latin America & Caribbean\", \"income_group\": \"Upper middle income\", \"price_usd\": 1929.88}, {\"Unnamed: 0\": 216, \"model\": \"iPad Pro\", \"country\": \"Canada\", \"region\": \"North America\", \"income_group\": \"High income\", \"price_usd\": 786.66}, {\"Unnamed: 0\": 233, \"model\": \"iPad Pro\", \"country\": \"Czech Republic\", \"region\": \"Europe & Central Asia\", \"income_group\": \"High income\", \"price_usd\": 1051.86}, {\"Unnamed: 0\": 250, \"model\": \"iPad Pro\", \"country\": \"Denmark\", \"region\": \"Europe & Central Asia\", \"income_group\": \"High income\", \"price_usd\": 1031.2}, {\"Unnamed: 0\": 267, \"model\": \"iPad Pro\", \"country\": \"Hungary\", \"region\": \"Europe & Central Asia\", \"income_group\": \"High income\", \"price_usd\": 1003.58}, {\"Unnamed: 0\": 285, \"model\": \"iPad Pro\", \"country\": \"India\", \"region\": \"South Asia\", \"income_group\": \"Lower middle income\", \"price_usd\": 967.39}, {\"Unnamed: 0\": 302, \"model\": \"iPad Pro\", \"country\": \"Mexico\", \"region\": \"Latin America & Caribbean\", \"income_group\": \"Upper middle income\", \"price_usd\": 1026.63}, {\"Unnamed: 0\": 319, \"model\": \"iPad Pro\", \"country\": \"Norway\", \"region\": \"Europe & Central Asia\", \"income_group\": \"High income\", \"price_usd\": 1020.68}, {\"Unnamed: 0\": 336, \"model\": \"iPad Pro\", \"country\": \"Philippines\", \"region\": \"East Asia & Pacific\", \"income_group\": \"Lower middle income\", \"price_usd\": 899.58}, {\"Unnamed: 0\": 353, \"model\": \"iPad Pro\", \"country\": \"Poland\", \"region\": \"Europe & Central Asia\", \"income_group\": \"High income\", \"price_usd\": 964.66}, {\"Unnamed: 0\": 370, \"model\": \"iPad Pro\", \"country\": \"Russia\", \"region\": \"Europe & Central Asia\", \"income_group\": \"Upper middle income\", \"price_usd\": 1047.63}, {\"Unnamed: 0\": 387, \"model\": \"iPad Pro\", \"country\": \"Sweden\", \"region\": \"Europe & Central Asia\", \"income_group\": \"High income\", \"price_usd\": 1047.18}, {\"Unnamed: 0\": 404, \"model\": \"iPad Pro\", \"country\": \"Thailand\", \"region\": \"East Asia & Pacific\", \"income_group\": \"Upper middle income\", \"price_usd\": 841.11}, {\"Unnamed: 0\": 421, \"model\": \"iPad Pro\", \"country\": \"Turkey\", \"region\": \"Europe & Central Asia\", \"income_group\": \"Upper middle income\", \"price_usd\": 903.64}, {\"Unnamed: 0\": 438, \"model\": \"iPad Pro\", \"country\": \"United States\", \"region\": \"North America\", \"income_group\": \"High income\", \"price_usd\": 799.0}]}}, {\"mode\": \"vega-lite\"});\n",
       "</script>"
      ],
      "text/plain": [
       "alt.Chart(...)"
      ]
     },
     "metadata": {},
     "output_type": "display_data"
    }
   ],
   "source": [
    "v = 9\n",
    "f = plot_data(data = list(modelsdict.values())[v])\n",
    "f.bar_product(x = 'price_usd', y = 'country', z = 'income_group', article = list(modelsdict.keys())[v], \n",
    "       xt = 'Price in USD', yt = 'Country', zt = 'Income Group')"
   ]
  },
  {
   "cell_type": "markdown",
   "id": "6518b135",
   "metadata": {},
   "source": [
    "- For the iPad and the rest of the products, prices in Europe are close to each other. Prices in Mexico are similar to the European ones."
   ]
  },
  {
   "cell_type": "code",
   "execution_count": 26,
   "id": "db6e0466",
   "metadata": {},
   "outputs": [
    {
     "data": {
      "text/html": [
       "\n",
       "<div id=\"altair-viz-cfded514133f43ff8c8b6353b14bd9ab\"></div>\n",
       "<script type=\"text/javascript\">\n",
       "  (function(spec, embedOpt){\n",
       "    let outputDiv = document.currentScript.previousElementSibling;\n",
       "    if (outputDiv.id !== \"altair-viz-cfded514133f43ff8c8b6353b14bd9ab\") {\n",
       "      outputDiv = document.getElementById(\"altair-viz-cfded514133f43ff8c8b6353b14bd9ab\");\n",
       "    }\n",
       "    const paths = {\n",
       "      \"vega\": \"https://cdn.jsdelivr.net/npm//vega@5?noext\",\n",
       "      \"vega-lib\": \"https://cdn.jsdelivr.net/npm//vega-lib?noext\",\n",
       "      \"vega-lite\": \"https://cdn.jsdelivr.net/npm//vega-lite@4.8.1?noext\",\n",
       "      \"vega-embed\": \"https://cdn.jsdelivr.net/npm//vega-embed@6?noext\",\n",
       "    };\n",
       "\n",
       "    function loadScript(lib) {\n",
       "      return new Promise(function(resolve, reject) {\n",
       "        var s = document.createElement('script');\n",
       "        s.src = paths[lib];\n",
       "        s.async = true;\n",
       "        s.onload = () => resolve(paths[lib]);\n",
       "        s.onerror = () => reject(`Error loading script: ${paths[lib]}`);\n",
       "        document.getElementsByTagName(\"head\")[0].appendChild(s);\n",
       "      });\n",
       "    }\n",
       "\n",
       "    function showError(err) {\n",
       "      outputDiv.innerHTML = `<div class=\"error\" style=\"color:red;\">${err}</div>`;\n",
       "      throw err;\n",
       "    }\n",
       "\n",
       "    function displayChart(vegaEmbed) {\n",
       "      vegaEmbed(outputDiv, spec, embedOpt)\n",
       "        .catch(err => showError(`Javascript Error: ${err.message}<br>This usually means there's a typo in your chart specification. See the javascript console for the full traceback.`));\n",
       "    }\n",
       "\n",
       "    if(typeof define === \"function\" && define.amd) {\n",
       "      requirejs.config({paths});\n",
       "      require([\"vega-embed\"], displayChart, err => showError(`Error loading script: ${err.message}`));\n",
       "    } else if (typeof vegaEmbed === \"function\") {\n",
       "      displayChart(vegaEmbed);\n",
       "    } else {\n",
       "      loadScript(\"vega\")\n",
       "        .then(() => loadScript(\"vega-lite\"))\n",
       "        .then(() => loadScript(\"vega-embed\"))\n",
       "        .catch(showError)\n",
       "        .then(() => displayChart(vegaEmbed));\n",
       "    }\n",
       "  })({\"config\": {\"view\": {\"continuousWidth\": 400, \"continuousHeight\": 300}, \"axis\": {\"labelFontSize\": 13, \"titleColor\": \"#364547\", \"titleFontSize\": 13}, \"axisX\": {\"labelAngle\": 0}, \"font\": \"Roboto\", \"legend\": {\"labelFontSize\": 13, \"titleColor\": \"#364547\", \"titleFontSize\": 14}, \"title\": {\"align\": \"center\", \"color\": \"#364547\", \"fontSize\": 22}}, \"data\": {\"name\": \"data-ce31fa80158ec3c05240e1e25c12b825\"}, \"mark\": \"bar\", \"encoding\": {\"color\": {\"type\": \"nominal\", \"field\": \"income_group\", \"legend\": {\"title\": \"Income Group\"}}, \"opacity\": {\"condition\": {\"value\": 1.0, \"selection\": \"selector012\"}, \"value\": 0.1}, \"tooltip\": [{\"type\": \"nominal\", \"field\": \"income_group\"}, {\"type\": \"nominal\", \"field\": \"country\"}, {\"type\": \"quantitative\", \"field\": \"price_usd\"}], \"x\": {\"type\": \"quantitative\", \"field\": \"price_usd\", \"title\": \"Price in USD\"}, \"y\": {\"type\": \"nominal\", \"field\": \"country\", \"title\": \"Country\"}}, \"height\": 550, \"selection\": {\"selector012\": {\"type\": \"single\", \"fields\": [\"income_group\"], \"bind\": {\"input\": \"select\", \"options\": [\"High income\", \"Upper middle income\", \"Lower middle income\"], \"name\": \"income_group   \"}}}, \"title\": \"Apple Pencil (2nd generation) prices in 26 countries\", \"transform\": [{\"filter\": \"(isValid(datum.income_group))\"}], \"width\": 550, \"$schema\": \"https://vega.github.io/schema/vega-lite/v4.8.1.json\", \"datasets\": {\"data-ce31fa80158ec3c05240e1e25c12b825\": [{\"Unnamed: 0\": 13, \"model\": \"Apple Pencil (2nd generation)\", \"country\": \"Australia\", \"region\": \"East Asia & Pacific\", \"income_group\": \"High income\", \"price_usd\": 144.01}, {\"Unnamed: 0\": 31, \"model\": \"Apple Pencil (2nd generation)\", \"country\": \"Austria\", \"region\": \"Europe & Central Asia\", \"income_group\": \"High income\", \"price_usd\": 153.29}, {\"Unnamed: 0\": 48, \"model\": \"Apple Pencil (2nd generation)\", \"country\": \"Germany\", \"region\": \"Europe & Central Asia\", \"income_group\": \"High income\", \"price_usd\": 153.29}, {\"Unnamed: 0\": 65, \"model\": \"Apple Pencil (2nd generation)\", \"country\": \"Spain\", \"region\": \"Europe & Central Asia\", \"income_group\": \"High income\", \"price_usd\": 153.29}, {\"Unnamed: 0\": 82, \"model\": \"Apple Pencil (2nd generation)\", \"country\": \"Finland\", \"region\": \"Europe & Central Asia\", \"income_group\": \"High income\", \"price_usd\": 153.29}, {\"Unnamed: 0\": 99, \"model\": \"Apple Pencil (2nd generation)\", \"country\": \"France\", \"region\": \"Europe & Central Asia\", \"income_group\": \"High income\", \"price_usd\": 153.29}, {\"Unnamed: 0\": 116, \"model\": \"Apple Pencil (2nd generation)\", \"country\": \"Ireland\", \"region\": \"Europe & Central Asia\", \"income_group\": \"High income\", \"price_usd\": 153.29}, {\"Unnamed: 0\": 133, \"model\": \"Apple Pencil (2nd generation)\", \"country\": \"Italy\", \"region\": \"Europe & Central Asia\", \"income_group\": \"High income\", \"price_usd\": 153.29}, {\"Unnamed: 0\": 150, \"model\": \"Apple Pencil (2nd generation)\", \"country\": \"Luxembourg\", \"region\": \"Europe & Central Asia\", \"income_group\": \"High income\", \"price_usd\": 148.23}, {\"Unnamed: 0\": 167, \"model\": \"Apple Pencil (2nd generation)\", \"country\": \"Netherlands\", \"region\": \"Europe & Central Asia\", \"income_group\": \"High income\", \"price_usd\": 153.29}, {\"Unnamed: 0\": 184, \"model\": \"Apple Pencil (2nd generation)\", \"country\": \"Portugal\", \"region\": \"Europe & Central Asia\", \"income_group\": \"High income\", \"price_usd\": 153.29}, {\"Unnamed: 0\": 200, \"model\": \"Apple Pencil (2nd generation)\", \"country\": \"Brazil\", \"region\": \"Latin America & Caribbean\", \"income_group\": \"Upper middle income\", \"price_usd\": 285.76}, {\"Unnamed: 0\": 217, \"model\": \"Apple Pencil (2nd generation)\", \"country\": \"Canada\", \"region\": \"North America\", \"income_group\": \"High income\", \"price_usd\": 133.08}, {\"Unnamed: 0\": 234, \"model\": \"Apple Pencil (2nd generation)\", \"country\": \"Czech Republic\", \"region\": \"Europe & Central Asia\", \"income_group\": \"High income\", \"price_usd\": 159.68}, {\"Unnamed: 0\": 251, \"model\": \"Apple Pencil (2nd generation)\", \"country\": \"Denmark\", \"region\": \"Europe & Central Asia\", \"income_group\": \"High income\", \"price_usd\": 167.77}, {\"Unnamed: 0\": 268, \"model\": \"Apple Pencil (2nd generation)\", \"country\": \"Hungary\", \"region\": \"Europe & Central Asia\", \"income_group\": \"High income\", \"price_usd\": 154.37}, {\"Unnamed: 0\": 286, \"model\": \"Apple Pencil (2nd generation)\", \"country\": \"India\", \"region\": \"South Asia\", \"income_group\": \"Lower middle income\", \"price_usd\": 146.66}, {\"Unnamed: 0\": 303, \"model\": \"Apple Pencil (2nd generation)\", \"country\": \"Mexico\", \"region\": \"Latin America & Caribbean\", \"income_group\": \"Upper middle income\", \"price_usd\": 161.29}, {\"Unnamed: 0\": 320, \"model\": \"Apple Pencil (2nd generation)\", \"country\": \"Norway\", \"region\": \"Europe & Central Asia\", \"income_group\": \"High income\", \"price_usd\": 170.19}, {\"Unnamed: 0\": 337, \"model\": \"Apple Pencil (2nd generation)\", \"country\": \"Philippines\", \"region\": \"East Asia & Pacific\", \"income_group\": \"Lower middle income\", \"price_usd\": 156.29}, {\"Unnamed: 0\": 354, \"model\": \"Apple Pencil (2nd generation)\", \"country\": \"Poland\", \"region\": \"Europe & Central Asia\", \"income_group\": \"High income\", \"price_usd\": 153.15}, {\"Unnamed: 0\": 371, \"model\": \"Apple Pencil (2nd generation)\", \"country\": \"Russia\", \"region\": \"Europe & Central Asia\", \"income_group\": \"Upper middle income\", \"price_usd\": 154.34}, {\"Unnamed: 0\": 388, \"model\": \"Apple Pencil (2nd generation)\", \"country\": \"Sweden\", \"region\": \"Europe & Central Asia\", \"income_group\": \"High income\", \"price_usd\": 164.88}, {\"Unnamed: 0\": 405, \"model\": \"Apple Pencil (2nd generation)\", \"country\": \"Thailand\", \"region\": \"East Asia & Pacific\", \"income_group\": \"Upper middle income\", \"price_usd\": 135.36}, {\"Unnamed: 0\": 422, \"model\": \"Apple Pencil (2nd generation)\", \"country\": \"Turkey\", \"region\": \"Europe & Central Asia\", \"income_group\": \"Upper middle income\", \"price_usd\": 114.4}, {\"Unnamed: 0\": 439, \"model\": \"Apple Pencil (2nd generation)\", \"country\": \"United States\", \"region\": \"North America\", \"income_group\": \"High income\", \"price_usd\": 129.0}]}}, {\"mode\": \"vega-lite\"});\n",
       "</script>"
      ],
      "text/plain": [
       "alt.Chart(...)"
      ]
     },
     "metadata": {},
     "output_type": "display_data"
    }
   ],
   "source": [
    "v = 10\n",
    "f = plot_data(data = list(modelsdict.values())[v])\n",
    "f.bar_product(x = 'price_usd', y = 'country', z = 'income_group', article = list(modelsdict.keys())[v], \n",
    "       xt = 'Price in USD', yt = 'Country', zt = 'Income Group')"
   ]
  },
  {
   "cell_type": "markdown",
   "id": "d4703dc1",
   "metadata": {},
   "source": [
    "- The best price for Apple Pencil is located in Turkey."
   ]
  },
  {
   "cell_type": "code",
   "execution_count": 27,
   "id": "f6912735",
   "metadata": {},
   "outputs": [
    {
     "data": {
      "text/html": [
       "\n",
       "<div id=\"altair-viz-0ab17e6a0a26432a82cd4feadf334434\"></div>\n",
       "<script type=\"text/javascript\">\n",
       "  (function(spec, embedOpt){\n",
       "    let outputDiv = document.currentScript.previousElementSibling;\n",
       "    if (outputDiv.id !== \"altair-viz-0ab17e6a0a26432a82cd4feadf334434\") {\n",
       "      outputDiv = document.getElementById(\"altair-viz-0ab17e6a0a26432a82cd4feadf334434\");\n",
       "    }\n",
       "    const paths = {\n",
       "      \"vega\": \"https://cdn.jsdelivr.net/npm//vega@5?noext\",\n",
       "      \"vega-lib\": \"https://cdn.jsdelivr.net/npm//vega-lib?noext\",\n",
       "      \"vega-lite\": \"https://cdn.jsdelivr.net/npm//vega-lite@4.8.1?noext\",\n",
       "      \"vega-embed\": \"https://cdn.jsdelivr.net/npm//vega-embed@6?noext\",\n",
       "    };\n",
       "\n",
       "    function loadScript(lib) {\n",
       "      return new Promise(function(resolve, reject) {\n",
       "        var s = document.createElement('script');\n",
       "        s.src = paths[lib];\n",
       "        s.async = true;\n",
       "        s.onload = () => resolve(paths[lib]);\n",
       "        s.onerror = () => reject(`Error loading script: ${paths[lib]}`);\n",
       "        document.getElementsByTagName(\"head\")[0].appendChild(s);\n",
       "      });\n",
       "    }\n",
       "\n",
       "    function showError(err) {\n",
       "      outputDiv.innerHTML = `<div class=\"error\" style=\"color:red;\">${err}</div>`;\n",
       "      throw err;\n",
       "    }\n",
       "\n",
       "    function displayChart(vegaEmbed) {\n",
       "      vegaEmbed(outputDiv, spec, embedOpt)\n",
       "        .catch(err => showError(`Javascript Error: ${err.message}<br>This usually means there's a typo in your chart specification. See the javascript console for the full traceback.`));\n",
       "    }\n",
       "\n",
       "    if(typeof define === \"function\" && define.amd) {\n",
       "      requirejs.config({paths});\n",
       "      require([\"vega-embed\"], displayChart, err => showError(`Error loading script: ${err.message}`));\n",
       "    } else if (typeof vegaEmbed === \"function\") {\n",
       "      displayChart(vegaEmbed);\n",
       "    } else {\n",
       "      loadScript(\"vega\")\n",
       "        .then(() => loadScript(\"vega-lite\"))\n",
       "        .then(() => loadScript(\"vega-embed\"))\n",
       "        .catch(showError)\n",
       "        .then(() => displayChart(vegaEmbed));\n",
       "    }\n",
       "  })({\"config\": {\"view\": {\"continuousWidth\": 400, \"continuousHeight\": 300}, \"axis\": {\"labelFontSize\": 13, \"titleColor\": \"#364547\", \"titleFontSize\": 13}, \"axisX\": {\"labelAngle\": 0}, \"font\": \"Roboto\", \"legend\": {\"labelFontSize\": 13, \"titleColor\": \"#364547\", \"titleFontSize\": 14}, \"title\": {\"align\": \"center\", \"color\": \"#364547\", \"fontSize\": 22}}, \"data\": {\"name\": \"data-bce0e5f0dcf7eb31c7887beb56b17072\"}, \"mark\": \"bar\", \"encoding\": {\"color\": {\"type\": \"nominal\", \"field\": \"income_group\", \"legend\": {\"title\": \"Income Group\"}}, \"opacity\": {\"condition\": {\"value\": 1.0, \"selection\": \"selector013\"}, \"value\": 0.1}, \"tooltip\": [{\"type\": \"nominal\", \"field\": \"income_group\"}, {\"type\": \"nominal\", \"field\": \"country\"}, {\"type\": \"quantitative\", \"field\": \"price_usd\"}], \"x\": {\"type\": \"quantitative\", \"field\": \"price_usd\", \"title\": \"Price in USD\"}, \"y\": {\"type\": \"nominal\", \"field\": \"country\", \"title\": \"Country\"}}, \"height\": 550, \"selection\": {\"selector013\": {\"type\": \"single\", \"fields\": [\"income_group\"], \"bind\": {\"input\": \"select\", \"options\": [\"High income\", \"Upper middle income\", \"Lower middle income\"], \"name\": \"income_group   \"}}}, \"title\": \"24-inch iMac\\u00b2 prices in 26 countries\", \"transform\": [{\"filter\": \"(isValid(datum.income_group))\"}], \"width\": 550, \"$schema\": \"https://vega.github.io/schema/vega-lite/v4.8.1.json\", \"datasets\": {\"data-bce0e5f0dcf7eb31c7887beb56b17072\": [{\"Unnamed: 0\": 14, \"model\": \"24-inch iMac\\u00b2\", \"country\": \"Australia\", \"region\": \"East Asia & Pacific\", \"income_group\": \"High income\", \"price_usd\": 1374.24}, {\"Unnamed: 0\": 32, \"model\": \"24-inch iMac\\u00b2\", \"country\": \"Austria\", \"region\": \"Europe & Central Asia\", \"income_group\": \"High income\", \"price_usd\": 1645.34}, {\"Unnamed: 0\": 49, \"model\": \"24-inch iMac\\u00b2\", \"country\": \"Germany\", \"region\": \"Europe & Central Asia\", \"income_group\": \"High income\", \"price_usd\": 1645.34}, {\"Unnamed: 0\": 66, \"model\": \"24-inch iMac\\u00b2\", \"country\": \"Spain\", \"region\": \"Europe & Central Asia\", \"income_group\": \"High income\", \"price_usd\": 1645.34}, {\"Unnamed: 0\": 83, \"model\": \"24-inch iMac\\u00b2\", \"country\": \"Finland\", \"region\": \"Europe & Central Asia\", \"income_group\": \"High income\", \"price_usd\": 1702.11}, {\"Unnamed: 0\": 100, \"model\": \"24-inch iMac\\u00b2\", \"country\": \"France\", \"region\": \"Europe & Central Asia\", \"income_group\": \"High income\", \"price_usd\": 1645.34}, {\"Unnamed: 0\": 117, \"model\": \"24-inch iMac\\u00b2\", \"country\": \"Ireland\", \"region\": \"Europe & Central Asia\", \"income_group\": \"High income\", \"price_usd\": 1702.11}, {\"Unnamed: 0\": 134, \"model\": \"24-inch iMac\\u00b2\", \"country\": \"Italy\", \"region\": \"Europe & Central Asia\", \"income_group\": \"High income\", \"price_usd\": 1702.11}, {\"Unnamed: 0\": 151, \"model\": \"24-inch iMac\\u00b2\", \"country\": \"Luxembourg\", \"region\": \"Europe & Central Asia\", \"income_group\": \"High income\", \"price_usd\": 1590.95}, {\"Unnamed: 0\": 168, \"model\": \"24-inch iMac\\u00b2\", \"country\": \"Netherlands\", \"region\": \"Europe & Central Asia\", \"income_group\": \"High income\", \"price_usd\": 1645.34}, {\"Unnamed: 0\": 185, \"model\": \"24-inch iMac\\u00b2\", \"country\": \"Portugal\", \"region\": \"Europe & Central Asia\", \"income_group\": \"High income\", \"price_usd\": 1702.11}, {\"Unnamed: 0\": 201, \"model\": \"24-inch iMac\\u00b2\", \"country\": \"Brazil\", \"region\": \"Latin America & Caribbean\", \"income_group\": \"Upper middle income\", \"price_usd\": 3145.1}, {\"Unnamed: 0\": 218, \"model\": \"24-inch iMac\\u00b2\", \"country\": \"Canada\", \"region\": \"North America\", \"income_group\": \"High income\", \"price_usd\": 1259.13}, {\"Unnamed: 0\": 235, \"model\": \"24-inch iMac\\u00b2\", \"country\": \"Czech Republic\", \"region\": \"Europe & Central Asia\", \"income_group\": \"High income\", \"price_usd\": 1738.16}, {\"Unnamed: 0\": 252, \"model\": \"24-inch iMac\\u00b2\", \"country\": \"Denmark\", \"region\": \"Europe & Central Asia\", \"income_group\": \"High income\", \"price_usd\": 1763.96}, {\"Unnamed: 0\": 269, \"model\": \"24-inch iMac\\u00b2\", \"country\": \"Hungary\", \"region\": \"Europe & Central Asia\", \"income_group\": \"High income\", \"price_usd\": 1667.51}, {\"Unnamed: 0\": 287, \"model\": \"24-inch iMac\\u00b2\", \"country\": \"India\", \"region\": \"South Asia\", \"income_group\": \"Lower middle income\", \"price_usd\": 1613.21}, {\"Unnamed: 0\": 304, \"model\": \"24-inch iMac\\u00b2\", \"country\": \"Mexico\", \"region\": \"Latin America & Caribbean\", \"income_group\": \"Upper middle income\", \"price_usd\": 1637.75}, {\"Unnamed: 0\": 321, \"model\": \"24-inch iMac\\u00b2\", \"country\": \"Norway\", \"region\": \"Europe & Central Asia\", \"income_group\": \"High income\", \"price_usd\": 1735.95}, {\"Unnamed: 0\": 338, \"model\": \"24-inch iMac\\u00b2\", \"country\": \"Philippines\", \"region\": \"East Asia & Pacific\", \"income_group\": \"Lower middle income\", \"price_usd\": 1447.27}, {\"Unnamed: 0\": 355, \"model\": \"24-inch iMac\\u00b2\", \"country\": \"Poland\", \"region\": \"Europe & Central Asia\", \"income_group\": \"High income\", \"price_usd\": 1682.16}, {\"Unnamed: 0\": 372, \"model\": \"24-inch iMac\\u00b2\", \"country\": \"Russia\", \"region\": \"Europe & Central Asia\", \"income_group\": \"Upper middle income\", \"price_usd\": 1746.14}, {\"Unnamed: 0\": 389, \"model\": \"24-inch iMac\\u00b2\", \"country\": \"Sweden\", \"region\": \"Europe & Central Asia\", \"income_group\": \"High income\", \"price_usd\": 1764.05}, {\"Unnamed: 0\": 406, \"model\": \"24-inch iMac\\u00b2\", \"country\": \"Thailand\", \"region\": \"East Asia & Pacific\", \"income_group\": \"Upper middle income\", \"price_usd\": 1293.32}, {\"Unnamed: 0\": 423, \"model\": \"24-inch iMac\\u00b2\", \"country\": \"Turkey\", \"region\": \"Europe & Central Asia\", \"income_group\": \"Upper middle income\", \"price_usd\": 1430.81}, {\"Unnamed: 0\": 440, \"model\": \"24-inch iMac\\u00b2\", \"country\": \"United States\", \"region\": \"North America\", \"income_group\": \"High income\", \"price_usd\": 1299.0}]}}, {\"mode\": \"vega-lite\"});\n",
       "</script>"
      ],
      "text/plain": [
       "alt.Chart(...)"
      ]
     },
     "metadata": {},
     "output_type": "display_data"
    }
   ],
   "source": [
    "v = 11\n",
    "f = plot_data(data = list(modelsdict.values())[v])\n",
    "f.bar_product(x = 'price_usd', y = 'country', z = 'income_group', article = list(modelsdict.keys())[v], \n",
    "       xt = 'Price in USD', yt = 'Country', zt = 'Income Group')"
   ]
  },
  {
   "cell_type": "markdown",
   "id": "2dc3d46e",
   "metadata": {},
   "source": [
    "* Thailand is the cheapest country to buy the 24-inch iMac (\\\\$1293.32). The cost in Brazil is 2.42 times the price in the United States. (\\\\$3145.1)"
   ]
  },
  {
   "cell_type": "code",
   "execution_count": 28,
   "id": "45249536",
   "metadata": {},
   "outputs": [
    {
     "data": {
      "text/html": [
       "\n",
       "<div id=\"altair-viz-e8618123ab9c4e08bb0d5316487f2f59\"></div>\n",
       "<script type=\"text/javascript\">\n",
       "  (function(spec, embedOpt){\n",
       "    let outputDiv = document.currentScript.previousElementSibling;\n",
       "    if (outputDiv.id !== \"altair-viz-e8618123ab9c4e08bb0d5316487f2f59\") {\n",
       "      outputDiv = document.getElementById(\"altair-viz-e8618123ab9c4e08bb0d5316487f2f59\");\n",
       "    }\n",
       "    const paths = {\n",
       "      \"vega\": \"https://cdn.jsdelivr.net/npm//vega@5?noext\",\n",
       "      \"vega-lib\": \"https://cdn.jsdelivr.net/npm//vega-lib?noext\",\n",
       "      \"vega-lite\": \"https://cdn.jsdelivr.net/npm//vega-lite@4.8.1?noext\",\n",
       "      \"vega-embed\": \"https://cdn.jsdelivr.net/npm//vega-embed@6?noext\",\n",
       "    };\n",
       "\n",
       "    function loadScript(lib) {\n",
       "      return new Promise(function(resolve, reject) {\n",
       "        var s = document.createElement('script');\n",
       "        s.src = paths[lib];\n",
       "        s.async = true;\n",
       "        s.onload = () => resolve(paths[lib]);\n",
       "        s.onerror = () => reject(`Error loading script: ${paths[lib]}`);\n",
       "        document.getElementsByTagName(\"head\")[0].appendChild(s);\n",
       "      });\n",
       "    }\n",
       "\n",
       "    function showError(err) {\n",
       "      outputDiv.innerHTML = `<div class=\"error\" style=\"color:red;\">${err}</div>`;\n",
       "      throw err;\n",
       "    }\n",
       "\n",
       "    function displayChart(vegaEmbed) {\n",
       "      vegaEmbed(outputDiv, spec, embedOpt)\n",
       "        .catch(err => showError(`Javascript Error: ${err.message}<br>This usually means there's a typo in your chart specification. See the javascript console for the full traceback.`));\n",
       "    }\n",
       "\n",
       "    if(typeof define === \"function\" && define.amd) {\n",
       "      requirejs.config({paths});\n",
       "      require([\"vega-embed\"], displayChart, err => showError(`Error loading script: ${err.message}`));\n",
       "    } else if (typeof vegaEmbed === \"function\") {\n",
       "      displayChart(vegaEmbed);\n",
       "    } else {\n",
       "      loadScript(\"vega\")\n",
       "        .then(() => loadScript(\"vega-lite\"))\n",
       "        .then(() => loadScript(\"vega-embed\"))\n",
       "        .catch(showError)\n",
       "        .then(() => displayChart(vegaEmbed));\n",
       "    }\n",
       "  })({\"config\": {\"view\": {\"continuousWidth\": 400, \"continuousHeight\": 300}, \"axis\": {\"labelFontSize\": 13, \"titleColor\": \"#364547\", \"titleFontSize\": 13}, \"axisX\": {\"labelAngle\": 0}, \"font\": \"Roboto\", \"legend\": {\"labelFontSize\": 13, \"titleColor\": \"#364547\", \"titleFontSize\": 14}, \"title\": {\"align\": \"center\", \"color\": \"#364547\", \"fontSize\": 22}}, \"data\": {\"name\": \"data-cfcab113b4c8f6be2c605b41d677d65c\"}, \"mark\": \"bar\", \"encoding\": {\"color\": {\"type\": \"nominal\", \"field\": \"income_group\", \"legend\": {\"title\": \"Income Group\"}}, \"opacity\": {\"condition\": {\"value\": 1.0, \"selection\": \"selector014\"}, \"value\": 0.1}, \"tooltip\": [{\"type\": \"nominal\", \"field\": \"income_group\"}, {\"type\": \"nominal\", \"field\": \"country\"}, {\"type\": \"quantitative\", \"field\": \"price_usd\"}], \"x\": {\"type\": \"quantitative\", \"field\": \"price_usd\", \"title\": \"Price in USD\"}, \"y\": {\"type\": \"nominal\", \"field\": \"country\", \"title\": \"Country\"}}, \"height\": 550, \"selection\": {\"selector014\": {\"type\": \"single\", \"fields\": [\"income_group\"], \"bind\": {\"input\": \"select\", \"options\": [\"High income\", \"Upper middle income\", \"Lower middle income\"], \"name\": \"income_group   \"}}}, \"title\": \"MacBook Air prices in 26 countries\", \"transform\": [{\"filter\": \"(isValid(datum.income_group))\"}], \"width\": 550, \"$schema\": \"https://vega.github.io/schema/vega-lite/v4.8.1.json\", \"datasets\": {\"data-cfcab113b4c8f6be2c605b41d677d65c\": [{\"Unnamed: 0\": 15, \"model\": \"MacBook Air\", \"country\": \"Australia\", \"region\": \"East Asia & Pacific\", \"income_group\": \"High income\", \"price_usd\": 1084.77}, {\"Unnamed: 0\": 33, \"model\": \"MacBook Air\", \"country\": \"Austria\", \"region\": \"Europe & Central Asia\", \"income_group\": \"High income\", \"price_usd\": 1281.98}, {\"Unnamed: 0\": 50, \"model\": \"MacBook Air\", \"country\": \"Germany\", \"region\": \"Europe & Central Asia\", \"income_group\": \"High income\", \"price_usd\": 1281.98}, {\"Unnamed: 0\": 67, \"model\": \"MacBook Air\", \"country\": \"Spain\", \"region\": \"Europe & Central Asia\", \"income_group\": \"High income\", \"price_usd\": 1281.98}, {\"Unnamed: 0\": 84, \"model\": \"MacBook Air\", \"country\": \"Finland\", \"region\": \"Europe & Central Asia\", \"income_group\": \"High income\", \"price_usd\": 1316.04}, {\"Unnamed: 0\": 101, \"model\": \"MacBook Air\", \"country\": \"France\", \"region\": \"Europe & Central Asia\", \"income_group\": \"High income\", \"price_usd\": 1281.98}, {\"Unnamed: 0\": 118, \"model\": \"MacBook Air\", \"country\": \"Ireland\", \"region\": \"Europe & Central Asia\", \"income_group\": \"High income\", \"price_usd\": 1281.98}, {\"Unnamed: 0\": 135, \"model\": \"MacBook Air\", \"country\": \"Italy\", \"region\": \"Europe & Central Asia\", \"income_group\": \"High income\", \"price_usd\": 1316.04}, {\"Unnamed: 0\": 152, \"model\": \"MacBook Air\", \"country\": \"Luxembourg\", \"region\": \"Europe & Central Asia\", \"income_group\": \"High income\", \"price_usd\": 1239.6}, {\"Unnamed: 0\": 169, \"model\": \"MacBook Air\", \"country\": \"Netherlands\", \"region\": \"Europe & Central Asia\", \"income_group\": \"High income\", \"price_usd\": 1282.09}, {\"Unnamed: 0\": 186, \"model\": \"MacBook Air\", \"country\": \"Portugal\", \"region\": \"Europe & Central Asia\", \"income_group\": \"High income\", \"price_usd\": 1316.04}, {\"Unnamed: 0\": 202, \"model\": \"MacBook Air\", \"country\": \"Brazil\", \"region\": \"Latin America & Caribbean\", \"income_group\": \"Upper middle income\", \"price_usd\": 2323.04}, {\"Unnamed: 0\": 219, \"model\": \"MacBook Air\", \"country\": \"Canada\", \"region\": \"North America\", \"income_group\": \"High income\", \"price_usd\": 1022.89}, {\"Unnamed: 0\": 236, \"model\": \"MacBook Air\", \"country\": \"Czech Republic\", \"region\": \"Europe & Central Asia\", \"income_group\": \"High income\", \"price_usd\": 1372.13}, {\"Unnamed: 0\": 253, \"model\": \"MacBook Air\", \"country\": \"Denmark\", \"region\": \"Europe & Central Asia\", \"income_group\": \"High income\", \"price_usd\": 1336.52}, {\"Unnamed: 0\": 270, \"model\": \"MacBook Air\", \"country\": \"Hungary\", \"region\": \"Europe & Central Asia\", \"income_group\": \"High income\", \"price_usd\": 1327.82}, {\"Unnamed: 0\": 288, \"model\": \"MacBook Air\", \"country\": \"India\", \"region\": \"South Asia\", \"income_group\": \"Lower middle income\", \"price_usd\": 1249.93}, {\"Unnamed: 0\": 305, \"model\": \"MacBook Air\", \"country\": \"Mexico\", \"region\": \"Latin America & Caribbean\", \"income_group\": \"Upper middle income\", \"price_usd\": 1271.08}, {\"Unnamed: 0\": 322, \"model\": \"MacBook Air\", \"country\": \"Norway\", \"region\": \"Europe & Central Asia\", \"income_group\": \"High income\", \"price_usd\": 1361.29}, {\"Unnamed: 0\": 339, \"model\": \"MacBook Air\", \"country\": \"Philippines\", \"region\": \"East Asia & Pacific\", \"income_group\": \"Lower middle income\", \"price_usd\": 1075.63}, {\"Unnamed: 0\": 356, \"model\": \"MacBook Air\", \"country\": \"Poland\", \"region\": \"Europe & Central Asia\", \"income_group\": \"High income\", \"price_usd\": 1286.3}, {\"Unnamed: 0\": 373, \"model\": \"MacBook Air\", \"country\": \"Russia\", \"region\": \"Europe & Central Asia\", \"income_group\": \"Upper middle income\", \"price_usd\": 1343.16}, {\"Unnamed: 0\": 390, \"model\": \"MacBook Air\", \"country\": \"Sweden\", \"region\": \"Europe & Central Asia\", \"income_group\": \"High income\", \"price_usd\": 1378.04}, {\"Unnamed: 0\": 407, \"model\": \"MacBook Air\", \"country\": \"Thailand\", \"region\": \"East Asia & Pacific\", \"income_group\": \"Upper middle income\", \"price_usd\": 991.85}, {\"Unnamed: 0\": 424, \"model\": \"MacBook Air\", \"country\": \"Turkey\", \"region\": \"Europe & Central Asia\", \"income_group\": \"Upper middle income\", \"price_usd\": 1129.57}, {\"Unnamed: 0\": 441, \"model\": \"MacBook Air\", \"country\": \"United States\", \"region\": \"North America\", \"income_group\": \"High income\", \"price_usd\": 999.0}]}}, {\"mode\": \"vega-lite\"});\n",
       "</script>"
      ],
      "text/plain": [
       "alt.Chart(...)"
      ]
     },
     "metadata": {},
     "output_type": "display_data"
    }
   ],
   "source": [
    "v = 12\n",
    "f = plot_data(data = list(modelsdict.values())[v])\n",
    "f.bar_product(x = 'price_usd', y = 'country', z = 'income_group', article = list(modelsdict.keys())[v], \n",
    "       xt = 'Price in USD', yt = 'Country', zt = 'Income Group')"
   ]
  },
  {
   "cell_type": "markdown",
   "id": "2a864002",
   "metadata": {},
   "source": [
    "* MacBook Air is cheapest in Thailand."
   ]
  },
  {
   "cell_type": "code",
   "execution_count": 29,
   "id": "9cfd3bfc",
   "metadata": {},
   "outputs": [
    {
     "data": {
      "text/html": [
       "\n",
       "<div id=\"altair-viz-0950984e01e3456dae89f1a82eeccbdb\"></div>\n",
       "<script type=\"text/javascript\">\n",
       "  (function(spec, embedOpt){\n",
       "    let outputDiv = document.currentScript.previousElementSibling;\n",
       "    if (outputDiv.id !== \"altair-viz-0950984e01e3456dae89f1a82eeccbdb\") {\n",
       "      outputDiv = document.getElementById(\"altair-viz-0950984e01e3456dae89f1a82eeccbdb\");\n",
       "    }\n",
       "    const paths = {\n",
       "      \"vega\": \"https://cdn.jsdelivr.net/npm//vega@5?noext\",\n",
       "      \"vega-lib\": \"https://cdn.jsdelivr.net/npm//vega-lib?noext\",\n",
       "      \"vega-lite\": \"https://cdn.jsdelivr.net/npm//vega-lite@4.8.1?noext\",\n",
       "      \"vega-embed\": \"https://cdn.jsdelivr.net/npm//vega-embed@6?noext\",\n",
       "    };\n",
       "\n",
       "    function loadScript(lib) {\n",
       "      return new Promise(function(resolve, reject) {\n",
       "        var s = document.createElement('script');\n",
       "        s.src = paths[lib];\n",
       "        s.async = true;\n",
       "        s.onload = () => resolve(paths[lib]);\n",
       "        s.onerror = () => reject(`Error loading script: ${paths[lib]}`);\n",
       "        document.getElementsByTagName(\"head\")[0].appendChild(s);\n",
       "      });\n",
       "    }\n",
       "\n",
       "    function showError(err) {\n",
       "      outputDiv.innerHTML = `<div class=\"error\" style=\"color:red;\">${err}</div>`;\n",
       "      throw err;\n",
       "    }\n",
       "\n",
       "    function displayChart(vegaEmbed) {\n",
       "      vegaEmbed(outputDiv, spec, embedOpt)\n",
       "        .catch(err => showError(`Javascript Error: ${err.message}<br>This usually means there's a typo in your chart specification. See the javascript console for the full traceback.`));\n",
       "    }\n",
       "\n",
       "    if(typeof define === \"function\" && define.amd) {\n",
       "      requirejs.config({paths});\n",
       "      require([\"vega-embed\"], displayChart, err => showError(`Error loading script: ${err.message}`));\n",
       "    } else if (typeof vegaEmbed === \"function\") {\n",
       "      displayChart(vegaEmbed);\n",
       "    } else {\n",
       "      loadScript(\"vega\")\n",
       "        .then(() => loadScript(\"vega-lite\"))\n",
       "        .then(() => loadScript(\"vega-embed\"))\n",
       "        .catch(showError)\n",
       "        .then(() => displayChart(vegaEmbed));\n",
       "    }\n",
       "  })({\"config\": {\"view\": {\"continuousWidth\": 400, \"continuousHeight\": 300}, \"axis\": {\"labelFontSize\": 13, \"titleColor\": \"#364547\", \"titleFontSize\": 13}, \"axisX\": {\"labelAngle\": 0}, \"font\": \"Roboto\", \"legend\": {\"labelFontSize\": 13, \"titleColor\": \"#364547\", \"titleFontSize\": 14}, \"title\": {\"align\": \"center\", \"color\": \"#364547\", \"fontSize\": 22}}, \"data\": {\"name\": \"data-b26e9031636542851f94c4ae345b1a41\"}, \"mark\": \"bar\", \"encoding\": {\"color\": {\"type\": \"nominal\", \"field\": \"income_group\", \"legend\": {\"title\": \"Income Group\"}}, \"opacity\": {\"condition\": {\"value\": 1.0, \"selection\": \"selector015\"}, \"value\": 0.1}, \"tooltip\": [{\"type\": \"nominal\", \"field\": \"income_group\"}, {\"type\": \"nominal\", \"field\": \"country\"}, {\"type\": \"quantitative\", \"field\": \"price_usd\"}], \"x\": {\"type\": \"quantitative\", \"field\": \"price_usd\", \"title\": \"Price in USD\"}, \"y\": {\"type\": \"nominal\", \"field\": \"country\", \"title\": \"Country\"}}, \"height\": 550, \"selection\": {\"selector015\": {\"type\": \"single\", \"fields\": [\"income_group\"], \"bind\": {\"input\": \"select\", \"options\": [\"High income\", \"Upper middle income\", \"Lower middle income\"], \"name\": \"income_group   \"}}}, \"title\": \"Magic Mouse prices in 26 countries\", \"transform\": [{\"filter\": \"(isValid(datum.income_group))\"}], \"width\": 550, \"$schema\": \"https://vega.github.io/schema/vega-lite/v4.8.1.json\", \"datasets\": {\"data-b26e9031636542851f94c4ae345b1a41\": [{\"Unnamed: 0\": 16, \"model\": \"Magic Mouse\", \"country\": \"Australia\", \"region\": \"East Asia & Pacific\", \"income_group\": \"High income\", \"price_usd\": 78.88}, {\"Unnamed: 0\": 34, \"model\": \"Magic Mouse\", \"country\": \"Austria\", \"region\": \"Europe & Central Asia\", \"income_group\": \"High income\", \"price_usd\": 96.52}, {\"Unnamed: 0\": 51, \"model\": \"Magic Mouse\", \"country\": \"Germany\", \"region\": \"Europe & Central Asia\", \"income_group\": \"High income\", \"price_usd\": 96.52}, {\"Unnamed: 0\": 68, \"model\": \"Magic Mouse\", \"country\": \"Spain\", \"region\": \"Europe & Central Asia\", \"income_group\": \"High income\", \"price_usd\": 96.52}, {\"Unnamed: 0\": 85, \"model\": \"Magic Mouse\", \"country\": \"Finland\", \"region\": \"Europe & Central Asia\", \"income_group\": \"High income\", \"price_usd\": 96.52}, {\"Unnamed: 0\": 102, \"model\": \"Magic Mouse\", \"country\": \"France\", \"region\": \"Europe & Central Asia\", \"income_group\": \"High income\", \"price_usd\": 96.52}, {\"Unnamed: 0\": 119, \"model\": \"Magic Mouse\", \"country\": \"Ireland\", \"region\": \"Europe & Central Asia\", \"income_group\": \"High income\", \"price_usd\": 96.52}, {\"Unnamed: 0\": 136, \"model\": \"Magic Mouse\", \"country\": \"Italy\", \"region\": \"Europe & Central Asia\", \"income_group\": \"High income\", \"price_usd\": 96.52}, {\"Unnamed: 0\": 153, \"model\": \"Magic Mouse\", \"country\": \"Luxembourg\", \"region\": \"Europe & Central Asia\", \"income_group\": \"High income\", \"price_usd\": 93.33}, {\"Unnamed: 0\": 170, \"model\": \"Magic Mouse\", \"country\": \"Netherlands\", \"region\": \"Europe & Central Asia\", \"income_group\": \"High income\", \"price_usd\": 96.52}, {\"Unnamed: 0\": 187, \"model\": \"Magic Mouse\", \"country\": \"Portugal\", \"region\": \"Europe & Central Asia\", \"income_group\": \"High income\", \"price_usd\": 96.52}, {\"Unnamed: 0\": 203, \"model\": \"Magic Mouse\", \"country\": \"Brazil\", \"region\": \"Latin America & Caribbean\", \"income_group\": \"Upper middle income\", \"price_usd\": 160.66}, {\"Unnamed: 0\": 220, \"model\": \"Magic Mouse\", \"country\": \"Canada\", \"region\": \"North America\", \"income_group\": \"High income\", \"price_usd\": 70.08}, {\"Unnamed: 0\": 237, \"model\": \"Magic Mouse\", \"country\": \"Czech Republic\", \"region\": \"Europe & Central Asia\", \"income_group\": \"High income\", \"price_usd\": 104.77}, {\"Unnamed: 0\": 254, \"model\": \"Magic Mouse\", \"country\": \"Denmark\", \"region\": \"Europe & Central Asia\", \"income_group\": \"High income\", \"price_usd\": 103.65}, {\"Unnamed: 0\": 271, \"model\": \"Magic Mouse\", \"country\": \"Hungary\", \"region\": \"Europe & Central Asia\", \"income_group\": \"High income\", \"price_usd\": 108.05}, {\"Unnamed: 0\": 289, \"model\": \"Magic Mouse\", \"country\": \"India\", \"region\": \"South Asia\", \"income_group\": \"Lower middle income\", \"price_usd\": 100.91}, {\"Unnamed: 0\": 306, \"model\": \"Magic Mouse\", \"country\": \"Mexico\", \"region\": \"Latin America & Caribbean\", \"income_group\": \"Upper middle income\", \"price_usd\": 97.73}, {\"Unnamed: 0\": 323, \"model\": \"Magic Mouse\", \"country\": \"Norway\", \"region\": \"Europe & Central Asia\", \"income_group\": \"High income\", \"price_usd\": 107.74}, {\"Unnamed: 0\": 340, \"model\": \"Magic Mouse\", \"country\": \"Philippines\", \"region\": \"East Asia & Pacific\", \"income_group\": \"Lower middle income\", \"price_usd\": 78.05}, {\"Unnamed: 0\": 357, \"model\": \"Magic Mouse\", \"country\": \"Poland\", \"region\": \"Europe & Central Asia\", \"income_group\": \"High income\", \"price_usd\": 98.72}, {\"Unnamed: 0\": 374, \"model\": \"Magic Mouse\", \"country\": \"Russia\", \"region\": \"Europe & Central Asia\", \"income_group\": \"Upper middle income\", \"price_usd\": 106.12}, {\"Unnamed: 0\": 391, \"model\": \"Magic Mouse\", \"country\": \"Sweden\", \"region\": \"Europe & Central Asia\", \"income_group\": \"High income\", \"price_usd\": 98.71}, {\"Unnamed: 0\": 408, \"model\": \"Magic Mouse\", \"country\": \"Thailand\", \"region\": \"East Asia & Pacific\", \"income_group\": \"Upper middle income\", \"price_usd\": 75.07}, {\"Unnamed: 0\": 425, \"model\": \"Magic Mouse\", \"country\": \"Turkey\", \"region\": \"Europe & Central Asia\", \"income_group\": \"Upper middle income\", \"price_usd\": 82.01}, {\"Unnamed: 0\": 442, \"model\": \"Magic Mouse\", \"country\": \"United States\", \"region\": \"North America\", \"income_group\": \"High income\", \"price_usd\": 79.0}]}}, {\"mode\": \"vega-lite\"});\n",
       "</script>"
      ],
      "text/plain": [
       "alt.Chart(...)"
      ]
     },
     "metadata": {},
     "output_type": "display_data"
    }
   ],
   "source": [
    "v = 13\n",
    "f = plot_data(data = list(modelsdict.values())[v])\n",
    "f.bar_product(x = 'price_usd', y = 'country', z = 'income_group', article = list(modelsdict.keys())[v], \n",
    "       xt = 'Price in USD', yt = 'Country', zt = 'Income Group')"
   ]
  },
  {
   "cell_type": "markdown",
   "id": "a246ab68",
   "metadata": {},
   "source": [
    "* Canada offers the best price for the Magic Mouse"
   ]
  },
  {
   "cell_type": "markdown",
   "id": "b90368bf",
   "metadata": {},
   "source": [
    "# Conclusions"
   ]
  },
  {
   "cell_type": "markdown",
   "id": "ceb5d9f4",
   "metadata": {},
   "source": [
    "* Brazil is the most expensive country to buy an Apple product.\n",
    "* Turkey is the cheapest country to buy the Apple Pencil, Sport Band.\n",
    "* iMac and MacBook Air are cheaper in Thailand.\n",
    "* United States is the best country to buy iPhone, Airpods, and iWatch.\n",
    "* Most of the European countries offer similar prices.\n",
    "* The prices in Mexico are similar to Europe.\n",
    "* Canada is closes to the US in most of the articles, and offers the best price for the Magic Mouse."
   ]
  }
 ],
 "metadata": {
  "kernelspec": {
   "display_name": "Python 3 (ipykernel)",
   "language": "python",
   "name": "python3"
  },
  "language_info": {
   "codemirror_mode": {
    "name": "ipython",
    "version": 3
   },
   "file_extension": ".py",
   "mimetype": "text/x-python",
   "name": "python",
   "nbconvert_exporter": "python",
   "pygments_lexer": "ipython3",
   "version": "3.9.7"
  }
 },
 "nbformat": 4,
 "nbformat_minor": 5
}
